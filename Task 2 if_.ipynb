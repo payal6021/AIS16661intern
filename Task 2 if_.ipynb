{
 "cells": [
  {
   "cell_type": "markdown",
   "id": "9e414a0a-cefd-4dd4-9748-b25cdba68a2f",
   "metadata": {},
   "source": [
    " #         .....if  ....."
   ]
  },
  {
   "cell_type": "markdown",
   "id": "05a2cfe7-1e39-488a-bdb0-99b55b671140",
   "metadata": {},
   "source": [
    "1."
   ]
  },
  {
   "cell_type": "code",
   "execution_count": 5,
   "id": "8f1a1c8c-706a-4c6f-9617-a38a5f8a0f6e",
   "metadata": {},
   "outputs": [
    {
     "name": "stdin",
     "output_type": "stream",
     "text": [
      "Enter name: swati\n"
     ]
    },
    {
     "name": "stdout",
     "output_type": "stream",
     "text": [
      "Hello swati\n"
     ]
    }
   ],
   "source": [
    "\n",
    "name=input(\"Enter name:\")\n",
    "if name == \"swati\" :\n",
    "    print(\"Hello swati\")\n"
   ]
  },
  {
   "cell_type": "code",
   "execution_count": 4,
   "id": "4a24b82c-27d1-4216-81ed-dc21a425ecce",
   "metadata": {},
   "outputs": [
    {
     "name": "stdout",
     "output_type": "stream",
     "text": [
      "a is strictly less than 50\n"
     ]
    }
   ],
   "source": [
    "a=20\n",
    "b=50\n",
    "if a<b:\n",
    "    print(\"a is strictly less than 50\")"
   ]
  },
  {
   "cell_type": "code",
   "execution_count": 12,
   "id": "3c627023-3b44-49a7-82b1-16ef8c8ae711",
   "metadata": {},
   "outputs": [
    {
     "name": "stdout",
     "output_type": "stream",
     "text": [
      "You cant vote\n"
     ]
    }
   ],
   "source": [
    "a=12\n",
    "b=18\n",
    "if a<b:\n",
    "    print(\"You cant vote\")"
   ]
  },
  {
   "cell_type": "code",
   "execution_count": 17,
   "id": "4bc46289-96c6-4717-a81c-560150a1de7d",
   "metadata": {},
   "outputs": [
    {
     "name": "stdin",
     "output_type": "stream",
     "text": [
      "Enter marks 45\n"
     ]
    },
    {
     "name": "stdout",
     "output_type": "stream",
     "text": [
      "PASS\n"
     ]
    }
   ],
   "source": [
    "marks=int(input(\"Enter marks\"))\n",
    "if marks>=35:\n",
    "    print(\"PASS\")"
   ]
  },
  {
   "cell_type": "code",
   "execution_count": 24,
   "id": "bddd6623-9084-48bb-99fe-fba495d9c219",
   "metadata": {},
   "outputs": [
    {
     "name": "stdout",
     "output_type": "stream",
     "text": [
      "240 lies between a and b\n"
     ]
    }
   ],
   "source": [
    "a=400\n",
    "b=200\n",
    "c=240\n",
    "if a>b:\n",
    "    print(\"240 lies between a and b\")"
   ]
  },
  {
   "cell_type": "code",
   "execution_count": 23,
   "id": "071196e3-0290-49b3-b6f4-a580340e04ee",
   "metadata": {},
   "outputs": [
    {
     "name": "stdin",
     "output_type": "stream",
     "text": [
      "Enter value 45\n"
     ]
    },
    {
     "name": "stdout",
     "output_type": "stream",
     "text": [
      "a is the biggest integer value\n"
     ]
    }
   ],
   "source": [
    "values=int(input(\"Enter value\"))\n",
    "if a>=0:\n",
    "    print(\"a is the biggest integer value\")"
   ]
  },
  {
   "cell_type": "code",
   "execution_count": 26,
   "id": "75d9b85b-8495-42c9-8853-2bc54d13b468",
   "metadata": {},
   "outputs": [
    {
     "name": "stdin",
     "output_type": "stream",
     "text": [
      "Enter number 12\n"
     ]
    },
    {
     "name": "stdout",
     "output_type": "stream",
     "text": [
      "Value is even\n"
     ]
    }
   ],
   "source": [
    "a=int(input(\"Enter number\"))\n",
    "if a / 2:\n",
    "    print(\"Value is even\")"
   ]
  },
  {
   "cell_type": "code",
   "execution_count": 28,
   "id": "c37d41e9-b359-47a4-8e7a-d75722317bb9",
   "metadata": {},
   "outputs": [
    {
     "name": "stdout",
     "output_type": "stream",
     "text": [
      "YOU looking beutiful swati\n"
     ]
    }
   ],
   "source": [
    "name=\"swati\"\n",
    "if name ==\"swati\" :\n",
    "    print(\"YOU looking beutiful swati\")"
   ]
  },
  {
   "cell_type": "code",
   "execution_count": 29,
   "id": "de61ad9c-d7cd-40ae-b954-042baf8fcf94",
   "metadata": {},
   "outputs": [
    {
     "name": "stdout",
     "output_type": "stream",
     "text": [
      "At least one of the conditions is True\n"
     ]
    }
   ],
   "source": [
    "a = 200\n",
    "b = 33\n",
    "c = 500\n",
    "if a > b or a > c:\n",
    "  print(\"At least one of the conditions is True\")"
   ]
  },
  {
   "cell_type": "code",
   "execution_count": 30,
   "id": "66f65db5-12be-4eaf-880a-ebbc9a91876c",
   "metadata": {},
   "outputs": [
    {
     "name": "stdout",
     "output_type": "stream",
     "text": [
      "Above ten,\n",
      "and also above 20!\n"
     ]
    }
   ],
   "source": [
    "x = 41\n",
    "if x > 10:\n",
    "    print(\"Above ten,\")\n",
    "if x > 20:\n",
    "    print(\"and also above 20!\")\n"
   ]
  },
  {
   "cell_type": "code",
   "execution_count": null,
   "id": "d0d31cc5-fa8b-4365-b59d-61bd61ffe3f4",
   "metadata": {},
   "outputs": [],
   "source": []
  }
 ],
 "metadata": {
  "kernelspec": {
   "display_name": "Python 3 (ipykernel)",
   "language": "python",
   "name": "python3"
  },
  "language_info": {
   "codemirror_mode": {
    "name": "ipython",
    "version": 3
   },
   "file_extension": ".py",
   "mimetype": "text/x-python",
   "name": "python",
   "nbconvert_exporter": "python",
   "pygments_lexer": "ipython3",
   "version": "3.11.7"
  }
 },
 "nbformat": 4,
 "nbformat_minor": 5
}
