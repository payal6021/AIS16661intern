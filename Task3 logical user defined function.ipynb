{
 "cells": [
  {
   "cell_type": "markdown",
   "id": "241efe4c-a996-42d2-a42a-e4b757d0a8df",
   "metadata": {},
   "source": [
    "#  ..Logical user defined function.."
   ]
  },
  {
   "cell_type": "code",
   "execution_count": 3,
   "id": "974baccb-4655-4474-96ef-6b53b1970bf4",
   "metadata": {},
   "outputs": [
    {
     "name": "stdin",
     "output_type": "stream",
     "text": [
      "Enter number 13\n"
     ]
    },
    {
     "name": "stdout",
     "output_type": "stream",
     "text": [
      "the number 13 is Odd\n"
     ]
    }
   ],
   "source": [
    "def is_ev_od(n):\n",
    "    if n%2==0:\n",
    "        return \"Even\"\n",
    "    else:\n",
    "        return \"Odd\"\n",
    "no=int(input(\"Enter number\"))\n",
    "result=is_ev_od(no)\n",
    "print(\"the number\",no,\"is\",result)"
   ]
  },
  {
   "cell_type": "code",
   "execution_count": 4,
   "id": "266c824c-fa30-4ae7-be6e-4a2c5f7e8f7d",
   "metadata": {},
   "outputs": [
    {
     "name": "stdin",
     "output_type": "stream",
     "text": [
      "Enter number 14\n"
     ]
    },
    {
     "name": "stdout",
     "output_type": "stream",
     "text": [
      "the number 14 is Even\n"
     ]
    }
   ],
   "source": [
    "def is_ev_od(n):\n",
    "    if n%2==0:\n",
    "        return \"Even\"\n",
    "    else:\n",
    "        return \"Odd\"\n",
    "no=int(input(\"Enter number\"))\n",
    "result=is_ev_od(no)\n",
    "print(\"the number\",no,\"is\",result)"
   ]
  },
  {
   "cell_type": "code",
   "execution_count": 20,
   "id": "f776b3f4-4652-48be-a584-e113f6a42a22",
   "metadata": {},
   "outputs": [
    {
     "name": "stdin",
     "output_type": "stream",
     "text": [
      "enter english marks 78\n",
      "enter english marks 89\n",
      "enter english marks 90\n"
     ]
    },
    {
     "name": "stdout",
     "output_type": "stream",
     "text": [
      "percentage are 85.66666666666667\n",
      "the grade is A\n"
     ]
    }
   ],
   "source": [
    "def per(eng,mar,hindi):\n",
    "    percentage=(eng+mar+hindi)/3\n",
    "    return percentage\n",
    "m1=int(input(\"enter english marks\")) \n",
    "m2=int(input(\"enter english marks\")) \n",
    "m3=int(input(\"enter english marks\"))\n",
    "result=per(m1,m2,m3)\n",
    "print(\"percentage are\",result)\n",
    "def grade_letter(score):\n",
    "    if score>75:\n",
    "        return \"A\"\n",
    "    elif score>55 and score<75:\n",
    "        return \"B\"\n",
    "    else:\n",
    "        return \"F\"\n",
    "def display_grade(result):\n",
    "    grade=grade_letter(result)\n",
    "    print(\"the grade is:\",grade)\n",
    "dislay_grade(result)"
   ]
  },
  {
   "cell_type": "code",
   "execution_count": 24,
   "id": "2bbe8325-946a-4973-b79d-4167232610e8",
   "metadata": {},
   "outputs": [
    {
     "name": "stdin",
     "output_type": "stream",
     "text": [
      "enter a num 3\n"
     ]
    },
    {
     "name": "stdout",
     "output_type": "stream",
     "text": [
      "factorial is: 6\n"
     ]
    }
   ],
   "source": [
    "def factorial(n):\n",
    "    fact=1\n",
    "    for i in range(1,n+1):\n",
    "        fact=fact*i\n",
    "    return fact\n",
    "number=int(input(\"enter a num\"))\n",
    "f=factorial(number)\n",
    "print(\"factorial is:\",f)"
   ]
  },
  {
   "cell_type": "code",
   "execution_count": 25,
   "id": "5b44f95f-31f9-4c60-9e83-f558fc6b3f24",
   "metadata": {},
   "outputs": [
    {
     "name": "stdin",
     "output_type": "stream",
     "text": [
      "Enter Radious 2\n"
     ]
    },
    {
     "name": "stdout",
     "output_type": "stream",
     "text": [
      "12.56\n"
     ]
    }
   ],
   "source": [
    "def area(r):\n",
    "    pi=3.14\n",
    "    a=pi*r*2\n",
    "    return a\n",
    "rad=int(input(\"Enter Radious\")) \n",
    "print(area(rad))"
   ]
  },
  {
   "cell_type": "code",
   "execution_count": 28,
   "id": "2a80e5b0-497a-4307-a50e-5b758845afd6",
   "metadata": {},
   "outputs": [
    {
     "name": "stdout",
     "output_type": "stream",
     "text": [
      "maximum num: 7\n"
     ]
    }
   ],
   "source": [
    "def max(n):\n",
    "    m=n[0]\n",
    "    for x in n:\n",
    "        if x>m:\n",
    "            m=x\n",
    "    return m\n",
    "l=[3,1,3,5,7]\n",
    "max_num=max(l)\n",
    "print(\"maximum num:\",max_num)"
   ]
  },
  {
   "cell_type": "code",
   "execution_count": 29,
   "id": "43e15d71-eb8c-4903-a1a1-6d9deb79a161",
   "metadata": {},
   "outputs": [
    {
     "name": "stdin",
     "output_type": "stream",
     "text": [
      "Enter a number 19\n"
     ]
    },
    {
     "name": "stdout",
     "output_type": "stream",
     "text": [
      "It is prime\n"
     ]
    }
   ],
   "source": [
    "def prime(n):\n",
    "    if n <=1:\n",
    "        return \"not prime\"\n",
    "    else:\n",
    "        i=2\n",
    "        while i <n:\n",
    "            if n%i==0:\n",
    "                return \"it is not prime\"\n",
    "            else:\n",
    "                return \"It is prime\"\n",
    "                i=i+1\n",
    "num=int(input(\"Enter a number\"))\n",
    "print(prime(num))\n",
    "            "
   ]
  },
  {
   "cell_type": "code",
   "execution_count": 30,
   "id": "bdaf7b0c-6d83-4e80-a6ac-e82c841938d7",
   "metadata": {},
   "outputs": [
    {
     "name": "stdin",
     "output_type": "stream",
     "text": [
      "Enter a number 12\n"
     ]
    },
    {
     "name": "stdout",
     "output_type": "stream",
     "text": [
      "it is not prime\n"
     ]
    }
   ],
   "source": [
    "def prime(n):\n",
    "    if n <=1:\n",
    "        return \"not prime\"\n",
    "    else:\n",
    "        i=2\n",
    "        while i <n:\n",
    "            if n%i==0:\n",
    "                return \"it is not prime\"\n",
    "            else:\n",
    "                return \"It is prime\"\n",
    "                i=i+1\n",
    "num=int(input(\"Enter a number\"))\n",
    "print(prime(num))"
   ]
  },
  {
   "cell_type": "code",
   "execution_count": 31,
   "id": "fc58f4d6-aa6e-448e-b163-fe0a8e2f428d",
   "metadata": {},
   "outputs": [
    {
     "name": "stdin",
     "output_type": "stream",
     "text": [
      "Enter a strin Hello\n"
     ]
    },
    {
     "name": "stdout",
     "output_type": "stream",
     "text": [
      "1\n"
     ]
    }
   ],
   "source": [
    "def vowel_count(s):\n",
    "    c=0\n",
    "    vowels='aeiuoAEIOU'\n",
    "    for char in s:\n",
    "        if char in vowels:\n",
    "            c=c+1\n",
    "            return c\n",
    "st=input(\"Enter a strin\")\n",
    "v_count=vowel_count(st)\n",
    "print(v_count)"
   ]
  },
  {
   "cell_type": "code",
   "execution_count": null,
   "id": "63525b96-b964-42f6-98f6-304bf7540014",
   "metadata": {},
   "outputs": [],
   "source": []
  }
 ],
 "metadata": {
  "kernelspec": {
   "display_name": "Python 3 (ipykernel)",
   "language": "python",
   "name": "python3"
  },
  "language_info": {
   "codemirror_mode": {
    "name": "ipython",
    "version": 3
   },
   "file_extension": ".py",
   "mimetype": "text/x-python",
   "name": "python",
   "nbconvert_exporter": "python",
   "pygments_lexer": "ipython3",
   "version": "3.11.7"
  }
 },
 "nbformat": 4,
 "nbformat_minor": 5
}
