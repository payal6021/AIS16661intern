{
 "cells": [
  {
   "cell_type": "markdown",
   "id": "cee54e72-404e-4419-a8f0-ae4f36bf8dc7",
   "metadata": {},
   "source": [
    " #    ...... IF else....."
   ]
  },
  {
   "cell_type": "code",
   "execution_count": 1,
   "id": "40f57bb9-9575-4f69-b341-e7ad3c25d9a7",
   "metadata": {},
   "outputs": [
    {
     "name": "stdin",
     "output_type": "stream",
     "text": [
      "Enter name: rani\n"
     ]
    },
    {
     "name": "stdout",
     "output_type": "stream",
     "text": [
      "Hello guest\n"
     ]
    }
   ],
   "source": [
    "name=input(\"Enter name:\")\n",
    "if name == \"swati\" :\n",
    "    print(\"Hello swati\")\n",
    "else:\n",
    "    print(\"Hello guest\")"
   ]
  },
  {
   "cell_type": "code",
   "execution_count": 2,
   "id": "95c39442-99ea-43ed-96d6-1cbc0d775cfe",
   "metadata": {},
   "outputs": [
    {
     "name": "stdin",
     "output_type": "stream",
     "text": [
      "Enter name: swati\n"
     ]
    },
    {
     "name": "stdout",
     "output_type": "stream",
     "text": [
      "Hello swati\n"
     ]
    }
   ],
   "source": [
    "name=input(\"Enter name:\")\n",
    "if name == \"swati\" :\n",
    "    print(\"Hello swati\")\n",
    "else:\n",
    "    print(\"Hello guest\")"
   ]
  },
  {
   "cell_type": "code",
   "execution_count": 5,
   "id": "f493790c-3c4b-4100-be7b-e8e72f4be43d",
   "metadata": {},
   "outputs": [
    {
     "name": "stdout",
     "output_type": "stream",
     "text": [
      "b is strictly less than 50\n"
     ]
    }
   ],
   "source": [
    "a=20\n",
    "b=50\n",
    "if a<b:\n",
    "    print(\"b is strictly less than 50\")\n",
    "else:\n",
    "    print(\"b is streactly greater than 20\")"
   ]
  },
  {
   "cell_type": "code",
   "execution_count": 6,
   "id": "e8dfdeea-f8f0-41ac-98a4-4be6024cf9fb",
   "metadata": {},
   "outputs": [
    {
     "name": "stdout",
     "output_type": "stream",
     "text": [
      "You can vote\n"
     ]
    }
   ],
   "source": [
    "a=45\n",
    "b=18\n",
    "if a<b:\n",
    "    print(\"You cant vote\")\n",
    "else:\n",
    "    print(\"You can vote\")"
   ]
  },
  {
   "cell_type": "code",
   "execution_count": 9,
   "id": "00c84886-7824-4838-9022-0d1e505685ae",
   "metadata": {},
   "outputs": [
    {
     "name": "stdin",
     "output_type": "stream",
     "text": [
      "Enter value -34\n"
     ]
    },
    {
     "name": "stdout",
     "output_type": "stream",
     "text": [
      "it is negative value\n"
     ]
    }
   ],
   "source": [
    "values=int(input(\"Enter value\"))\n",
    "if a<=0:\n",
    "    print(\"a is the biggest integer value\")\n",
    "else:\n",
    "    print(\"it is negative value\")"
   ]
  },
  {
   "cell_type": "code",
   "execution_count": 15,
   "id": "cecbe3d9-d888-44c8-9e07-90a057c34972",
   "metadata": {},
   "outputs": [
    {
     "name": "stdin",
     "output_type": "stream",
     "text": [
      "Enter number 24\n"
     ]
    },
    {
     "name": "stdout",
     "output_type": "stream",
     "text": [
      "Value is even\n"
     ]
    }
   ],
   "source": [
    "a=int(input(\"Enter number\"))\n",
    "if a/2==(a/2):\n",
    "    print(\"Value is even\")\n",
    "else:\n",
    "    print(\"Value is odd\")"
   ]
  },
  {
   "cell_type": "code",
   "execution_count": 16,
   "id": "cb1e12d8-1013-4a7c-a77b-b41cc1dca1f8",
   "metadata": {},
   "outputs": [
    {
     "name": "stdin",
     "output_type": "stream",
     "text": [
      "Enter marks 22\n"
     ]
    },
    {
     "name": "stdout",
     "output_type": "stream",
     "text": [
      "Fail\n"
     ]
    }
   ],
   "source": [
    "marks=int(input(\"Enter marks\"))\n",
    "if marks>=35:\n",
    "    print(\"PASS\")\n",
    "else:\n",
    "    print(\"Fail\")"
   ]
  },
  {
   "cell_type": "code",
   "execution_count": 25,
   "id": "534b0d15-3c5a-4a34-8081-ebb712208b3e",
   "metadata": {},
   "outputs": [
    {
     "name": "stdin",
     "output_type": "stream",
     "text": [
      "Enter score 67\n"
     ]
    },
    {
     "name": "stdout",
     "output_type": "stream",
     "text": [
      "B\n"
     ]
    }
   ],
   "source": [
    "score =int(input(\"Enter score\"))\n",
    "if score >= 90:\n",
    "    print('A')\n",
    "else:\n",
    "    print('B')\n"
   ]
  },
  {
   "cell_type": "code",
   "execution_count": 28,
   "id": "4a00f3fc-5890-4f70-8d39-789d3be9e99c",
   "metadata": {},
   "outputs": [
    {
     "name": "stdout",
     "output_type": "stream",
     "text": [
      "Positive number\n"
     ]
    }
   ],
   "source": [
    "number = 45\n",
    "if number > 0:\n",
    "    print(\"Positive number\")\n",
    "else:\n",
    "    print(\"Negative number\")"
   ]
  },
  {
   "cell_type": "code",
   "execution_count": 29,
   "id": "3d14f842-cd49-4a11-9c35-355581f82cc6",
   "metadata": {},
   "outputs": [
    {
     "name": "stdout",
     "output_type": "stream",
     "text": [
      "Within the range\n"
     ]
    }
   ],
   "source": [
    "num = 25\n",
    "lower_limit = 10\n",
    "upper_limit = 30\n",
    "if lower_limit <= num <= upper_limit:\n",
    "    print(\"Within the range\")\n",
    "else:\n",
    "    print(\"Outside the range\")"
   ]
  },
  {
   "cell_type": "code",
   "execution_count": null,
   "id": "7c7af13e-d457-456d-b77c-df1ab8451785",
   "metadata": {},
   "outputs": [],
   "source": []
  }
 ],
 "metadata": {
  "kernelspec": {
   "display_name": "Python 3 (ipykernel)",
   "language": "python",
   "name": "python3"
  },
  "language_info": {
   "codemirror_mode": {
    "name": "ipython",
    "version": 3
   },
   "file_extension": ".py",
   "mimetype": "text/x-python",
   "name": "python",
   "nbconvert_exporter": "python",
   "pygments_lexer": "ipython3",
   "version": "3.11.7"
  }
 },
 "nbformat": 4,
 "nbformat_minor": 5
}
