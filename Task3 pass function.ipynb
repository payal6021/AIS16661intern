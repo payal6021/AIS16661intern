{
 "cells": [
  {
   "cell_type": "markdown",
   "id": "485a6bd0-35ea-4b86-acb3-ea9054e7aa5f",
   "metadata": {},
   "source": [
    "# .....Pass....."
   ]
  },
  {
   "cell_type": "markdown",
   "id": "36a88fba-cfd1-4a4a-9135-9a795a0bf4b2",
   "metadata": {},
   "source": [
    "\"Pass\" is used when if we dont want give any condition to the situation and we want that if condition is true else it doesnt execute and passes next"
   ]
  },
  {
   "cell_type": "code",
   "execution_count": 9,
   "id": "1d8bcd4e-cd93-4d46-90de-cd4ed30bffd3",
   "metadata": {},
   "outputs": [
    {
     "name": "stdout",
     "output_type": "stream",
     "text": [
      "Name: Bob\n",
      "Name: Charlie\n"
     ]
    }
   ],
   "source": [
    "names = [\"Alice\", \"Bob\", \"Charlie\"]\n",
    "for name in names:\n",
    "    if name == \"Alice\":\n",
    "        pass\n",
    "    else:\n",
    "        print(f\"Name: {name}\")"
   ]
  },
  {
   "cell_type": "code",
   "execution_count": 4,
   "id": "f5a2fa5c-6549-4607-bf37-b19e1e7ea1b8",
   "metadata": {},
   "outputs": [
    {
     "name": "stdout",
     "output_type": "stream",
     "text": [
      "Odd number: 1\n",
      "Odd number: 3\n",
      "Odd number: 5\n",
      "Odd number: 7\n",
      "Odd number: 9\n",
      "Odd number: 11\n"
     ]
    }
   ],
   "source": [
    "for i in range(13):\n",
    "    if i % 2 == 0:\n",
    "        pass\n",
    "    else:\n",
    "        print(f\"Odd number: {i}\")"
   ]
  },
  {
   "cell_type": "code",
   "execution_count": 9,
   "id": "6ed1f461-bd15-4c95-9839-ae66d17ed504",
   "metadata": {},
   "outputs": [
    {
     "name": "stdout",
     "output_type": "stream",
     "text": [
      "Digit: a\n",
      "Digit: 1\n",
      "Digit: b\n",
      "Digit: 2\n",
      "Digit: c\n",
      "Digit: 3\n",
      "Digit: d\n",
      "Digit: 4\n"
     ]
    }
   ],
   "source": [
    "input_string = \"a1b2c3d4\"\n",
    "for char in input_string:\n",
    "    if not char.isdigit():\n",
    "        pass\n",
    "    print(f\"Digit: {char}\")"
   ]
  },
  {
   "cell_type": "code",
   "execution_count": null,
   "id": "3629fc36-b504-47b7-942f-d33ff8589871",
   "metadata": {},
   "outputs": [],
   "source": []
  }
 ],
 "metadata": {
  "kernelspec": {
   "display_name": "Python 3 (ipykernel)",
   "language": "python",
   "name": "python3"
  },
  "language_info": {
   "codemirror_mode": {
    "name": "ipython",
    "version": 3
   },
   "file_extension": ".py",
   "mimetype": "text/x-python",
   "name": "python",
   "nbconvert_exporter": "python",
   "pygments_lexer": "ipython3",
   "version": "3.11.7"
  }
 },
 "nbformat": 4,
 "nbformat_minor": 5
}
