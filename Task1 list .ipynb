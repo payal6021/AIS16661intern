{
 "cells": [
  {
   "cell_type": "markdown",
   "id": "9daaa38f-7392-4a43-843c-5b6a68f8a8ba",
   "metadata": {},
   "source": [
    "#  ..... List data structure......\n",
    "it is similar to array the data elements can be of different data types.\n",
    "#Mutable-can change or update\r",
    "#Ordered collection-indexes starting from 0\r",
    "#\n",
    "Iterable and Hashable#\r\n",
    "Declared using [] bracket#s\r\n",
    "Each element seperate using comma i..# ,\r\n",
    "List within list is possible combina\n",
    "#List creation [] ()\r\n",
    "\n",
    "\n"
   ]
  },
  {
   "cell_type": "code",
   "execution_count": 1,
   "id": "20b771f2-8ad5-49f3-be10-83b1f25337dd",
   "metadata": {},
   "outputs": [
    {
     "data": {
      "text/plain": [
       "['apple', 100, 'banana', 5, 'cherry', 46, 'banana']"
      ]
     },
     "execution_count": 1,
     "metadata": {},
     "output_type": "execute_result"
    }
   ],
   "source": [
    "l1= [\"apple\",100, \"banana\",5, \"cherry\",46,\"banana\"]\n",
    "l1\n"
   ]
  },
  {
   "cell_type": "code",
   "execution_count": 2,
   "id": "22661400-5167-4dd0-bd91-79aa15b32864",
   "metadata": {},
   "outputs": [
    {
     "data": {
      "text/plain": [
       "list"
      ]
     },
     "execution_count": 2,
     "metadata": {},
     "output_type": "execute_result"
    }
   ],
   "source": [
    "type(l1)"
   ]
  },
  {
   "cell_type": "markdown",
   "id": "36b1627f-aea8-4e50-ba13-49884bb36c85",
   "metadata": {},
   "source": [
    "#... to find length of list...."
   ]
  },
  {
   "cell_type": "code",
   "execution_count": 4,
   "id": "73a8bf4d-4556-48f0-8e5c-9f2c5aa260c5",
   "metadata": {},
   "outputs": [
    {
     "data": {
      "text/plain": [
       "7"
      ]
     },
     "execution_count": 4,
     "metadata": {},
     "output_type": "execute_result"
    }
   ],
   "source": [
    "len(l1)"
   ]
  },
  {
   "cell_type": "markdown",
   "id": "500ad372-022b-4b7c-a9ac-3448a964dc58",
   "metadata": {},
   "source": [
    "#Accesing the items\r\n",
    "#You access the list items by referring to the index number"
   ]
  },
  {
   "cell_type": "code",
   "execution_count": 13,
   "id": "c883ad7e-9158-4f42-9fb9-d9cfd53fd27e",
   "metadata": {},
   "outputs": [
    {
     "data": {
      "text/plain": [
       "'cherry'"
      ]
     },
     "execution_count": 13,
     "metadata": {},
     "output_type": "execute_result"
    }
   ],
   "source": [
    "l1[4]"
   ]
  },
  {
   "cell_type": "markdown",
   "id": "990d13da-bd09-464d-9fb2-4373d8875243",
   "metadata": {},
   "source": [
    "# you can access the list items by referring to the slice operator\n",
    "#Slicing-We can access a range of items in a list by using the slicing operator"
   ]
  },
  {
   "cell_type": "code",
   "execution_count": 16,
   "id": "6bdf9fb8-72a2-4e3c-9825-21c11bde7f70",
   "metadata": {},
   "outputs": [
    {
     "data": {
      "text/plain": [
       "['apple', 100, 'banana', 5, 'cherry', 46, 'banana']"
      ]
     },
     "execution_count": 16,
     "metadata": {},
     "output_type": "execute_result"
    }
   ],
   "source": [
    "l1[:]"
   ]
  },
  {
   "cell_type": "markdown",
   "id": "924736a3-9d03-4ab5-8ebe-88aaccb64a7a",
   "metadata": {},
   "source": [
    "# nearest list"
   ]
  },
  {
   "cell_type": "code",
   "execution_count": 18,
   "id": "a3ce46c7-c19e-480d-b191-36b09726067a",
   "metadata": {},
   "outputs": [],
   "source": [
    "n_list = [\"Happy\", [2,0,1,[5]]]\n"
   ]
  },
  {
   "cell_type": "code",
   "execution_count": 21,
   "id": "5eff6afb-1a5b-4564-8c17-dd2cc393ab30",
   "metadata": {},
   "outputs": [
    {
     "data": {
      "text/plain": [
       "'a'"
      ]
     },
     "execution_count": 21,
     "metadata": {},
     "output_type": "execute_result"
    }
   ],
   "source": [
    "n_list[0][1][-1]\n"
   ]
  },
  {
   "cell_type": "markdown",
   "id": "f8b2b55b-d43c-4dbf-b387-d40fa17ba658",
   "metadata": {},
   "source": [
    "#Negative Indexing-Python allows"
   ]
  },
  {
   "cell_type": "code",
   "execution_count": 23,
   "id": "918de368-d0b4-489e-8953-186ff3e06cc4",
   "metadata": {},
   "outputs": [
    {
     "data": {
      "text/plain": [
       "46"
      ]
     },
     "execution_count": 23,
     "metadata": {},
     "output_type": "execute_result"
    }
   ],
   "source": [
    "l1[-2]"
   ]
  },
  {
   "cell_type": "code",
   "execution_count": 24,
   "id": "8c8a99ef-f90c-424d-9c0e-759a067de9db",
   "metadata": {},
   "outputs": [],
   "source": [
    "my_list=[10,2,32,43,54,65]"
   ]
  },
  {
   "cell_type": "code",
   "execution_count": 25,
   "id": "3450b210-42a9-41b4-9c1c-436f6a1ac578",
   "metadata": {},
   "outputs": [
    {
     "data": {
      "text/plain": [
       "54"
      ]
     },
     "execution_count": 25,
     "metadata": {},
     "output_type": "execute_result"
    }
   ],
   "source": [
    "my_list[-2]"
   ]
  },
  {
   "cell_type": "markdown",
   "id": "51ea4194-a112-4234-8c16-3df777f4628a",
   "metadata": {},
   "source": [
    "# elements 3rd to 5th #start:include end: exclude"
   ]
  },
  {
   "cell_type": "code",
   "execution_count": 26,
   "id": "f7fbf2d2-ab03-4f9e-8523-31a8ffcfa42a",
   "metadata": {},
   "outputs": [
    {
     "data": {
      "text/plain": [
       "[43, 54]"
      ]
     },
     "execution_count": 26,
     "metadata": {},
     "output_type": "execute_result"
    }
   ],
   "source": [
    "my_list[3:5]"
   ]
  },
  {
   "cell_type": "markdown",
   "id": "73f3c95a-63b8-4927-9117-e1b79062d6b2",
   "metadata": {},
   "source": [
    "# elements beginning to end\r"
   ]
  },
  {
   "cell_type": "code",
   "execution_count": 27,
   "id": "0d153c18-78e9-4a82-9662-c7abd3228491",
   "metadata": {},
   "outputs": [
    {
     "name": "stdout",
     "output_type": "stream",
     "text": [
      "[10, 2, 32, 43, 54, 65]\n"
     ]
    }
   ],
   "source": [
    "print(my_list[:])\n"
   ]
  },
  {
   "cell_type": "markdown",
   "id": "bf8ec884-12fb-40c0-912e-f1ff4d40aaca",
   "metadata": {},
   "source": [
    "# elements 5th to end"
   ]
  },
  {
   "cell_type": "code",
   "execution_count": 28,
   "id": "1f263532-00ad-4c7c-9171-be2f0b4b212b",
   "metadata": {},
   "outputs": [
    {
     "name": "stdout",
     "output_type": "stream",
     "text": [
      "[65]\n"
     ]
    }
   ],
   "source": [
    "print(my_list[5:])"
   ]
  },
  {
   "cell_type": "markdown",
   "id": "b2d75e9e-8ad9-4f42-b76e-83c1d46aa9c7",
   "metadata": {},
   "source": [
    "#Change the item value\r\n",
    "#To change the value of a specific item, refer to the index number"
   ]
  },
  {
   "cell_type": "code",
   "execution_count": 34,
   "id": "7cb62d46-3edf-4537-b8fd-82172c897790",
   "metadata": {},
   "outputs": [],
   "source": [
    "my_list[2]=\"12\""
   ]
  },
  {
   "cell_type": "code",
   "execution_count": 35,
   "id": "3b9c5d49-f5ca-4102-8417-c85c8805e0ee",
   "metadata": {},
   "outputs": [
    {
     "name": "stdout",
     "output_type": "stream",
     "text": [
      "[10, 2, '12', 43, 54, 65]\n"
     ]
    }
   ],
   "source": [
    "print(my_list)"
   ]
  },
  {
   "cell_type": "markdown",
   "id": "d26a8993-6821-498a-81e2-355278f6e1f4",
   "metadata": {},
   "source": [
    "##               .....LIst methods....."
   ]
  },
  {
   "cell_type": "markdown",
   "id": "16d0af3e-70c6-4e63-b2e4-332274697991",
   "metadata": {},
   "source": [
    "# 1.append() method\n",
    "# adds an element at the end of the list\n"
   ]
  },
  {
   "cell_type": "code",
   "execution_count": 36,
   "id": "d1e6c384-350e-4eaf-a484-8a685bb44b1b",
   "metadata": {},
   "outputs": [],
   "source": [
    "my_list.append(22)"
   ]
  },
  {
   "cell_type": "code",
   "execution_count": 37,
   "id": "12949952-81ec-424b-9a45-7e4fcd6e9fb4",
   "metadata": {},
   "outputs": [
    {
     "name": "stdout",
     "output_type": "stream",
     "text": [
      "[10, 2, '12', 43, 54, 65, 22]\n"
     ]
    }
   ],
   "source": [
    "print(my_list)"
   ]
  },
  {
   "cell_type": "markdown",
   "id": "c81d2cb3-62b3-4616-a63d-1cbacf5ee6cf",
   "metadata": {},
   "source": [
    "# 2. clear() method\n",
    "#removes all the element from the list"
   ]
  },
  {
   "cell_type": "code",
   "execution_count": 39,
   "id": "09766166-09bd-4426-8026-bc59e8e4b50e",
   "metadata": {},
   "outputs": [],
   "source": [
    "my_list.clear()"
   ]
  },
  {
   "cell_type": "code",
   "execution_count": 40,
   "id": "54521a95-d6cc-40aa-be2d-d082023d03a1",
   "metadata": {},
   "outputs": [
    {
     "name": "stdout",
     "output_type": "stream",
     "text": [
      "[]\n"
     ]
    }
   ],
   "source": [
    "print(my_list)"
   ]
  },
  {
   "cell_type": "markdown",
   "id": "25ea7c76-2f43-491d-a97a-b32949672698",
   "metadata": {},
   "source": [
    "# 3. copy() method\n",
    "# return of the copy of the list"
   ]
  },
  {
   "cell_type": "code",
   "execution_count": 41,
   "id": "7e2cc0f5-152d-47e2-aa0f-b8c7de6416bb",
   "metadata": {},
   "outputs": [
    {
     "data": {
      "text/plain": [
       "[]"
      ]
     },
     "execution_count": 41,
     "metadata": {},
     "output_type": "execute_result"
    }
   ],
   "source": [
    "my_list.copy()"
   ]
  },
  {
   "cell_type": "code",
   "execution_count": 42,
   "id": "9c68c426-ec35-448a-ab7f-f262d564394d",
   "metadata": {},
   "outputs": [],
   "source": [
    "my_list=[10,2,32,43,54,65]"
   ]
  },
  {
   "cell_type": "markdown",
   "id": "e9acda67-6f1d-4bbb-b348-3e7d590264cb",
   "metadata": {},
   "source": [
    "# 4. count() method\n",
    "# return the number of element with the specified value"
   ]
  },
  {
   "cell_type": "code",
   "execution_count": 46,
   "id": "ecc94957-640b-4fb7-b567-921ae164d127",
   "metadata": {},
   "outputs": [
    {
     "data": {
      "text/plain": [
       "0"
      ]
     },
     "execution_count": 46,
     "metadata": {},
     "output_type": "execute_result"
    }
   ],
   "source": [
    "my_list.count(4)\n"
   ]
  },
  {
   "cell_type": "markdown",
   "id": "727f4e8b-d28a-4feb-b2b9-f516c10a5da6",
   "metadata": {},
   "source": [
    "# 5.extend ()\n",
    "Add the element of a list(on an iterable)to the end of the current list "
   ]
  },
  {
   "cell_type": "code",
   "execution_count": 52,
   "id": "4cf67b72-514b-4fa6-bb4b-a662f4ff2bf5",
   "metadata": {},
   "outputs": [],
   "source": [
    "my_list.extend(\"4\")"
   ]
  },
  {
   "cell_type": "markdown",
   "id": "67c6fa8b-f667-4ff5-850c-eca67a316e23",
   "metadata": {},
   "source": [
    "# print(my_list)"
   ]
  },
  {
   "cell_type": "code",
   "execution_count": 53,
   "id": "f8bee45a-4a87-469e-a866-5c690b85c76a",
   "metadata": {},
   "outputs": [
    {
     "name": "stdout",
     "output_type": "stream",
     "text": [
      "pinapple\n"
     ]
    }
   ],
   "source": [
    "print(l1)"
   ]
  },
  {
   "cell_type": "code",
   "execution_count": 56,
   "id": "b2e95d6e-b573-4949-b6b1-ee4d3a2b72e7",
   "metadata": {},
   "outputs": [],
   "source": [
    "my_list.extend(\"l1\")"
   ]
  },
  {
   "cell_type": "code",
   "execution_count": 57,
   "id": "6eea4de3-7452-45cb-8017-bfbacb73e48c",
   "metadata": {},
   "outputs": [
    {
     "name": "stdout",
     "output_type": "stream",
     "text": [
      "[10, 2, 32, 43, 54, 65, '1', '4', ',', '3', '5', '4', 'p', 'i', 'n', 'a', 'p', 'p', 'l', 'e', 'l', '1']\n"
     ]
    }
   ],
   "source": [
    "print(my_list)"
   ]
  },
  {
   "cell_type": "markdown",
   "id": "2ec9bda6-9ebf-4538-987a-353b2162865b",
   "metadata": {},
   "source": [
    "6. 78##### index () method\n",
    "returns the index of the first element with the specified value"
   ]
  },
  {
   "cell_type": "code",
   "execution_count": 61,
   "id": "399b830f-70fe-4048-9583-14261435139f",
   "metadata": {},
   "outputs": [
    {
     "data": {
      "text/plain": [
       "15"
      ]
     },
     "execution_count": 61,
     "metadata": {},
     "output_type": "execute_result"
    }
   ],
   "source": [
    "my_list.index(\"a\")"
   ]
  },
  {
   "cell_type": "markdown",
   "id": "c1e096c2-4e68-4b62-9af5-81496ccb229f",
   "metadata": {},
   "source": [
    "# 8.. insert() method\n",
    "# adds an element at the specific position"
   ]
  },
  {
   "cell_type": "code",
   "execution_count": 2,
   "id": "d1911bbd-c5bc-47ff-9cd1-7d6b7b64f703",
   "metadata": {},
   "outputs": [],
   "source": [
    "my_list=[10,2,32,43,54,65]"
   ]
  },
  {
   "cell_type": "code",
   "execution_count": 3,
   "id": "528287ad-f245-4f5b-bb0e-2f714024423d",
   "metadata": {},
   "outputs": [],
   "source": [
    "my_list.insert(0,\"payal\")"
   ]
  },
  {
   "cell_type": "code",
   "execution_count": 4,
   "id": "66f9554b-13e3-4aa5-9622-82987d9d75ae",
   "metadata": {},
   "outputs": [
    {
     "name": "stdout",
     "output_type": "stream",
     "text": [
      "['payal', 10, 2, 32, 43, 54, 65]\n"
     ]
    }
   ],
   "source": [
    "print(my_list)"
   ]
  },
  {
   "cell_type": "markdown",
   "id": "a8fa2c81-d403-46a2-919b-3ddeebbaf1e0",
   "metadata": {},
   "source": [
    "# 9. POP () method\n",
    "removes the element at the specific position"
   ]
  },
  {
   "cell_type": "code",
   "execution_count": 5,
   "id": "85a462ef-597f-4087-9890-53d1820d5553",
   "metadata": {},
   "outputs": [
    {
     "data": {
      "text/plain": [
       "2"
      ]
     },
     "execution_count": 5,
     "metadata": {},
     "output_type": "execute_result"
    }
   ],
   "source": [
    "my_list.pop(2)"
   ]
  },
  {
   "cell_type": "markdown",
   "id": "3443d09e-849c-491f-86c4-230673c03f46",
   "metadata": {},
   "source": [
    "# 10. remove () method\n",
    "# removes the item with the specified vakue"
   ]
  },
  {
   "cell_type": "code",
   "execution_count": 6,
   "id": "304af69e-ccdd-4ef9-bd79-775c0bb934a4",
   "metadata": {},
   "outputs": [],
   "source": [
    "my_list.remove(32)"
   ]
  },
  {
   "cell_type": "code",
   "execution_count": 7,
   "id": "654cda23-b517-45b8-a863-28ad40aab001",
   "metadata": {},
   "outputs": [
    {
     "name": "stdout",
     "output_type": "stream",
     "text": [
      "['payal', 10, 43, 54, 65]\n"
     ]
    }
   ],
   "source": [
    "print(my_list)"
   ]
  },
  {
   "cell_type": "markdown",
   "id": "3ae42a9e-77c2-483f-8e42-e9b27b8e06e7",
   "metadata": {},
   "source": [
    "#  11.reverse () method\n",
    "# reverses the order of the list"
   ]
  },
  {
   "cell_type": "code",
   "execution_count": 8,
   "id": "cdd1a0b7-080c-4b0a-ae06-9efffba108d4",
   "metadata": {},
   "outputs": [
    {
     "data": {
      "text/plain": [
       "[65, 54, 43, 10, 'payal']"
      ]
     },
     "execution_count": 8,
     "metadata": {},
     "output_type": "execute_result"
    }
   ],
   "source": [
    "my_list.reverse()\n",
    "my_list"
   ]
  },
  {
   "cell_type": "markdown",
   "id": "d2c1746b-1298-4caf-b638-76963a878fa0",
   "metadata": {},
   "source": [
    "# 12.sort method()\n",
    "sorts the list"
   ]
  },
  {
   "cell_type": "code",
   "execution_count": 11,
   "id": "f8b58bff-a310-4b21-aff2-06e7b7b333a6",
   "metadata": {},
   "outputs": [],
   "source": [
    "l=[19,23,12,15,36]"
   ]
  },
  {
   "cell_type": "code",
   "execution_count": 12,
   "id": "f30c176a-a28e-4670-9927-b9bd2dc3e7e1",
   "metadata": {},
   "outputs": [],
   "source": [
    "l.sort()"
   ]
  },
  {
   "cell_type": "code",
   "execution_count": 13,
   "id": "88bcb01f-673b-46ff-8f53-e9cd94bb7b12",
   "metadata": {},
   "outputs": [
    {
     "data": {
      "text/plain": [
       "[12, 15, 19, 23, 36]"
      ]
     },
     "execution_count": 13,
     "metadata": {},
     "output_type": "execute_result"
    }
   ],
   "source": [
    "l"
   ]
  },
  {
   "cell_type": "code",
   "execution_count": null,
   "id": "dc70a769-f43c-422f-86e2-086f73262dea",
   "metadata": {},
   "outputs": [],
   "source": []
  }
 ],
 "metadata": {
  "kernelspec": {
   "display_name": "Python 3 (ipykernel)",
   "language": "python",
   "name": "python3"
  },
  "language_info": {
   "codemirror_mode": {
    "name": "ipython",
    "version": 3
   },
   "file_extension": ".py",
   "mimetype": "text/x-python",
   "name": "python",
   "nbconvert_exporter": "python",
   "pygments_lexer": "ipython3",
   "version": "3.11.7"
  }
 },
 "nbformat": 4,
 "nbformat_minor": 5
}
