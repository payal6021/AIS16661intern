{
 "cells": [
  {
   "cell_type": "markdown",
   "id": "e2c44f27-0f3a-4931-a85c-67b11dabe3f3",
   "metadata": {},
   "source": [
    "# .... if  elif else...."
   ]
  },
  {
   "cell_type": "code",
   "execution_count": 2,
   "id": "fccf2458-c224-42f0-acab-68da27549190",
   "metadata": {},
   "outputs": [
    {
     "name": "stdin",
     "output_type": "stream",
     "text": [
      "Enter name: ram\n"
     ]
    },
    {
     "name": "stdout",
     "output_type": "stream",
     "text": [
      "Hello guest\n"
     ]
    }
   ],
   "source": [
    "name=input(\"Enter name:\")\n",
    "if name == \"swati\" :\n",
    "    print(\"Hello swati\")\n",
    "elif name==\"Ram\"  :\n",
    "    print(\"Hello ram\")\n",
    "else:\n",
    "    print(\"Hello guest\")\n",
    "\n"
   ]
  },
  {
   "cell_type": "code",
   "execution_count": 4,
   "id": "bf9ec5e6-8d49-4225-b80b-80f3a8eb0b5e",
   "metadata": {},
   "outputs": [
    {
     "name": "stdout",
     "output_type": "stream",
     "text": [
      "Category: Senior\n"
     ]
    }
   ],
   "source": [
    "age = 65\n",
    "if age < 18:\n",
    "    category = \"Child\"\n",
    "elif age < 65:\n",
    "    category = \"Adult\"\n",
    "else:\n",
    "    category = \"Senior\"\n",
    "print(\"Category:\", category)"
   ]
  },
  {
   "cell_type": "code",
   "execution_count": 11,
   "id": "3453c953-2402-4e75-83d8-f5ebb9f9b92c",
   "metadata": {},
   "outputs": [
    {
     "name": "stdin",
     "output_type": "stream",
     "text": [
      "Enter marks 45\n"
     ]
    },
    {
     "name": "stdout",
     "output_type": "stream",
     "text": [
      "satisfactory\n"
     ]
    }
   ],
   "source": [
    "marks=int(input(\"Enter marks\"))\n",
    "if marks >=90: \n",
    "    print(\"excellant\")\n",
    "elif marks >= 50 :\n",
    "    print(\"good\")\n",
    "elif marks >=35:\n",
    "    print(\"satisfactory\")\n",
    "else:\n",
    "    print(\"fail\")"
   ]
  },
  {
   "cell_type": "code",
   "execution_count": 13,
   "id": "cef360eb-a2ee-4425-9763-49cdd587a9a9",
   "metadata": {},
   "outputs": [
    {
     "name": "stdout",
     "output_type": "stream",
     "text": [
      "Grade: F\n"
     ]
    }
   ],
   "source": [
    "percentage = 45\n",
    "if percentage >= 90:\n",
    "    print(\"Grade: A\")\n",
    "elif percentage >= 80:\n",
    "    print(\"Grade: B\")\n",
    "elif percentage >= 70:\n",
    "    print(\"Grade: C\")\n",
    "elif percentage >= 60:\n",
    "    print(\"Grade: D\")\n",
    "else:\n",
    "    print(\"Grade: F\")"
   ]
  },
  {
   "cell_type": "code",
   "execution_count": 26,
   "id": "c085452f-1dc0-4fc7-93dd-9c8d262b2ae3",
   "metadata": {},
   "outputs": [
    {
     "name": "stdout",
     "output_type": "stream",
     "text": [
      "10\n"
     ]
    }
   ],
   "source": [
    "amount = 2500\n",
    "if amount < 2000:\n",
    "    print(0)\n",
    "elif amount < 3000:\n",
    "    print(10)\n",
    "elif amount < 10000:\n",
    "    print(30)\n",
    "else:\n",
    "    discount = 30"
   ]
  },
  {
   "cell_type": "code",
   "execution_count": 28,
   "id": "eba6bba0-4eb4-4e2c-8b7b-bcfdc8b4cd12",
   "metadata": {},
   "outputs": [
    {
     "name": "stdout",
     "output_type": "stream",
     "text": [
      "Summer\n"
     ]
    }
   ],
   "source": [
    "month = \"March\"\n",
    "if month in (\"January\", \"February\", \"December\"):\n",
    "    print(\"Winter\")\n",
    "elif month in (\"March\", \"April\", \"May\"):\n",
    "    print(\"Summer\")\n",
    "elif month in (\"June\", \"July\", \"August\"):\n",
    "    print(\"Spring\")\n",
    "else:\n",
    "    print(\"Autumn\")"
   ]
  },
  {
   "cell_type": "code",
   "execution_count": 34,
   "id": "d0cd2a52-db58-4547-8d8d-ee5a38ea99a0",
   "metadata": {},
   "outputs": [
    {
     "name": "stdout",
     "output_type": "stream",
     "text": [
      "Not eligible for job\n"
     ]
    }
   ],
   "source": [
    "experience = 0\n",
    "education = \"Bachelor's degree\"\n",
    "if experience >=3 :\n",
    "    print(\"Eligible for job\")\n",
    "elif education == \"Master's degree\":\n",
    "    print(\"Eligible for job\")\n",
    "else:\n",
    "    print(\"Not eligible for job\")"
   ]
  },
  {
   "cell_type": "code",
   "execution_count": 38,
   "id": "e66692f1-c65f-472b-b8f1-6a2e1eb11972",
   "metadata": {},
   "outputs": [
    {
     "name": "stdout",
     "output_type": "stream",
     "text": [
      "not healthy\n"
     ]
    }
   ],
   "source": [
    "hight=5.6 \n",
    "weight=40\n",
    "if hight >=5.6 and weight>=53:\n",
    "    print( \"healthy\")\n",
    "else:\n",
    "    print(\"not healthy\")"
   ]
  },
  {
   "cell_type": "code",
   "execution_count": 40,
   "id": "346f610e-7243-4e4d-aae6-6ee29c3c3745",
   "metadata": {},
   "outputs": [
    {
     "name": "stdout",
     "output_type": "stream",
     "text": [
      "Unknown vehicle type\n"
     ]
    }
   ],
   "source": [
    "wheels = 6\n",
    "if wheels == 2:\n",
    "    print(\"Bicycle\")\n",
    "elif wheels == 4:\n",
    "    print(\"Car\")\n",
    "elif wheels == 18:\n",
    "    print(\"Truck\")\n",
    "else:\n",
    "    print(\"Unknown vehicle type\")"
   ]
  },
  {
   "cell_type": "code",
   "execution_count": 41,
   "id": "c7c41135-f499-43dd-b140-a6a0842bd649",
   "metadata": {},
   "outputs": [
    {
     "name": "stdout",
     "output_type": "stream",
     "text": [
      "Wireless\n"
     ]
    }
   ],
   "source": [
    "connection = \"Wi-Fi\"\n",
    "if connection == \"Wi-Fi\" and \"Blotooth\":\n",
    "    print(\"Wireless\")\n",
    "elif connection == \"Ethernet\":\n",
    "    print(\"Wired\")\n",
    "else:\n",
    "    print(\"Unknown connection type\")"
   ]
  },
  {
   "cell_type": "code",
   "execution_count": null,
   "id": "66fe25a6-e19e-49e6-b9d8-8acb459b78fa",
   "metadata": {},
   "outputs": [],
   "source": []
  }
 ],
 "metadata": {
  "kernelspec": {
   "display_name": "Python 3 (ipykernel)",
   "language": "python",
   "name": "python3"
  },
  "language_info": {
   "codemirror_mode": {
    "name": "ipython",
    "version": 3
   },
   "file_extension": ".py",
   "mimetype": "text/x-python",
   "name": "python",
   "nbconvert_exporter": "python",
   "pygments_lexer": "ipython3",
   "version": "3.11.7"
  }
 },
 "nbformat": 4,
 "nbformat_minor": 5
}
