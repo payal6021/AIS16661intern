{
 "cells": [
  {
   "cell_type": "markdown",
   "id": "e89f36a5-9a09-4338-8e95-8192ea237e06",
   "metadata": {},
   "source": [
    "# Intro for Numpy :-"
   ]
  },
  {
   "cell_type": "markdown",
   "id": "83134312-38e3-48fb-9459-f14c16ee4649",
   "metadata": {},
   "source": [
    "Libraries in python=[Packages]\n",
    "Python library is a collection of functions and methods that allows you to perform many action without writing your code"
   ]
  },
  {
   "cell_type": "markdown",
   "id": "2ef3034e-7c72-42bd-b2cf-8fb1e51f3748",
   "metadata": {},
   "source": [
    "#             Python Numpy  "
   ]
  },
  {
   "cell_type": "markdown",
   "id": "4da2a03c-65af-43d6-bdc4-740e196ba7e4",
   "metadata": {},
   "source": [
    "# numpy stands for numerical python\n",
    "# It is core library for numeric and scientific computing\n",
    "# It consists of multi dimentional array object and a collection of routines for processing those arrays"
   ]
  },
  {
   "cell_type": "markdown",
   "id": "51b99adc-1ff5-44dc-bbda-62da814a63e1",
   "metadata": {},
   "source": [
    "#         creating numpy array"
   ]
  },
  {
   "cell_type": "markdown",
   "id": "d0173f5b-74bd-41ed-acc4-d8b02ac7f43f",
   "metadata": {},
   "source": [
    "# single dimensional array-(one list)"
   ]
  },
  {
   "cell_type": "markdown",
   "id": "f1a84cd2-b9c0-4c9c-8742-76eea3a803ab",
   "metadata": {},
   "source": [
    "#  In Numpy is an Fundamental Object\n",
    "> arrays are used to store homogeneous data elements in contiguous block  memory (allocate contiguously memory )"
   ]
  },
  {
   "cell_type": "markdown",
   "id": "f7415d0d-47d7-41be-b00e-0811d81f4010",
   "metadata": {},
   "source": [
    "# > all elements of an arrays are of same data type\n",
    "# > Elements of an array are store in contiguous memory location\n",
    "# > Arrays are static and cannot be realized once they are created\n",
    "# > Arrays support element wise operation\n",
    "# > NumPy array takes up less space in memory"
   ]
  },
  {
   "cell_type": "code",
   "execution_count": 2,
   "id": "635a3f9a-23bb-4d58-b86a-f9612cc4e265",
   "metadata": {},
   "outputs": [
    {
     "data": {
      "text/plain": [
       "array([10, 20, 30])"
      ]
     },
     "execution_count": 2,
     "metadata": {},
     "output_type": "execute_result"
    }
   ],
   "source": [
    "import numpy as np\n",
    "n1=np.array([10,20,30])\n",
    "n1"
   ]
  },
  {
   "cell_type": "raw",
   "id": "decacaaf-ff6b-4b67-80f9-fc66db1b046b",
   "metadata": {},
   "source": [
    "#              Multi Dimentional array"
   ]
  },
  {
   "cell_type": "code",
   "execution_count": 5,
   "id": "5b5d98ed-9fbe-4a8e-8d2d-b8cc74d4af9d",
   "metadata": {},
   "outputs": [
    {
     "data": {
      "text/plain": [
       "array([[12, 34, 56],\n",
       "       [23, 45, 67]])"
      ]
     },
     "execution_count": 5,
     "metadata": {},
     "output_type": "execute_result"
    }
   ],
   "source": [
    "import numpy as np\n",
    "n2=np.array(([12,34,56],[23,45,67]))\n",
    "n2"
   ]
  },
  {
   "cell_type": "markdown",
   "id": "c6dc0628-8bfa-47a4-ad7f-da23445faf80",
   "metadata": {},
   "source": [
    "#    Initializing numpy array"
   ]
  },
  {
   "cell_type": "markdown",
   "id": "67b0befa-08ad-4425-88c5-66bdc6125646",
   "metadata": {},
   "source": [
    "# Initializing Numpy arrays with zeros "
   ]
  },
  {
   "cell_type": "code",
   "execution_count": 12,
   "id": "3c955e49-7ed5-431a-8bdb-c4db42c97b58",
   "metadata": {},
   "outputs": [
    {
     "data": {
      "text/plain": [
       "array([[0., 0.]])"
      ]
     },
     "execution_count": 12,
     "metadata": {},
     "output_type": "execute_result"
    }
   ],
   "source": [
    "import numpy as np \n",
    "n1=np.zeros((1,2))\n",
    "n1"
   ]
  },
  {
   "cell_type": "code",
   "execution_count": 13,
   "id": "a9b6e9c1-c7f6-4b7b-84dc-20144fd066f0",
   "metadata": {},
   "outputs": [
    {
     "data": {
      "text/plain": [
       "array([[0., 0., 0., 0., 0.],\n",
       "       [0., 0., 0., 0., 0.],\n",
       "       [0., 0., 0., 0., 0.],\n",
       "       [0., 0., 0., 0., 0.],\n",
       "       [0., 0., 0., 0., 0.]])"
      ]
     },
     "execution_count": 13,
     "metadata": {},
     "output_type": "execute_result"
    }
   ],
   "source": [
    "import numpy as np \n",
    "n1=np.zeros((5,5))\n",
    "n1"
   ]
  },
  {
   "cell_type": "markdown",
   "id": "1f2c8ffe-5885-4f89-a406-1eaf9ebcfc7e",
   "metadata": {},
   "source": [
    "# Initializing Numpy arrays with same numbers :"
   ]
  },
  {
   "cell_type": "code",
   "execution_count": 14,
   "id": "3a68e085-f42b-478e-b1f1-526de66deba4",
   "metadata": {},
   "outputs": [
    {
     "data": {
      "text/plain": [
       "array([[10, 10],\n",
       "       [10, 10]])"
      ]
     },
     "execution_count": 14,
     "metadata": {},
     "output_type": "execute_result"
    }
   ],
   "source": [
    "import numpy as np \n",
    "n1=np.full((2,2),10)\n",
    "n1"
   ]
  },
  {
   "cell_type": "markdown",
   "id": "272c8d72-aa39-4d83-aed9-8327a6d3c511",
   "metadata": {},
   "source": [
    "# Initializing Numpy arrays within a range :"
   ]
  },
  {
   "cell_type": "code",
   "execution_count": 17,
   "id": "8aba5fe4-39b4-47b2-88d7-9ed2b5812bbc",
   "metadata": {},
   "outputs": [
    {
     "data": {
      "text/plain": [
       "array([10, 11, 12, 13, 14, 15, 16, 17, 18, 19])"
      ]
     },
     "execution_count": 17,
     "metadata": {},
     "output_type": "execute_result"
    }
   ],
   "source": [
    "import numpy as np \n",
    "n1=np.arange(10,20)\n",
    "n1"
   ]
  },
  {
   "cell_type": "code",
   "execution_count": 18,
   "id": "c314fadc-e26c-40d9-b405-d85e38ae5922",
   "metadata": {},
   "outputs": [
    {
     "data": {
      "text/plain": [
       "array([10, 12, 14, 16, 18])"
      ]
     },
     "execution_count": 18,
     "metadata": {},
     "output_type": "execute_result"
    }
   ],
   "source": [
    "import numpy as np \n",
    "n1=np.arange(10,20,2)\n",
    "n1"
   ]
  },
  {
   "cell_type": "markdown",
   "id": "0592a8ec-37bd-4e9c-bbbc-f95dc9925b1c",
   "metadata": {},
   "source": [
    "# Initializing Numpy array with a random numbers :"
   ]
  },
  {
   "cell_type": "code",
   "execution_count": 20,
   "id": "df716909-afc0-4b40-97a5-e6b2f0e86930",
   "metadata": {},
   "outputs": [
    {
     "data": {
      "text/plain": [
       "array([ 1, 80, 23, 23, 67, 28, 14, 91])"
      ]
     },
     "execution_count": 20,
     "metadata": {},
     "output_type": "execute_result"
    }
   ],
   "source": [
    "import numpy as np \n",
    "n1=np.random.randint(1,100,8)\n",
    "n1"
   ]
  },
  {
   "cell_type": "markdown",
   "id": "d00ae53f-e240-412c-9bb8-f172789ae815",
   "metadata": {},
   "source": [
    "#                    Attributes\n",
    "# > shape\n",
    "# > size\n",
    "# > ndim\n",
    "# > itemsize\n",
    "# > dtype"
   ]
  },
  {
   "cell_type": "markdown",
   "id": "3b86757b-095e-4db8-bbad-9b416474ad86",
   "metadata": {},
   "source": [
    "#     checking the shape of numpy arrays"
   ]
  },
  {
   "cell_type": "code",
   "execution_count": 2,
   "id": "196615d0-6bcc-4133-84b3-5dace980f79c",
   "metadata": {},
   "outputs": [
    {
     "data": {
      "text/plain": [
       "(2, 3)"
      ]
     },
     "execution_count": 2,
     "metadata": {},
     "output_type": "execute_result"
    }
   ],
   "source": [
    "import numpy as np \n",
    "n1=np.array([[1,2,3],[4,5,6]])\n",
    "n1.shape"
   ]
  },
  {
   "cell_type": "code",
   "execution_count": 4,
   "id": "9ce19afb-89fd-4c1b-9c74-9d100ed3562b",
   "metadata": {},
   "outputs": [
    {
     "data": {
      "text/plain": [
       "2"
      ]
     },
     "execution_count": 4,
     "metadata": {},
     "output_type": "execute_result"
    }
   ],
   "source": [
    "import numpy as numpy\n",
    "list1=[[10,20,30],[40,50,60],[70,80,90]]\n",
    "n1=np.array(list1)\n",
    "n1.ndim"
   ]
  },
  {
   "cell_type": "code",
   "execution_count": 6,
   "id": "2d1be84b-d714-4ebc-8f67-4bd335e9506b",
   "metadata": {},
   "outputs": [
    {
     "name": "stdout",
     "output_type": "stream",
     "text": [
      "[[10 20 30]\n",
      " [40 50 60]\n",
      " [70 80 90]]\n"
     ]
    },
    {
     "data": {
      "text/plain": [
       "(3, 3)"
      ]
     },
     "execution_count": 6,
     "metadata": {},
     "output_type": "execute_result"
    }
   ],
   "source": [
    "import numpy as np \n",
    "list1=[[10,20,30],[40,50,60],[70,80,90]]\n",
    "n1=np.array(list1)\n",
    "print(n1)\n",
    "n1.shape"
   ]
  },
  {
   "cell_type": "code",
   "execution_count": 7,
   "id": "f2125b08-f6a8-462e-9376-d70327ee5bd9",
   "metadata": {},
   "outputs": [
    {
     "name": "stdout",
     "output_type": "stream",
     "text": [
      "[[10 20 30]\n",
      " [40 50 60]\n",
      " [70 80 90]]\n"
     ]
    },
    {
     "data": {
      "text/plain": [
       "9"
      ]
     },
     "execution_count": 7,
     "metadata": {},
     "output_type": "execute_result"
    }
   ],
   "source": [
    "import numpy as np \n",
    "list1=[[10,20,30],[40,50,60],[70,80,90]]\n",
    "n1=np.array(list1)\n",
    "print(n1)\n",
    "n1.size"
   ]
  },
  {
   "cell_type": "code",
   "execution_count": null,
   "id": "5b48374e-a50a-4738-938e-27b065608d3a",
   "metadata": {},
   "outputs": [],
   "source": []
  },
  {
   "cell_type": "code",
   "execution_count": 10,
   "id": "c68a88f5-9b17-40b6-9e71-263a2610f489",
   "metadata": {},
   "outputs": [
    {
     "name": "stdout",
     "output_type": "stream",
     "text": [
      "[[10 20 30]\n",
      " [40 50 60]\n",
      " [70 80 90]]\n"
     ]
    },
    {
     "data": {
      "text/plain": [
       "dtype('int32')"
      ]
     },
     "execution_count": 10,
     "metadata": {},
     "output_type": "execute_result"
    }
   ],
   "source": [
    "import numpy as np \n",
    "list1=[[10,20,30],[40,50,60],[70,80,90]]\n",
    "n1=np.array(list1)\n",
    "print(n1)\n",
    "n1.dtype"
   ]
  },
  {
   "cell_type": "markdown",
   "id": "610a955c-d7be-465e-aef0-6aba9df5c2df",
   "metadata": {},
   "source": [
    "> itemsize take bit allocation"
   ]
  },
  {
   "cell_type": "code",
   "execution_count": 11,
   "id": "43900281-eedb-4c87-b3d1-6a824e210214",
   "metadata": {},
   "outputs": [
    {
     "name": "stdout",
     "output_type": "stream",
     "text": [
      "[[10 20 30]\n",
      " [40 50 60]\n",
      " [70 80 90]]\n"
     ]
    },
    {
     "data": {
      "text/plain": [
       "4"
      ]
     },
     "execution_count": 11,
     "metadata": {},
     "output_type": "execute_result"
    }
   ],
   "source": [
    "import numpy as np \n",
    "list1=[[10,20,30],[40,50,60],[70,80,90]]\n",
    "n1=np.array(list1)\n",
    "print(n1)\n",
    "n1.itemsize"
   ]
  },
  {
   "cell_type": "markdown",
   "id": "8d0f3eb3-8f19-4f03-9253-fe3c06aa18bf",
   "metadata": {},
   "source": [
    "# joining numpy arrays"
   ]
  },
  {
   "cell_type": "markdown",
   "id": "e5d32755-b821-4e7b-9638-7f4e45a42877",
   "metadata": {},
   "source": [
    "1. Vertically joining array\n",
    "#  > vstack ()"
   ]
  },
  {
   "cell_type": "code",
   "execution_count": 1,
   "id": "8431a457-27db-4191-b6d4-478c75bc09dd",
   "metadata": {},
   "outputs": [
    {
     "data": {
      "text/plain": [
       "array([[10, 20],\n",
       "       [30, 40]])"
      ]
     },
     "execution_count": 1,
     "metadata": {},
     "output_type": "execute_result"
    }
   ],
   "source": [
    "import numpy as np\n",
    "n1=np.array([10,20])\n",
    "n2=np.array([30,40])\n",
    "np.vstack((n1,n2))"
   ]
  },
  {
   "cell_type": "markdown",
   "id": "2ca54506-f0f1-423e-8ab8-35ae22fb8f0b",
   "metadata": {},
   "source": [
    "2. Horizopntaly joining arrays\n",
    "   # > hstack ()"
   ]
  },
  {
   "cell_type": "code",
   "execution_count": 2,
   "id": "f84d80f5-11f4-4651-a973-2f4c241a8b7a",
   "metadata": {},
   "outputs": [
    {
     "data": {
      "text/plain": [
       "array([10, 20, 30, 40])"
      ]
     },
     "execution_count": 2,
     "metadata": {},
     "output_type": "execute_result"
    }
   ],
   "source": [
    "import numpy as np\n",
    "n1=np.array([10,20])\n",
    "n2=np.array([30,40])\n",
    "np.hstack((n1,n2))"
   ]
  },
  {
   "cell_type": "markdown",
   "id": "d4b88a7a-b028-41c6-9ba2-2a0c823ef154",
   "metadata": {},
   "source": [
    "3. column hoining arrays\n",
    "# > column_stack()"
   ]
  },
  {
   "cell_type": "code",
   "execution_count": 3,
   "id": "169f0c82-38d8-4153-8333-1c924c684f86",
   "metadata": {},
   "outputs": [
    {
     "data": {
      "text/plain": [
       "array([[10, 30],\n",
       "       [20, 40]])"
      ]
     },
     "execution_count": 3,
     "metadata": {},
     "output_type": "execute_result"
    }
   ],
   "source": [
    "import numpy as np\n",
    "n1=np.array([10,20])\n",
    "n2=np.array([30,40])\n",
    "np.column_stack((n1,n2))"
   ]
  },
  {
   "cell_type": "code",
   "execution_count": 4,
   "id": "7e514d5e-b29e-49f7-9dd4-d9df2425a5e2",
   "metadata": {},
   "outputs": [
    {
     "data": {
      "text/plain": [
       "array([[10, 20],\n",
       "       [30, 40]])"
      ]
     },
     "execution_count": 4,
     "metadata": {},
     "output_type": "execute_result"
    }
   ],
   "source": [
    "import numpy as np\n",
    "n1=np.array([10,20])\n",
    "n2=np.array([30,40])\n",
    "np.row_stack((n1,n2))"
   ]
  },
  {
   "cell_type": "markdown",
   "id": "094275db-881f-455e-ae47-3d2461394878",
   "metadata": {},
   "source": [
    "# indexing in numpy arrays\n",
    "> used to acess the elements in arrays"
   ]
  },
  {
   "cell_type": "code",
   "execution_count": 2,
   "id": "ba665ee2-f4de-4c37-b7e1-bead9b860ad6",
   "metadata": {},
   "outputs": [
    {
     "name": "stdout",
     "output_type": "stream",
     "text": [
      "10\n"
     ]
    }
   ],
   "source": [
    " #    one dimension\n",
    "import numpy as np\n",
    "n1=np.array([10,20,30,40,50,60])\n",
    "print(n1[0])"
   ]
  },
  {
   "cell_type": "code",
   "execution_count": 3,
   "id": "103f846b-859f-4ab7-83ad-ef177f87567d",
   "metadata": {},
   "outputs": [
    {
     "name": "stdout",
     "output_type": "stream",
     "text": [
      "50\n"
     ]
    }
   ],
   "source": [
    "import numpy as np\n",
    "n1=np.array([10,20,30,40,50,60])\n",
    "print(n1[-2])"
   ]
  },
  {
   "cell_type": "code",
   "execution_count": 8,
   "id": "8873ede7-3b54-499f-97d7-e0340faa32af",
   "metadata": {},
   "outputs": [
    {
     "name": "stdout",
     "output_type": "stream",
     "text": [
      "[[10 20 30]\n",
      " [40 50 60]\n",
      " [70 80 90]]\n",
      "60\n"
     ]
    }
   ],
   "source": [
    "import numpy as np\n",
    "n1=np.array([[10,20,30],[40,50,60],[70,80,90]])\n",
    "print(n1)\n",
    "print(n1[1,2])"
   ]
  },
  {
   "cell_type": "code",
   "execution_count": 10,
   "id": "3ac5c842-2482-43ee-a64c-58873d9c97c2",
   "metadata": {},
   "outputs": [
    {
     "name": "stdout",
     "output_type": "stream",
     "text": [
      "[10 20 30]\n"
     ]
    }
   ],
   "source": [
    "import numpy as np\n",
    "n1=np.array([[10,20,30],[40,50,60],[70,80,90]])\n",
    "print(n1[0,:])"
   ]
  },
  {
   "cell_type": "code",
   "execution_count": 11,
   "id": "be8d0060-c120-4a4c-b4cf-f7bc7d33d8c8",
   "metadata": {},
   "outputs": [
    {
     "name": "stdout",
     "output_type": "stream",
     "text": [
      "[20 50 80]\n"
     ]
    }
   ],
   "source": [
    "import numpy as np\n",
    "n1=np.array([[10,20,30],[40,50,60],[70,80,90]])\n",
    "print(n1[:,1])"
   ]
  },
  {
   "cell_type": "markdown",
   "id": "32a072cf-a071-4465-9e18-3abf05ff6249",
   "metadata": {},
   "source": [
    "# slicing in numpy arrays\n",
    "# > used to acess the subset of data from numpy arrays\n",
    "# > syntax : [start,stop,step]"
   ]
  },
  {
   "cell_type": "code",
   "execution_count": 1,
   "id": "7cb49c26-8a9e-462f-976f-bf4989c9281c",
   "metadata": {},
   "outputs": [
    {
     "name": "stdout",
     "output_type": "stream",
     "text": [
      "[20 30 40]\n"
     ]
    }
   ],
   "source": [
    "import numpy as np\n",
    "n1=np.array([10,20,30,40,50,60])\n",
    "print(n1[1:4])"
   ]
  },
  {
   "cell_type": "code",
   "execution_count": 2,
   "id": "f48b5b18-e8a3-4f07-8024-431ccbc19680",
   "metadata": {},
   "outputs": [
    {
     "name": "stdout",
     "output_type": "stream",
     "text": [
      "[20 40]\n"
     ]
    }
   ],
   "source": [
    "import numpy as np\n",
    "n1=np.array([10,20,30,40,50,60])\n",
    "print(n1[1:5:2])"
   ]
  },
  {
   "cell_type": "code",
   "execution_count": 3,
   "id": "9fa9d979-8bab-44a4-8d43-92c4fc0ce445",
   "metadata": {},
   "outputs": [
    {
     "name": "stdout",
     "output_type": "stream",
     "text": [
      "[60 40]\n"
     ]
    }
   ],
   "source": [
    "import numpy as np\n",
    "n1=np.array([10,20,30,40,50,60])\n",
    "print(n1[-1:-5:-2])"
   ]
  },
  {
   "cell_type": "code",
   "execution_count": 4,
   "id": "4e2e80ad-dd91-4426-a7cb-0020ce27320f",
   "metadata": {},
   "outputs": [
    {
     "name": "stdout",
     "output_type": "stream",
     "text": [
      "[10 50]\n"
     ]
    }
   ],
   "source": [
    "import numpy as np\n",
    "n1=np.array([10,20,30,40,50,60])\n",
    "print(n1[::4])"
   ]
  },
  {
   "cell_type": "code",
   "execution_count": 5,
   "id": "911cd33d-ab7e-4ae8-8403-5f0bcc6ae0ac",
   "metadata": {},
   "outputs": [
    {
     "name": "stdout",
     "output_type": "stream",
     "text": [
      "[60 50 40 30 20 10]\n"
     ]
    }
   ],
   "source": [
    "# it print in reverse direction of array\n",
    "import numpy as np\n",
    "n1=np.array([10,20,30,40,50,60])\n",
    "print(n1[::-1])"
   ]
  },
  {
   "cell_type": "code",
   "execution_count": 7,
   "id": "fcee8c42-55f3-4729-a323-1de801ffaa03",
   "metadata": {},
   "outputs": [
    {
     "name": "stdout",
     "output_type": "stream",
     "text": [
      "[[ 10  20  30]\n",
      " [ 40  50  60]\n",
      " [ 70  80  90]\n",
      " [100 200 300]]\n"
     ]
    }
   ],
   "source": [
    "#     two dimention\n",
    "n1=np.array([[10,20,30],[40,50,60],[70,80,90],[100,200,300]])\n",
    "print(n1)"
   ]
  },
  {
   "cell_type": "code",
   "execution_count": 8,
   "id": "bef4a205-6f7a-4c05-8992-329b532acb81",
   "metadata": {},
   "outputs": [
    {
     "name": "stdout",
     "output_type": "stream",
     "text": [
      "[40 50 60]\n"
     ]
    }
   ],
   "source": [
    "n1=np.array([[10,20,30],[40,50,60],[70,80,90],[100,200,300]])\n",
    "print(n1[1,])"
   ]
  },
  {
   "cell_type": "code",
   "execution_count": 9,
   "id": "32471b99-76e3-4313-96c4-06d3ea3148ff",
   "metadata": {},
   "outputs": [
    {
     "name": "stdout",
     "output_type": "stream",
     "text": [
      "[ 20  50  80 200]\n"
     ]
    }
   ],
   "source": [
    "n1=np.array([[10,20,30],[40,50,60],[70,80,90],[100,200,300]])\n",
    "print(n1[:,1])"
   ]
  },
  {
   "cell_type": "code",
   "execution_count": 10,
   "id": "f2957221-a0c3-4cc8-8469-87ffe9896477",
   "metadata": {},
   "outputs": [
    {
     "name": "stdout",
     "output_type": "stream",
     "text": [
      "[[50 60]\n",
      " [80 90]]\n"
     ]
    }
   ],
   "source": [
    "n1=np.array([[10,20,30],[40,50,60],[70,80,90],[100,200,300]])\n",
    "print(n1[1:3,1:3])"
   ]
  },
  {
   "cell_type": "code",
   "execution_count": 11,
   "id": "370fb10b-bb8e-4565-bff6-ce33a955c45c",
   "metadata": {},
   "outputs": [
    {
     "name": "stdout",
     "output_type": "stream",
     "text": [
      "[[40 50 60]\n",
      " [70 80 90]]\n"
     ]
    }
   ],
   "source": [
    "n1=np.array([[10,20,30],[40,50,60],[70,80,90],[100,200,300]])\n",
    "print(n1[1:3,])"
   ]
  },
  {
   "cell_type": "code",
   "execution_count": 13,
   "id": "d9bee6d4-84a7-4aaa-99ee-8d1dfde138d8",
   "metadata": {},
   "outputs": [
    {
     "name": "stdout",
     "output_type": "stream",
     "text": [
      "[[ 20  30]\n",
      " [ 50  60]\n",
      " [ 80  90]\n",
      " [200 300]]\n"
     ]
    }
   ],
   "source": [
    "n1=np.array([[10,20,30],[40,50,60],[70,80,90],[100,200,300]])\n",
    "print(n1[:,1:3])"
   ]
  },
  {
   "cell_type": "code",
   "execution_count": 14,
   "id": "0bf6ff0f-79b0-4d27-b211-508003fa9fdd",
   "metadata": {},
   "outputs": [
    {
     "name": "stdout",
     "output_type": "stream",
     "text": [
      "[50 80]\n"
     ]
    }
   ],
   "source": [
    "n1=np.array([[10,20,30],[40,50,60],[70,80,90],[100,200,300]])\n",
    "print(n1[1:3,1])"
   ]
  },
  {
   "cell_type": "code",
   "execution_count": 15,
   "id": "c9ca1980-1f20-47a9-bac9-6e9048a814e1",
   "metadata": {},
   "outputs": [
    {
     "name": "stdout",
     "output_type": "stream",
     "text": [
      "[[40]\n",
      " [70]]\n"
     ]
    }
   ],
   "source": [
    "n1=np.array([[10,20,30],[40,50,60],[70,80,90],[100,200,300]])\n",
    "print(n1[1:3,:1])"
   ]
  },
  {
   "cell_type": "code",
   "execution_count": null,
   "id": "f409a046-5b48-494c-8822-a6b6515602af",
   "metadata": {},
   "outputs": [],
   "source": []
  }
 ],
 "metadata": {
  "kernelspec": {
   "display_name": "Python 3 (ipykernel)",
   "language": "python",
   "name": "python3"
  },
  "language_info": {
   "codemirror_mode": {
    "name": "ipython",
    "version": 3
   },
   "file_extension": ".py",
   "mimetype": "text/x-python",
   "name": "python",
   "nbconvert_exporter": "python",
   "pygments_lexer": "ipython3",
   "version": "3.11.7"
  }
 },
 "nbformat": 4,
 "nbformat_minor": 5
}
