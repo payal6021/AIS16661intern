{
 "cells": [
  {
   "cell_type": "markdown",
   "id": "65415488-6203-418c-8814-749de1bfa163",
   "metadata": {},
   "source": [
    "#....Control statement :"
   ]
  },
  {
   "cell_type": "markdown",
   "id": "4f524949-4402-49f0-a1f9-a0ec2e4bc112",
   "metadata": {},
   "source": [
    "countinue statement\n",
    "used to skip \n",
    "if we used \"continue\" to any condition and it is true then its skip that for one time"
   ]
  },
  {
   "cell_type": "code",
   "execution_count": 1,
   "id": "874e4249-0b97-4826-ae85-42ed6004518b",
   "metadata": {},
   "outputs": [
    {
     "name": "stdout",
     "output_type": "stream",
     "text": [
      "1\n",
      "3\n",
      "5\n",
      "7\n",
      "9\n",
      "11\n"
     ]
    }
   ],
   "source": [
    "for i in range(13):\n",
    "    if i%2==0:\n",
    "        continue\n",
    "    print(i)"
   ]
  },
  {
   "cell_type": "code",
   "execution_count": 2,
   "id": "a62bdb9d-4d09-44b6-a9d0-0919b777c685",
   "metadata": {},
   "outputs": [
    {
     "name": "stdout",
     "output_type": "stream",
     "text": [
      "Task: write report\n",
      "Task: attend meeting\n",
      "Task: read email\n"
     ]
    }
   ],
   "source": [
    "tasks = [\"write report\", \"attend meeting\", \"call mom\", \"read email\"]\n",
    "for task in tasks:\n",
    "    if \"call\" in task:\n",
    "        continue\n",
    "    print(f\"Task: {task}\")"
   ]
  },
  {
   "cell_type": "code",
   "execution_count": 3,
   "id": "22c3adb3-b636-47be-9511-a28d15fec5eb",
   "metadata": {},
   "outputs": [
    {
     "name": "stdout",
     "output_type": "stream",
     "text": [
      "Number less than or equal to 10: 5\n",
      "Number less than or equal to 10: 7\n",
      "Number less than or equal to 10: 3\n"
     ]
    }
   ],
   "source": [
    "numbers = [5, 12, 7, 18, 24, 3]\n",
    "for number in numbers:\n",
    "    if number > 10:\n",
    "        continue\n",
    "    print(f\"Number less than or equal to 10: {number}\")"
   ]
  },
  {
   "cell_type": "code",
   "execution_count": null,
   "id": "24dee005-8d06-483e-8666-2b270e420ece",
   "metadata": {},
   "outputs": [],
   "source": []
  }
 ],
 "metadata": {
  "kernelspec": {
   "display_name": "Python 3 (ipykernel)",
   "language": "python",
   "name": "python3"
  },
  "language_info": {
   "codemirror_mode": {
    "name": "ipython",
    "version": 3
   },
   "file_extension": ".py",
   "mimetype": "text/x-python",
   "name": "python",
   "nbconvert_exporter": "python",
   "pygments_lexer": "ipython3",
   "version": "3.11.7"
  }
 },
 "nbformat": 4,
 "nbformat_minor": 5
}
