{
 "cells": [
  {
   "cell_type": "markdown",
   "id": "977453de-ac19-4f8d-96ff-9ff139fe8cf4",
   "metadata": {},
   "source": [
    "#  Operators"
   ]
  },
  {
   "cell_type": "markdown",
   "id": "37ca4125-2879-4445-aea3-54f8d3a53d1a",
   "metadata": {},
   "source": [
    "#Arithmatic Operator(+,-,*,/,**(power),%(modulus))\n",
    "#Assingment operaor +=, -=,*=\n",
    "#Comparision Operator(>,<,==,!=,<=,>=)\n",
    "#Logical Operator(And,Or,Not)\n",
    "#Identity Operators(is,is not)\n",
    "#Membership Operators(in,not in)"
   ]
  },
  {
   "cell_type": "markdown",
   "id": "f8ab5545-3acc-4d96-bb63-07431efdccff",
   "metadata": {},
   "source": [
    "#..........Arithmatic Opertors......."
   ]
  },
  {
   "cell_type": "code",
   "execution_count": 1,
   "id": "e1ef108d-f534-47bc-b721-a2dd004ac3c7",
   "metadata": {},
   "outputs": [
    {
     "data": {
      "text/plain": [
       "3.3333333333333335"
      ]
     },
     "execution_count": 1,
     "metadata": {},
     "output_type": "execute_result"
    }
   ],
   "source": [
    "10/3"
   ]
  },
  {
   "cell_type": "code",
   "execution_count": 2,
   "id": "911ca58e-426b-4bc9-b52b-10d80a16d1af",
   "metadata": {},
   "outputs": [
    {
     "data": {
      "text/plain": [
       "24"
      ]
     },
     "execution_count": 2,
     "metadata": {},
     "output_type": "execute_result"
    }
   ],
   "source": [
    "12+12"
   ]
  },
  {
   "cell_type": "code",
   "execution_count": 3,
   "id": "ac8f3e27-bd05-4b46-9879-329f7b0db9fd",
   "metadata": {},
   "outputs": [
    {
     "data": {
      "text/plain": [
       "9"
      ]
     },
     "execution_count": 3,
     "metadata": {},
     "output_type": "execute_result"
    }
   ],
   "source": [
    "12-3"
   ]
  },
  {
   "cell_type": "code",
   "execution_count": 4,
   "id": "93ed7dbc-cc9f-4eab-8001-f1a8353903ee",
   "metadata": {},
   "outputs": [
    {
     "data": {
      "text/plain": [
       "144"
      ]
     },
     "execution_count": 4,
     "metadata": {},
     "output_type": "execute_result"
    }
   ],
   "source": [
    "12*12"
   ]
  },
  {
   "cell_type": "code",
   "execution_count": 5,
   "id": "d1a352f8-ecb1-4e84-aa4d-cc5540def0d7",
   "metadata": {},
   "outputs": [
    {
     "data": {
      "text/plain": [
       "8"
      ]
     },
     "execution_count": 5,
     "metadata": {},
     "output_type": "execute_result"
    }
   ],
   "source": [
    "2**(3)"
   ]
  },
  {
   "cell_type": "code",
   "execution_count": 6,
   "id": "daacacd3-918d-416e-80c2-5bcac3ca4b8b",
   "metadata": {},
   "outputs": [
    {
     "data": {
      "text/plain": [
       "0"
      ]
     },
     "execution_count": 6,
     "metadata": {},
     "output_type": "execute_result"
    }
   ],
   "source": [
    "10%2"
   ]
  },
  {
   "cell_type": "markdown",
   "id": "8707ca2f-3fa5-4fdb-a9ea-e9cee47436fe",
   "metadata": {},
   "source": [
    "# #Assingment operaor\r",
    "# +=value\r\n",
    "# -=value\r\n",
    "# *=value\r\n",
    "# /=value"
   ]
  },
  {
   "cell_type": "code",
   "execution_count": 7,
   "id": "fe38b746-7021-40d1-a154-514d692211f7",
   "metadata": {},
   "outputs": [
    {
     "name": "stdout",
     "output_type": "stream",
     "text": [
      "55\n"
     ]
    }
   ],
   "source": [
    "x=50\n",
    "x+=5\n",
    "print(x)"
   ]
  },
  {
   "cell_type": "code",
   "execution_count": 9,
   "id": "ed523063-f8eb-45a4-ae59-90ca4c3c6ef5",
   "metadata": {},
   "outputs": [
    {
     "name": "stdout",
     "output_type": "stream",
     "text": [
      "50\n"
     ]
    }
   ],
   "source": [
    "x-=5\n",
    "print(x)"
   ]
  },
  {
   "cell_type": "code",
   "execution_count": 10,
   "id": "64165d55-3310-412e-a8f6-cf10f59626f6",
   "metadata": {},
   "outputs": [
    {
     "name": "stdout",
     "output_type": "stream",
     "text": [
      "250\n"
     ]
    }
   ],
   "source": [
    "x*=5\n",
    "print(x)"
   ]
  },
  {
   "cell_type": "code",
   "execution_count": 11,
   "id": "b520f2cd-69f9-48be-96c2-84bf6d503212",
   "metadata": {},
   "outputs": [
    {
     "name": "stdout",
     "output_type": "stream",
     "text": [
      "50.0\n"
     ]
    }
   ],
   "source": [
    "x/=5\n",
    "print(x)"
   ]
  },
  {
   "cell_type": "markdown",
   "id": "a95b25d1-f473-4c3b-bdee-df9e4d46154d",
   "metadata": {},
   "source": [
    "#.....comparision Operators.......(>,<,==,!=,<=,>=)"
   ]
  },
  {
   "cell_type": "code",
   "execution_count": 12,
   "id": "dc39806a-b699-4df9-b00e-9b240f08e6c0",
   "metadata": {},
   "outputs": [
    {
     "data": {
      "text/plain": [
       "False"
      ]
     },
     "execution_count": 12,
     "metadata": {},
     "output_type": "execute_result"
    }
   ],
   "source": [
    "2!=2"
   ]
  },
  {
   "cell_type": "code",
   "execution_count": 13,
   "id": "e3da57dc-ac87-4d8d-b90d-079f59bb83b3",
   "metadata": {},
   "outputs": [
    {
     "data": {
      "text/plain": [
       "True"
      ]
     },
     "execution_count": 13,
     "metadata": {},
     "output_type": "execute_result"
    }
   ],
   "source": [
    "5<=5"
   ]
  },
  {
   "cell_type": "code",
   "execution_count": 14,
   "id": "febbddab-4ebf-495a-9d5c-4bf8f0838c0b",
   "metadata": {},
   "outputs": [
    {
     "data": {
      "text/plain": [
       "True"
      ]
     },
     "execution_count": 14,
     "metadata": {},
     "output_type": "execute_result"
    }
   ],
   "source": [
    "5>=5"
   ]
  },
  {
   "cell_type": "code",
   "execution_count": 15,
   "id": "bd79e44b-6133-4986-b2cf-edfe021ae21f",
   "metadata": {},
   "outputs": [
    {
     "data": {
      "text/plain": [
       "False"
      ]
     },
     "execution_count": 15,
     "metadata": {},
     "output_type": "execute_result"
    }
   ],
   "source": [
    "a=24\n",
    "b=23\n",
    "a==b"
   ]
  },
  {
   "cell_type": "code",
   "execution_count": 16,
   "id": "0b6e59a7-4321-4914-883d-a4def8ab7f00",
   "metadata": {},
   "outputs": [
    {
     "data": {
      "text/plain": [
       "False"
      ]
     },
     "execution_count": 16,
     "metadata": {},
     "output_type": "execute_result"
    }
   ],
   "source": [
    "a<=b"
   ]
  },
  {
   "cell_type": "markdown",
   "id": "0da85f1d-5dd1-458e-aacc-083ef57bef31",
   "metadata": {},
   "source": [
    "# ......... Logical Operators.......\n",
    "#And-Returns True if both statements are true\r"
   ]
  },
  {
   "cell_type": "code",
   "execution_count": 17,
   "id": "dff89e00-ce2c-4f64-ae5c-61802e91ad65",
   "metadata": {},
   "outputs": [
    {
     "data": {
      "text/plain": [
       "True"
      ]
     },
     "execution_count": 17,
     "metadata": {},
     "output_type": "execute_result"
    }
   ],
   "source": [
    "x=5\n",
    "x<3 or x<12"
   ]
  },
  {
   "cell_type": "code",
   "execution_count": 18,
   "id": "d0dea017-f6e0-40ad-a5a6-f3e78646d331",
   "metadata": {},
   "outputs": [
    {
     "data": {
      "text/plain": [
       "False"
      ]
     },
     "execution_count": 18,
     "metadata": {},
     "output_type": "execute_result"
    }
   ],
   "source": [
    "x=16\n",
    "x<12 and x<16"
   ]
  },
  {
   "cell_type": "code",
   "execution_count": 19,
   "id": "d50c7c83-fd2f-46a5-bda1-4d01fe90d118",
   "metadata": {},
   "outputs": [
    {
     "data": {
      "text/plain": [
       "False"
      ]
     },
     "execution_count": 19,
     "metadata": {},
     "output_type": "execute_result"
    }
   ],
   "source": [
    "x=13\n",
    "not x"
   ]
  },
  {
   "cell_type": "markdown",
   "id": "93a950c7-8bf2-4f21-ae84-7b354a02bcdb",
   "metadata": {},
   "source": [
    "#   ...........Identity Errors.......\n"
   ]
  },
  {
   "cell_type": "code",
   "execution_count": 20,
   "id": "9c9b3be8-e4db-473c-9cb1-ea169dcf97d5",
   "metadata": {},
   "outputs": [
    {
     "name": "stderr",
     "output_type": "stream",
     "text": [
      "<>:2: SyntaxWarning: \"is\" with a literal. Did you mean \"==\"?\n",
      "<>:2: SyntaxWarning: \"is\" with a literal. Did you mean \"==\"?\n",
      "C:\\Users\\Payal\\AppData\\Local\\Temp\\ipykernel_26740\\2154991759.py:2: SyntaxWarning: \"is\" with a literal. Did you mean \"==\"?\n",
      "  x is 15\n"
     ]
    },
    {
     "data": {
      "text/plain": [
       "True"
      ]
     },
     "execution_count": 20,
     "metadata": {},
     "output_type": "execute_result"
    }
   ],
   "source": [
    "x=15\n",
    "x is 15"
   ]
  },
  {
   "cell_type": "code",
   "execution_count": 21,
   "id": "f3c0d204-79ad-4d7e-9cbb-17d766e69b1f",
   "metadata": {},
   "outputs": [
    {
     "name": "stderr",
     "output_type": "stream",
     "text": [
      "<>:1: SyntaxWarning: \"is not\" with a literal. Did you mean \"!=\"?\n",
      "<>:1: SyntaxWarning: \"is not\" with a literal. Did you mean \"!=\"?\n",
      "C:\\Users\\Payal\\AppData\\Local\\Temp\\ipykernel_26740\\4231687947.py:1: SyntaxWarning: \"is not\" with a literal. Did you mean \"!=\"?\n",
      "  x is not 15\n"
     ]
    },
    {
     "data": {
      "text/plain": [
       "False"
      ]
     },
     "execution_count": 21,
     "metadata": {},
     "output_type": "execute_result"
    }
   ],
   "source": [
    "x is not 15"
   ]
  },
  {
   "attachments": {},
   "cell_type": "markdown",
   "id": "6b51c26c-4356-4e07-949a-13486f739f41",
   "metadata": {},
   "source": [
    "#  ...............Membership Operators.......\n"
   ]
  },
  {
   "cell_type": "code",
   "execution_count": 23,
   "id": "7f541ea0-d962-4a6d-8ef6-beeff0d7a7ed",
   "metadata": {},
   "outputs": [],
   "source": [
    "x=(20,15,16,68,13,98)"
   ]
  },
  {
   "cell_type": "code",
   "execution_count": 24,
   "id": "37003250-5f79-4141-9a8d-e2d4ddf2f955",
   "metadata": {},
   "outputs": [
    {
     "data": {
      "text/plain": [
       "True"
      ]
     },
     "execution_count": 24,
     "metadata": {},
     "output_type": "execute_result"
    }
   ],
   "source": [
    "20 in x"
   ]
  },
  {
   "cell_type": "code",
   "execution_count": 26,
   "id": "b34a0ff9-307c-45c0-b9ef-6a7a823b7ffe",
   "metadata": {},
   "outputs": [
    {
     "data": {
      "text/plain": [
       "False"
      ]
     },
     "execution_count": 26,
     "metadata": {},
     "output_type": "execute_result"
    }
   ],
   "source": [
    "13 not in x"
   ]
  },
  {
   "cell_type": "code",
   "execution_count": null,
   "id": "79feec42-8ec4-4cb2-9890-9163fb924797",
   "metadata": {},
   "outputs": [],
   "source": []
  }
 ],
 "metadata": {
  "kernelspec": {
   "display_name": "Python 3 (ipykernel)",
   "language": "python",
   "name": "python3"
  },
  "language_info": {
   "codemirror_mode": {
    "name": "ipython",
    "version": 3
   },
   "file_extension": ".py",
   "mimetype": "text/x-python",
   "name": "python",
   "nbconvert_exporter": "python",
   "pygments_lexer": "ipython3",
   "version": "3.11.7"
  }
 },
 "nbformat": 4,
 "nbformat_minor": 5
}
