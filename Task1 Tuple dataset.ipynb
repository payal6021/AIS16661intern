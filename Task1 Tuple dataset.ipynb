{
 "cells": [
  {
   "cell_type": "markdown",
   "id": "64c8d3ea-5fed-404d-b054-b3528a21589b",
   "metadata": {},
   "source": [
    "#        Tuple data structure  "
   ]
  },
  {
   "cell_type": "markdown",
   "id": "db814fe2-81c6-49c0-9204-7e5751f7bb74",
   "metadata": {},
   "source": [
    "# Tuple is exactly same as List except that it is immutable(if our data is never changes or fixed then we should go for tuple)\n",
    "# insertion order is preserved \n",
    "# Duplicates are allow\n",
    "# Hetrogeneous objects are allowed"
   ]
  },
  {
   "cell_type": "markdown",
   "id": "6363a09e-05f9-474b-81f9-f1654950a084",
   "metadata": {},
   "source": [
    "# tuple creation\n",
    "t=()\n",
    "t=(10,)\n",
    "t=10,20,30,14\n",
    "t=(10,20,30)"
   ]
  },
  {
   "cell_type": "code",
   "execution_count": 1,
   "id": "5f51fb3d-f02b-4332-b34e-890f27284896",
   "metadata": {},
   "outputs": [
    {
     "name": "stdout",
     "output_type": "stream",
     "text": [
      "(10, 20, 30, 40, 50)\n"
     ]
    }
   ],
   "source": [
    "list=[10,20,30,40,50]\n",
    "t=tuple(list)\n",
    "print(t)"
   ]
  },
  {
   "cell_type": "code",
   "execution_count": 2,
   "id": "33288010-0262-437c-a02e-a45f953726e8",
   "metadata": {},
   "outputs": [
    {
     "name": "stdout",
     "output_type": "stream",
     "text": [
      "<class 'tuple'>\n"
     ]
    }
   ],
   "source": [
    "print(type(t))"
   ]
  },
  {
   "cell_type": "markdown",
   "id": "a49fe241-825c-4824-8e73-43d6d62c55a9",
   "metadata": {},
   "source": [
    "# .to check length"
   ]
  },
  {
   "cell_type": "code",
   "execution_count": 3,
   "id": "14687cda-53d7-4a55-8c10-574cfe8f4264",
   "metadata": {},
   "outputs": [
    {
     "data": {
      "text/plain": [
       "5"
      ]
     },
     "execution_count": 3,
     "metadata": {},
     "output_type": "execute_result"
    }
   ],
   "source": [
    "len(t)"
   ]
  },
  {
   "cell_type": "markdown",
   "id": "34ed433d-49e6-4819-9c50-77e6a51ada1b",
   "metadata": {},
   "source": [
    "# Accesing elements of tuple either by index or by slice operator"
   ]
  },
  {
   "cell_type": "markdown",
   "id": "90eb249f-278a-4aa8-95b5-253bfa61f5eb",
   "metadata": {},
   "source": [
    "1. BY USING INDEX"
   ]
  },
  {
   "cell_type": "code",
   "execution_count": 4,
   "id": "493bac15-3edd-417c-b76f-77ee44182aa3",
   "metadata": {},
   "outputs": [
    {
     "name": "stdout",
     "output_type": "stream",
     "text": [
      "10\n"
     ]
    }
   ],
   "source": [
    "print(t[0])\n"
   ]
  },
  {
   "cell_type": "code",
   "execution_count": 5,
   "id": "96de478c-98dc-461e-a107-f7faf32f6688",
   "metadata": {},
   "outputs": [
    {
     "name": "stdout",
     "output_type": "stream",
     "text": [
      "50\n"
     ]
    }
   ],
   "source": [
    "print(t[-1])"
   ]
  },
  {
   "cell_type": "markdown",
   "id": "89fdc913-2af7-4291-81a4-12cce2d5ee1e",
   "metadata": {},
   "source": [
    "2. BY USING SLICE OPERATOR"
   ]
  },
  {
   "cell_type": "code",
   "execution_count": 7,
   "id": "249fcbb0-9157-434b-a0b3-cf5e03f70c0e",
   "metadata": {},
   "outputs": [
    {
     "name": "stdout",
     "output_type": "stream",
     "text": [
      "(30, 40, 50)\n"
     ]
    }
   ],
   "source": [
    "print(t[2:5])"
   ]
  },
  {
   "cell_type": "markdown",
   "id": "823ea098-fd5d-4b6e-a168-f31a61b94a80",
   "metadata": {},
   "source": [
    "# 1. count() method\n",
    "to return number of occurrences of iven elements"
   ]
  },
  {
   "cell_type": "code",
   "execution_count": 8,
   "id": "22c13db4-8058-4c0f-aa34-10c6af85481c",
   "metadata": {},
   "outputs": [
    {
     "name": "stdout",
     "output_type": "stream",
     "text": [
      "1\n"
     ]
    }
   ],
   "source": [
    "print(t.count(10))"
   ]
  },
  {
   "cell_type": "markdown",
   "id": "bab0ff25-4024-44b4-a7da-1c009ce0e849",
   "metadata": {},
   "source": [
    "# 2. index() method\n",
    "returns index of first occurrence of the given element"
   ]
  },
  {
   "cell_type": "code",
   "execution_count": 9,
   "id": "81e2ddef-ec8c-447a-8df4-69da19d303e0",
   "metadata": {},
   "outputs": [
    {
     "name": "stdout",
     "output_type": "stream",
     "text": [
      "3\n"
     ]
    }
   ],
   "source": [
    "print(t.index(40))"
   ]
  },
  {
   "cell_type": "markdown",
   "id": "784a10a1-1c28-4f6d-9031-04844326857e",
   "metadata": {},
   "source": [
    "# 3. sorted() method\n",
    "to sort elements based on default natural sorting order"
   ]
  },
  {
   "cell_type": "code",
   "execution_count": 11,
   "id": "90fa0d8f-7111-4947-b636-2a6aea30f01d",
   "metadata": {},
   "outputs": [
    {
     "name": "stdout",
     "output_type": "stream",
     "text": [
      "[10, 20, 30, 40, 50]\n"
     ]
    }
   ],
   "source": [
    "t1=sorted(t)\n",
    "print(t1)"
   ]
  },
  {
   "cell_type": "markdown",
   "id": "ad756c5f-3abf-4b16-9f45-1e016206bf51",
   "metadata": {},
   "source": [
    "# We can sort according to reverce of default natural  sorting order "
   ]
  },
  {
   "cell_type": "code",
   "execution_count": 12,
   "id": "4997f551-dd8c-46db-b9fe-b9670f3f56b7",
   "metadata": {},
   "outputs": [],
   "source": [
    "t2=sorted(t,reverse=True)"
   ]
  },
  {
   "cell_type": "code",
   "execution_count": 13,
   "id": "5ba83c14-ad52-4c45-b6e1-d5ec4bdc0151",
   "metadata": {},
   "outputs": [
    {
     "name": "stdout",
     "output_type": "stream",
     "text": [
      "[50, 40, 30, 20, 10]\n"
     ]
    }
   ],
   "source": [
    "print(t2)"
   ]
  },
  {
   "cell_type": "markdown",
   "id": "7e04267e-3c9d-4c75-9227-20b8d59b55df",
   "metadata": {},
   "source": [
    "# 4. Min()  and max()  function\n",
    "these function returns min and max values according to default natural sorting order"
   ]
  },
  {
   "cell_type": "code",
   "execution_count": 14,
   "id": "5b5176d3-09c4-408e-b00e-0935b142e75d",
   "metadata": {},
   "outputs": [
    {
     "name": "stdout",
     "output_type": "stream",
     "text": [
      "10\n"
     ]
    }
   ],
   "source": [
    "print(min(t))"
   ]
  },
  {
   "cell_type": "code",
   "execution_count": 15,
   "id": "8023c02e-523e-4497-9491-ec78b1b65e62",
   "metadata": {},
   "outputs": [
    {
     "name": "stdout",
     "output_type": "stream",
     "text": [
      "50\n"
     ]
    }
   ],
   "source": [
    "print(max(t))"
   ]
  },
  {
   "cell_type": "code",
   "execution_count": null,
   "id": "08316165-35f2-453d-9562-5cf26e0392ef",
   "metadata": {},
   "outputs": [],
   "source": []
  }
 ],
 "metadata": {
  "kernelspec": {
   "display_name": "Python 3 (ipykernel)",
   "language": "python",
   "name": "python3"
  },
  "language_info": {
   "codemirror_mode": {
    "name": "ipython",
    "version": 3
   },
   "file_extension": ".py",
   "mimetype": "text/x-python",
   "name": "python",
   "nbconvert_exporter": "python",
   "pygments_lexer": "ipython3",
   "version": "3.11.7"
  }
 },
 "nbformat": 4,
 "nbformat_minor": 5
}
