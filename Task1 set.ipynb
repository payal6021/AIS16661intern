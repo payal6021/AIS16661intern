{
 "cells": [
  {
   "cell_type": "markdown",
   "id": "23eba465-2b35-416b-8eed-d49913316f5b",
   "metadata": {},
   "source": [
    "#        .....SET DATA STRUCTURE...."
   ]
  },
  {
   "cell_type": "markdown",
   "id": "b595f379-916d-468e-8516-fd6c7a41ff74",
   "metadata": {},
   "source": [
    "#   Duplicates are not allowed\n",
    "#   Hetrogeneous elements are allowed\n",
    "#   Insesrtion order is not preserved, But we can sort the elements\n",
    "#   we can apply mathmatical operations on set like Union Intersection \n",
    "#   we can represent set elements in curly brackets and with comma seperator\n",
    "#   Indexing and slicing are not allower for set\n",
    "#   Set objects are mutable"
   ]
  },
  {
   "cell_type": "markdown",
   "id": "fcd4aadc-8a2a-43bf-b2da-eea3d1f7f065",
   "metadata": {},
   "source": [
    "#     ......creation of set.........\n"
   ]
  },
  {
   "cell_type": "code",
   "execution_count": 1,
   "id": "8e0f2e2b-8400-4e5f-8639-7d6d3ad0f9c5",
   "metadata": {},
   "outputs": [
    {
     "name": "stdout",
     "output_type": "stream",
     "text": [
      "{40, 10, 20, 30}\n"
     ]
    }
   ],
   "source": [
    "s={10,20,30,40}\n",
    "print(s)"
   ]
  },
  {
   "cell_type": "code",
   "execution_count": 2,
   "id": "be0fbf85-d4ca-4dfa-a385-eb98d4e19ccf",
   "metadata": {},
   "outputs": [
    {
     "name": "stdout",
     "output_type": "stream",
     "text": [
      "<class 'set'>\n"
     ]
    }
   ],
   "source": [
    "print(type(s))"
   ]
  },
  {
   "cell_type": "code",
   "execution_count": 4,
   "id": "4a527870-7e5b-405f-aed5-7e3fd5915f88",
   "metadata": {},
   "outputs": [],
   "source": [
    "s={10,30,20,49,45,47,38,95,35,17,65}"
   ]
  },
  {
   "cell_type": "code",
   "execution_count": 5,
   "id": "47249dab-24f7-4a8d-84ce-0fbf3349d992",
   "metadata": {},
   "outputs": [],
   "source": [
    "s1=set(s)"
   ]
  },
  {
   "cell_type": "code",
   "execution_count": 6,
   "id": "39b925db-c9e8-449c-a91a-77696265025a",
   "metadata": {},
   "outputs": [
    {
     "name": "stdout",
     "output_type": "stream",
     "text": [
      "{65, 35, 38, 10, 45, 47, 49, 17, 20, 30, 95}\n"
     ]
    }
   ],
   "source": [
    "print(s1)"
   ]
  },
  {
   "cell_type": "markdown",
   "id": "231236f3-8f90-4a5e-b718-2fdbed00fcd2",
   "metadata": {},
   "source": [
    "# 1. ADD() function\n",
    "used to add individual item to the set"
   ]
  },
  {
   "cell_type": "code",
   "execution_count": 7,
   "id": "47685de6-35e7-49d4-bda6-154425929b7b",
   "metadata": {},
   "outputs": [],
   "source": [
    "x=40\n",
    "s.add(x)"
   ]
  },
  {
   "cell_type": "code",
   "execution_count": 8,
   "id": "b2e4ac3c-78a4-42bd-9ec7-09a716024c91",
   "metadata": {},
   "outputs": [
    {
     "name": "stdout",
     "output_type": "stream",
     "text": [
      "40\n"
     ]
    }
   ],
   "source": [
    "print(x)"
   ]
  },
  {
   "cell_type": "code",
   "execution_count": 9,
   "id": "3e59b5be-cdee-4a8b-bf72-2510b9f9b90a",
   "metadata": {},
   "outputs": [
    {
     "name": "stdout",
     "output_type": "stream",
     "text": [
      "{65, 35, 38, 40, 10, 45, 47, 49, 17, 20, 30, 95}\n"
     ]
    }
   ],
   "source": [
    "print(s)"
   ]
  },
  {
   "cell_type": "markdown",
   "id": "557b391a-1c6e-4ef0-8b65-972443cfc8c9",
   "metadata": {},
   "source": [
    "# 2. Update() function\n",
    "Used to add multiple items to the set"
   ]
  },
  {
   "cell_type": "code",
   "execution_count": 13,
   "id": "d24b5d4f-31f7-4048-a069-1208ddbd0070",
   "metadata": {},
   "outputs": [],
   "source": [
    "d=[11,345,31,44,52]"
   ]
  },
  {
   "cell_type": "code",
   "execution_count": 14,
   "id": "ffce6676-7aa8-4483-8ff8-614cdc6e82d8",
   "metadata": {},
   "outputs": [],
   "source": [
    "s.update(d,range(6))"
   ]
  },
  {
   "cell_type": "code",
   "execution_count": 15,
   "id": "4bd92142-3c54-4003-84e8-dabc9c28bf14",
   "metadata": {},
   "outputs": [
    {
     "name": "stdout",
     "output_type": "stream",
     "text": [
      "{0, 1, 2, 3, 4, 5, 10, 11, 17, 20, 30, 31, 35, 38, 40, 44, 45, 47, 49, 52, 65, 345, 95}\n"
     ]
    }
   ],
   "source": [
    "print(s)"
   ]
  },
  {
   "cell_type": "markdown",
   "id": "8a64793d-5115-41b4-805d-270125bdb71b",
   "metadata": {},
   "source": [
    "# 3. copy() function\n",
    "returns copy of the object\n",
    "It is cloned object"
   ]
  },
  {
   "cell_type": "code",
   "execution_count": 16,
   "id": "de5fd465-6de4-4e60-8243-093782b98d24",
   "metadata": {},
   "outputs": [],
   "source": [
    "s1=s.copy()"
   ]
  },
  {
   "cell_type": "code",
   "execution_count": 17,
   "id": "10533aa5-7030-49c0-a985-0d440d8c5746",
   "metadata": {},
   "outputs": [
    {
     "name": "stdout",
     "output_type": "stream",
     "text": [
      "{0, 1, 2, 3, 4, 5, 65, 10, 11, 17, 20, 345, 30, 31, 95, 35, 38, 40, 44, 45, 47, 49, 52}\n"
     ]
    }
   ],
   "source": [
    "print(s1)"
   ]
  },
  {
   "cell_type": "markdown",
   "id": "72c5179f-8a11-42db-8904-b6ac3eaebc90",
   "metadata": {},
   "source": [
    "# 4. pop() function\n",
    "IT removes and returns some random elements from the list"
   ]
  },
  {
   "cell_type": "code",
   "execution_count": 7,
   "id": "c9c00c70-6ada-426f-b177-73c633328e97",
   "metadata": {},
   "outputs": [
    {
     "name": "stdout",
     "output_type": "stream",
     "text": [
      "65\n"
     ]
    }
   ],
   "source": [
    "print(s.pop())"
   ]
  },
  {
   "cell_type": "code",
   "execution_count": 8,
   "id": "7aa5aa84-666d-45cf-a3a7-b62ebd02bca3",
   "metadata": {},
   "outputs": [
    {
     "name": "stdout",
     "output_type": "stream",
     "text": [
      "{35, 38, 10, 45, 47, 49, 17, 20, 30, 95}\n"
     ]
    }
   ],
   "source": [
    "print(s)"
   ]
  },
  {
   "cell_type": "markdown",
   "id": "2edd21e0-5287-46a6-ab9c-a929e7963bc1",
   "metadata": {},
   "source": [
    "# 5. remove() function\n",
    "IT removes specified elements from the set."
   ]
  },
  {
   "cell_type": "code",
   "execution_count": 20,
   "id": "64c9d6b3-50f2-4965-b523-66bb532f7884",
   "metadata": {},
   "outputs": [],
   "source": [
    "s.remove(10)"
   ]
  },
  {
   "cell_type": "code",
   "execution_count": 21,
   "id": "1faeb9d1-ebbc-43f9-918f-5b737d225306",
   "metadata": {},
   "outputs": [
    {
     "name": "stdout",
     "output_type": "stream",
     "text": [
      "{1, 2, 3, 4, 5, 11, 17, 20, 30, 31, 35, 38, 40, 44, 45, 47, 49, 52, 65, 345, 95}\n"
     ]
    }
   ],
   "source": [
    "print(s)"
   ]
  },
  {
   "cell_type": "markdown",
   "id": "4a640b3b-b037-4520-abd7-3f611e8b6fb6",
   "metadata": {},
   "source": [
    "# 6. discard () function\n",
    "Its removes specified element  from the set\n"
   ]
  },
  {
   "cell_type": "code",
   "execution_count": 22,
   "id": "4c3f1a7a-41ff-4691-9211-faa5d7ece60b",
   "metadata": {},
   "outputs": [],
   "source": [
    "s.discard(345)"
   ]
  },
  {
   "cell_type": "code",
   "execution_count": 23,
   "id": "90034e97-0a57-479c-99f7-54a5244afaea",
   "metadata": {},
   "outputs": [
    {
     "name": "stdout",
     "output_type": "stream",
     "text": [
      "{1, 2, 3, 4, 5, 11, 17, 20, 30, 31, 35, 38, 40, 44, 45, 47, 49, 52, 65, 95}\n"
     ]
    }
   ],
   "source": [
    "print(s)"
   ]
  },
  {
   "cell_type": "markdown",
   "id": "ae0e359f-32cb-48fb-9c86-c061e1167e36",
   "metadata": {},
   "source": [
    "# 7. Clear() function\n",
    "it removes all the element in the set"
   ]
  },
  {
   "cell_type": "code",
   "execution_count": 24,
   "id": "9c2761d6-a348-48ba-886b-fe27b8925a80",
   "metadata": {},
   "outputs": [],
   "source": [
    "s.clear()"
   ]
  },
  {
   "cell_type": "code",
   "execution_count": 26,
   "id": "fab22eff-edd1-4c07-875c-566b8144509a",
   "metadata": {},
   "outputs": [
    {
     "name": "stdout",
     "output_type": "stream",
     "text": [
      "set()\n"
     ]
    }
   ],
   "source": [
    "print(s)"
   ]
  },
  {
   "cell_type": "markdown",
   "id": "4f2c607a-ee1a-4aed-af0c-ef8feabd49b4",
   "metadata": {},
   "source": [
    "# .... Mathmatical operation on the set.."
   ]
  },
  {
   "cell_type": "code",
   "execution_count": 27,
   "id": "1066d8e5-85f3-4557-8bda-5182bb065735",
   "metadata": {},
   "outputs": [],
   "source": [
    "x={10,20,30,40}\n",
    "y={30,40,50,60}"
   ]
  },
  {
   "cell_type": "markdown",
   "id": "073da85e-5d09-4221-8814-8c64fafd4fa9",
   "metadata": {},
   "source": [
    "   1. Union"
   ]
  },
  {
   "cell_type": "code",
   "execution_count": 28,
   "id": "09deac3f-d10c-4076-9613-f7aed2a55978",
   "metadata": {},
   "outputs": [
    {
     "name": "stdout",
     "output_type": "stream",
     "text": [
      "{40, 10, 50, 20, 60, 30}\n"
     ]
    }
   ],
   "source": [
    "print(x.union(y))"
   ]
  },
  {
   "cell_type": "markdown",
   "id": "6ad8ea33-0ad9-48d8-88f4-6021e215d01a",
   "metadata": {},
   "source": [
    "   2. Intersection"
   ]
  },
  {
   "cell_type": "code",
   "execution_count": 29,
   "id": "4d59d9c7-7f51-4355-9f9a-09c34bd130bb",
   "metadata": {},
   "outputs": [
    {
     "name": "stdout",
     "output_type": "stream",
     "text": [
      "{40, 30}\n"
     ]
    }
   ],
   "source": [
    "print(x.intersection(y))"
   ]
  },
  {
   "cell_type": "markdown",
   "id": "d3d58d12-c3a8-4b7c-ace6-5352761ec54f",
   "metadata": {},
   "source": [
    "   3. difference() "
   ]
  },
  {
   "cell_type": "code",
   "execution_count": 30,
   "id": "b19f936e-c764-4e09-b422-8c97f501dde7",
   "metadata": {},
   "outputs": [
    {
     "name": "stdout",
     "output_type": "stream",
     "text": [
      "{10, 20}\n"
     ]
    }
   ],
   "source": [
    "print(x.difference(y))"
   ]
  },
  {
   "cell_type": "code",
   "execution_count": 31,
   "id": "c2f79066-ca76-4278-a9fe-5b5a7e0b9b00",
   "metadata": {},
   "outputs": [
    {
     "name": "stdout",
     "output_type": "stream",
     "text": [
      "{10, 20}\n"
     ]
    }
   ],
   "source": [
    "print(x-y)"
   ]
  },
  {
   "cell_type": "code",
   "execution_count": 32,
   "id": "cb5dba8b-87a4-4bbb-adbd-ff5a39c4fcbd",
   "metadata": {},
   "outputs": [
    {
     "name": "stdout",
     "output_type": "stream",
     "text": [
      "{50, 60}\n"
     ]
    }
   ],
   "source": [
    "print(y-x)"
   ]
  },
  {
   "cell_type": "markdown",
   "id": "30877c2f-143d-4239-a82c-a8d7f43e74f2",
   "metadata": {},
   "source": [
    "   4.symmetric differnce()"
   ]
  },
  {
   "cell_type": "code",
   "execution_count": 33,
   "id": "46c428e0-daee-4c8c-91bb-6c95633be814",
   "metadata": {},
   "outputs": [
    {
     "name": "stdout",
     "output_type": "stream",
     "text": [
      "{10, 50, 20, 60}\n"
     ]
    }
   ],
   "source": [
    "print(x.symmetric_difference(y))"
   ]
  },
  {
   "cell_type": "code",
   "execution_count": 34,
   "id": "fd2ccf9b-816c-4d71-9c14-4cec7936c10c",
   "metadata": {},
   "outputs": [
    {
     "name": "stdout",
     "output_type": "stream",
     "text": [
      "{10, 50, 20, 60}\n"
     ]
    }
   ],
   "source": [
    "print(x^y)"
   ]
  },
  {
   "cell_type": "code",
   "execution_count": null,
   "id": "e09cf891-0ed3-4433-aaa5-c782ef5f5b5d",
   "metadata": {},
   "outputs": [],
   "source": []
  },
  {
   "cell_type": "code",
   "execution_count": null,
   "id": "e7034aad-020c-40bd-a015-fec34c81d29c",
   "metadata": {},
   "outputs": [],
   "source": []
  },
  {
   "cell_type": "code",
   "execution_count": null,
   "id": "273887b7-5d36-4f7d-b211-e3ea27322a7e",
   "metadata": {},
   "outputs": [],
   "source": []
  },
  {
   "cell_type": "code",
   "execution_count": null,
   "id": "ed26ce93-62fe-41ca-9b76-1cd60988faee",
   "metadata": {},
   "outputs": [],
   "source": []
  }
 ],
 "metadata": {
  "kernelspec": {
   "display_name": "Python 3 (ipykernel)",
   "language": "python",
   "name": "python3"
  },
  "language_info": {
   "codemirror_mode": {
    "name": "ipython",
    "version": 3
   },
   "file_extension": ".py",
   "mimetype": "text/x-python",
   "name": "python",
   "nbconvert_exporter": "python",
   "pygments_lexer": "ipython3",
   "version": "3.11.7"
  }
 },
 "nbformat": 4,
 "nbformat_minor": 5
}
