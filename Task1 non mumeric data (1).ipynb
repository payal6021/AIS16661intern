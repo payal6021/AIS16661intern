{
 "cells": [
  {
   "cell_type": "markdown",
   "id": "ad4d2340-856e-4e61-83ca-d4b6ff2172ec",
   "metadata": {},
   "source": [
    "# ........... non numeric data........"
   ]
  },
  {
   "cell_type": "markdown",
   "id": "f8fc11c6-740a-4a9f-9b35-97e086416e91",
   "metadata": {},
   "source": [
    " 1.   string data type"
   ]
  },
  {
   "cell_type": "markdown",
   "id": "aa8ecdac-1081-4eba-ab92-add851057db3",
   "metadata": {},
   "source": [
    "#  string is a sequence of characters enclosed within single quotes or double quotes"
   ]
  },
  {
   "cell_type": "code",
   "execution_count": 1,
   "id": "1a21178c-0ec1-472b-a14b-059c69de0957",
   "metadata": {},
   "outputs": [
    {
     "name": "stdout",
     "output_type": "stream",
     "text": [
      "Neha\n"
     ]
    }
   ],
   "source": [
    "s1=\"Neha\"\n",
    "print(s1)"
   ]
  },
  {
   "cell_type": "code",
   "execution_count": 2,
   "id": "29765488-1b92-4893-9046-66fba06ccce4",
   "metadata": {},
   "outputs": [
    {
     "name": "stdout",
     "output_type": "stream",
     "text": [
      "<class 'str'>\n"
     ]
    }
   ],
   "source": [
    "print(type(s1))"
   ]
  },
  {
   "cell_type": "code",
   "execution_count": null,
   "id": "aeccd5f0-5e44-4624-b767-0e745382c1d7",
   "metadata": {},
   "outputs": [],
   "source": []
  }
 ],
 "metadata": {
  "kernelspec": {
   "display_name": "Python 3 (ipykernel)",
   "language": "python",
   "name": "python3"
  },
  "language_info": {
   "codemirror_mode": {
    "name": "ipython",
    "version": 3
   },
   "file_extension": ".py",
   "mimetype": "text/x-python",
   "name": "python",
   "nbconvert_exporter": "python",
   "pygments_lexer": "ipython3",
   "version": "3.11.7"
  }
 },
 "nbformat": 4,
 "nbformat_minor": 5
}
