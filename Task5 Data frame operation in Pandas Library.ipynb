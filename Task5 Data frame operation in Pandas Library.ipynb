{
 "cells": [
  {
   "cell_type": "markdown",
   "id": "89086c8b-4547-4b39-ac3a-3800c3b4e935",
   "metadata": {},
   "source": [
    "# In-Builts function/Operations\n",
    "# > df.head()\n",
    "# > df.tail()\n",
    "# > df.shape\n",
    "# > df.size\n",
    "# > df.columns\n",
    "# > df.dtypes\n",
    "# > df.values\n",
    "# >df.index"
   ]
  },
  {
   "cell_type": "code",
   "execution_count": 7,
   "id": "3e9b88da-0718-4189-a84c-7e1574696131",
   "metadata": {},
   "outputs": [
    {
     "data": {
      "text/html": [
       "<div>\n",
       "<style scoped>\n",
       "    .dataframe tbody tr th:only-of-type {\n",
       "        vertical-align: middle;\n",
       "    }\n",
       "\n",
       "    .dataframe tbody tr th {\n",
       "        vertical-align: top;\n",
       "    }\n",
       "\n",
       "    .dataframe thead th {\n",
       "        text-align: right;\n",
       "    }\n",
       "</style>\n",
       "<table border=\"1\" class=\"dataframe\">\n",
       "  <thead>\n",
       "    <tr style=\"text-align: right;\">\n",
       "      <th></th>\n",
       "      <th>std_id</th>\n",
       "      <th>name</th>\n",
       "      <th>age</th>\n",
       "      <th>marks</th>\n",
       "    </tr>\n",
       "  </thead>\n",
       "  <tbody>\n",
       "    <tr>\n",
       "      <th>0</th>\n",
       "      <td>1</td>\n",
       "      <td>radha</td>\n",
       "      <td>22</td>\n",
       "      <td>76</td>\n",
       "    </tr>\n",
       "    <tr>\n",
       "      <th>1</th>\n",
       "      <td>2</td>\n",
       "      <td>rani</td>\n",
       "      <td>32</td>\n",
       "      <td>78</td>\n",
       "    </tr>\n",
       "  </tbody>\n",
       "</table>\n",
       "</div>"
      ],
      "text/plain": [
       "   std_id   name  age  marks\n",
       "0       1  radha   22     76\n",
       "1       2   rani   32     78"
      ]
     },
     "execution_count": 7,
     "metadata": {},
     "output_type": "execute_result"
    }
   ],
   "source": [
    "# it highlight top two rows\n",
    "df.head(2)"
   ]
  },
  {
   "cell_type": "code",
   "execution_count": 8,
   "id": "7aaf3786-5446-4488-8660-14fe08608e18",
   "metadata": {},
   "outputs": [
    {
     "data": {
      "text/html": [
       "<div>\n",
       "<style scoped>\n",
       "    .dataframe tbody tr th:only-of-type {\n",
       "        vertical-align: middle;\n",
       "    }\n",
       "\n",
       "    .dataframe tbody tr th {\n",
       "        vertical-align: top;\n",
       "    }\n",
       "\n",
       "    .dataframe thead th {\n",
       "        text-align: right;\n",
       "    }\n",
       "</style>\n",
       "<table border=\"1\" class=\"dataframe\">\n",
       "  <thead>\n",
       "    <tr style=\"text-align: right;\">\n",
       "      <th></th>\n",
       "      <th>std_id</th>\n",
       "      <th>name</th>\n",
       "      <th>age</th>\n",
       "      <th>marks</th>\n",
       "    </tr>\n",
       "  </thead>\n",
       "  <tbody>\n",
       "    <tr>\n",
       "      <th>3</th>\n",
       "      <td>4</td>\n",
       "      <td>shejal</td>\n",
       "      <td>43</td>\n",
       "      <td>87</td>\n",
       "    </tr>\n",
       "    <tr>\n",
       "      <th>4</th>\n",
       "      <td>5</td>\n",
       "      <td>priti</td>\n",
       "      <td>34</td>\n",
       "      <td>89</td>\n",
       "    </tr>\n",
       "  </tbody>\n",
       "</table>\n",
       "</div>"
      ],
      "text/plain": [
       "   std_id    name  age  marks\n",
       "3       4  shejal   43     87\n",
       "4       5   priti   34     89"
      ]
     },
     "execution_count": 8,
     "metadata": {},
     "output_type": "execute_result"
    }
   ],
   "source": [
    "# it highlight last two rows\n",
    "df.tail(2)"
   ]
  },
  {
   "cell_type": "code",
   "execution_count": 9,
   "id": "e9ac8750-fb05-42a8-bbe2-5df05e1cd2d5",
   "metadata": {},
   "outputs": [
    {
     "data": {
      "text/plain": [
       "(5, 4)"
      ]
     },
     "execution_count": 9,
     "metadata": {},
     "output_type": "execute_result"
    }
   ],
   "source": [
    "# it mention no. of rows and no. of columns\n",
    "df.shape"
   ]
  },
  {
   "cell_type": "code",
   "execution_count": 11,
   "id": "e83b0297-144d-4cde-b496-9eb4d3f47ab7",
   "metadata": {},
   "outputs": [
    {
     "data": {
      "text/plain": [
       "0    22\n",
       "1    32\n",
       "2    23\n",
       "3    43\n",
       "4    34\n",
       "Name: age, dtype: int64"
      ]
     },
     "execution_count": 11,
     "metadata": {},
     "output_type": "execute_result"
    }
   ],
   "source": [
    "# it shows age columns\n",
    "df.age"
   ]
  },
  {
   "cell_type": "code",
   "execution_count": 12,
   "id": "530d1775-273a-47f1-bd8c-6efd84c3c993",
   "metadata": {},
   "outputs": [
    {
     "data": {
      "text/plain": [
       "20"
      ]
     },
     "execution_count": 12,
     "metadata": {},
     "output_type": "execute_result"
    }
   ],
   "source": [
    "# no.of columns values*no.of rows values \n",
    "df.size"
   ]
  },
  {
   "cell_type": "code",
   "execution_count": 13,
   "id": "8ae13224-d787-4c49-a8a2-3c41861c75f6",
   "metadata": {},
   "outputs": [
    {
     "data": {
      "text/plain": [
       "array([[1, 'radha', 22, 76],\n",
       "       [2, 'rani', 32, 78],\n",
       "       [3, 'shital', 23, 89],\n",
       "       [4, 'shejal', 43, 87],\n",
       "       [5, 'priti', 34, 89]], dtype=object)"
      ]
     },
     "execution_count": 13,
     "metadata": {},
     "output_type": "execute_result"
    }
   ],
   "source": [
    "df.values"
   ]
  },
  {
   "cell_type": "code",
   "execution_count": 15,
   "id": "2303bd84-908f-44d9-a2f0-2bc303027bf3",
   "metadata": {},
   "outputs": [
    {
     "data": {
      "text/plain": [
       "std_id     int64\n",
       "name      object\n",
       "age        int64\n",
       "marks      int64\n",
       "dtype: object"
      ]
     },
     "execution_count": 15,
     "metadata": {},
     "output_type": "execute_result"
    }
   ],
   "source": [
    "df.dtypes"
   ]
  },
  {
   "cell_type": "code",
   "execution_count": 16,
   "id": "5b77f2ad-0b59-4bb7-aa40-88ca3fdae3aa",
   "metadata": {},
   "outputs": [
    {
     "data": {
      "text/plain": [
       "RangeIndex(start=0, stop=5, step=1)"
      ]
     },
     "execution_count": 16,
     "metadata": {},
     "output_type": "execute_result"
    }
   ],
   "source": [
    "df.index"
   ]
  },
  {
   "cell_type": "code",
   "execution_count": null,
   "id": "7d09005c-0aa4-4e20-8a64-cb35391df1e5",
   "metadata": {},
   "outputs": [],
   "source": [
    "#    Data frame Operations"
   ]
  },
  {
   "cell_type": "code",
   "execution_count": 1,
   "id": "220ae8b1-36ef-4694-bd65-54d334fc9695",
   "metadata": {},
   "outputs": [
    {
     "data": {
      "text/html": [
       "<div>\n",
       "<style scoped>\n",
       "    .dataframe tbody tr th:only-of-type {\n",
       "        vertical-align: middle;\n",
       "    }\n",
       "\n",
       "    .dataframe tbody tr th {\n",
       "        vertical-align: top;\n",
       "    }\n",
       "\n",
       "    .dataframe thead th {\n",
       "        text-align: right;\n",
       "    }\n",
       "</style>\n",
       "<table border=\"1\" class=\"dataframe\">\n",
       "  <thead>\n",
       "    <tr style=\"text-align: right;\">\n",
       "      <th></th>\n",
       "      <th>std_id</th>\n",
       "      <th>name</th>\n",
       "      <th>age</th>\n",
       "      <th>marks</th>\n",
       "    </tr>\n",
       "  </thead>\n",
       "  <tbody>\n",
       "    <tr>\n",
       "      <th>0</th>\n",
       "      <td>1</td>\n",
       "      <td>radha</td>\n",
       "      <td>22</td>\n",
       "      <td>76</td>\n",
       "    </tr>\n",
       "    <tr>\n",
       "      <th>1</th>\n",
       "      <td>2</td>\n",
       "      <td>rani</td>\n",
       "      <td>32</td>\n",
       "      <td>78</td>\n",
       "    </tr>\n",
       "    <tr>\n",
       "      <th>2</th>\n",
       "      <td>3</td>\n",
       "      <td>shital</td>\n",
       "      <td>23</td>\n",
       "      <td>89</td>\n",
       "    </tr>\n",
       "    <tr>\n",
       "      <th>3</th>\n",
       "      <td>4</td>\n",
       "      <td>shejal</td>\n",
       "      <td>43</td>\n",
       "      <td>87</td>\n",
       "    </tr>\n",
       "    <tr>\n",
       "      <th>4</th>\n",
       "      <td>5</td>\n",
       "      <td>priti</td>\n",
       "      <td>34</td>\n",
       "      <td>89</td>\n",
       "    </tr>\n",
       "  </tbody>\n",
       "</table>\n",
       "</div>"
      ],
      "text/plain": [
       "   std_id    name  age  marks\n",
       "0       1   radha   22     76\n",
       "1       2    rani   32     78\n",
       "2       3  shital   23     89\n",
       "3       4  shejal   43     87\n",
       "4       5   priti   34     89"
      ]
     },
     "execution_count": 1,
     "metadata": {},
     "output_type": "execute_result"
    }
   ],
   "source": [
    "import pandas as pd\n",
    "df=pd.read_csv(\"student.csv\")\n",
    "df"
   ]
  },
  {
   "cell_type": "code",
   "execution_count": 2,
   "id": "a0dcc251-b958-4529-b9c0-9fe8437f4b84",
   "metadata": {},
   "outputs": [
    {
     "name": "stdout",
     "output_type": "stream",
     "text": [
      "name\n",
      "radha     1\n",
      "rani      1\n",
      "shital    1\n",
      "shejal    1\n",
      "priti     1\n",
      "Name: count, dtype: int64\n"
     ]
    }
   ],
   "source": [
    "count_name=df['name'].value_counts()\n",
    "print(count_name)"
   ]
  },
  {
   "cell_type": "code",
   "execution_count": 3,
   "id": "ce0af15d-75b6-464c-8470-bfaa9c1f9275",
   "metadata": {},
   "outputs": [
    {
     "name": "stdout",
     "output_type": "stream",
     "text": [
      "   std_id    name  age  marks  age_sq\n",
      "0       1   radha   22     76     484\n",
      "1       2    rani   32     78    1024\n",
      "2       3  shital   23     89     529\n",
      "3       4  shejal   43     87    1849\n",
      "4       5   priti   34     89    1156\n"
     ]
    }
   ],
   "source": [
    "df['age_sq']=df['age'].apply(lambda x:x**2)\n",
    "print(df)"
   ]
  },
  {
   "cell_type": "code",
   "execution_count": 4,
   "id": "d4693fa6-0d01-47bb-acf7-6bb70cd0efb0",
   "metadata": {},
   "outputs": [
    {
     "name": "stdout",
     "output_type": "stream",
     "text": [
      "4\n"
     ]
    }
   ],
   "source": [
    "unique_marks_count=df['marks'].nunique()\n",
    "print(unique_marks_count)"
   ]
  },
  {
   "cell_type": "code",
   "execution_count": 5,
   "id": "aa745a7f-2cd2-414c-9564-f012e080a929",
   "metadata": {},
   "outputs": [
    {
     "name": "stdout",
     "output_type": "stream",
     "text": [
      "         std_id        age      marks       age_sq\n",
      "count  5.000000   5.000000   5.000000     5.000000\n",
      "mean   3.000000  30.800000  83.800000  1008.400000\n",
      "std    1.581139   8.642916   6.300794   555.305592\n",
      "min    1.000000  22.000000  76.000000   484.000000\n",
      "25%    2.000000  23.000000  78.000000   529.000000\n",
      "50%    3.000000  32.000000  87.000000  1024.000000\n",
      "75%    4.000000  34.000000  89.000000  1156.000000\n",
      "max    5.000000  43.000000  89.000000  1849.000000\n"
     ]
    }
   ],
   "source": [
    "print(df.describe())"
   ]
  },
  {
   "cell_type": "code",
   "execution_count": null,
   "id": "a0982cd1-2954-4ff5-a2a9-6d29ebfb695f",
   "metadata": {},
   "outputs": [],
   "source": []
  }
 ],
 "metadata": {
  "kernelspec": {
   "display_name": "Python 3 (ipykernel)",
   "language": "python",
   "name": "python3"
  },
  "language_info": {
   "codemirror_mode": {
    "name": "ipython",
    "version": 3
   },
   "file_extension": ".py",
   "mimetype": "text/x-python",
   "name": "python",
   "nbconvert_exporter": "python",
   "pygments_lexer": "ipython3",
   "version": "3.11.7"
  }
 },
 "nbformat": 4,
 "nbformat_minor": 5
}
