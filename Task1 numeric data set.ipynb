{
 "cells": [
  {
   "cell_type": "markdown",
   "id": "1333434a-5f76-4615-a7c7-92572c276189",
   "metadata": {},
   "source": [
    "#   ......Numeric data type....."
   ]
  },
  {
   "cell_type": "markdown",
   "id": "2fe6a591-2faf-4694-88d1-85d5d1dfd244",
   "metadata": {},
   "source": [
    "#  1. Integer \n",
    "#  2. float\n",
    "#  3. complex"
   ]
  },
  {
   "cell_type": "markdown",
   "id": "18ddfbb4-8195-4b9a-9396-6bbb581a7b16",
   "metadata": {},
   "source": [
    "       1. Integer"
   ]
  },
  {
   "cell_type": "markdown",
   "id": "9cdbc700-c769-4a08-b0dc-8392addf432f",
   "metadata": {},
   "source": [
    "used to represent whole numbers"
   ]
  },
  {
   "cell_type": "code",
   "execution_count": 1,
   "id": "a76758e3-03fa-43ee-9f3c-58488d6c174d",
   "metadata": {},
   "outputs": [
    {
     "name": "stdout",
     "output_type": "stream",
     "text": [
      "<class 'int'>\n"
     ]
    }
   ],
   "source": [
    "a=10\n",
    "print(type(a))"
   ]
  },
  {
   "cell_type": "markdown",
   "id": "48cbec02-4666-4de8-8309-623fcdadce73",
   "metadata": {},
   "source": [
    "       2. float"
   ]
  },
  {
   "cell_type": "markdown",
   "id": "f523f254-11b3-4b8d-84a1-10c400231f60",
   "metadata": {},
   "source": [
    "used to represent floating value (decimal value)"
   ]
  },
  {
   "cell_type": "code",
   "execution_count": 2,
   "id": "60e2e3c8-0c95-46c8-b9e2-ad29415cbc22",
   "metadata": {},
   "outputs": [
    {
     "name": "stdout",
     "output_type": "stream",
     "text": [
      "<class 'float'>\n"
     ]
    }
   ],
   "source": [
    "f=2.34\n",
    "print(type(f))"
   ]
  },
  {
   "cell_type": "markdown",
   "id": "7e1166a9-81be-4210-a215-4b0947615d7e",
   "metadata": {},
   "source": [
    "We can also represent floating point value by using exponential form"
   ]
  },
  {
   "cell_type": "code",
   "execution_count": 4,
   "id": "53d93ee9-e7ba-4dfd-83d2-9c09f6e5e031",
   "metadata": {},
   "outputs": [],
   "source": [
    "g=3.14e3"
   ]
  },
  {
   "cell_type": "code",
   "execution_count": 5,
   "id": "8760c183-3869-40f1-bce9-0d2b53dba850",
   "metadata": {},
   "outputs": [
    {
     "name": "stdout",
     "output_type": "stream",
     "text": [
      "3140.0\n"
     ]
    }
   ],
   "source": [
    "print(g)"
   ]
  },
  {
   "cell_type": "markdown",
   "id": "4a0117f0-e304-4a68-9913-32a8fdce53eb",
   "metadata": {},
   "source": [
    "we can represent big value in less memory"
   ]
  },
  {
   "cell_type": "markdown",
   "id": "080d343b-b2f7-4715-867a-4407363cb016",
   "metadata": {},
   "source": [
    "     3. complex "
   ]
  },
  {
   "cell_type": "markdown",
   "id": "cbd130ed-9928-4cfc-8c92-1178606e8d4b",
   "metadata": {},
   "source": [
    " A complex no is of the form\n",
    "a+bj    : where j^2=-1\n",
    "                j=sqrt(-1)"
   ]
  },
  {
   "cell_type": "code",
   "execution_count": 7,
   "id": "98ffcd3b-5722-4028-9075-e021ca9190dc",
   "metadata": {},
   "outputs": [
    {
     "name": "stdout",
     "output_type": "stream",
     "text": [
      "(23+8.9j)\n"
     ]
    }
   ],
   "source": [
    "a=10+5.5j\n",
    "b=13+3.4j\n",
    "c=(a+b)\n",
    "print(c)"
   ]
  },
  {
   "cell_type": "code",
   "execution_count": 8,
   "id": "4468cf08-c089-4d59-9ee6-ae18110cf4f4",
   "metadata": {},
   "outputs": [
    {
     "name": "stdout",
     "output_type": "stream",
     "text": [
      "<class 'complex'>\n"
     ]
    }
   ],
   "source": [
    "print(type(c))"
   ]
  },
  {
   "cell_type": "markdown",
   "id": "e3399d54-00d7-4dd3-89f6-74255f0e9f53",
   "metadata": {},
   "source": [
    "\n",
    "# ........... non numeric data........"
   ]
  },
  {
   "cell_type": "markdown",
   "id": "ba73dafd-1707-49ae-be35-30f04e542ef7",
   "metadata": {},
   "source": [
    "     1.   string data type"
   ]
  },
  {
   "cell_type": "markdown",
   "id": "97f01072-2fb4-41f4-a319-82918ac53c24",
   "metadata": {},
   "source": [
    "#  string is a sequence of characters enclosed within single quotes or double quotes"
   ]
  },
  {
   "cell_type": "code",
   "execution_count": 10,
   "id": "08fd35d2-0b04-4287-82cb-d690b0f96e9f",
   "metadata": {},
   "outputs": [],
   "source": [
    "s1=\"Neha\""
   ]
  },
  {
   "cell_type": "code",
   "execution_count": 11,
   "id": "c640248a-9bd8-4a1e-abb1-15579f945002",
   "metadata": {},
   "outputs": [
    {
     "name": "stdout",
     "output_type": "stream",
     "text": [
      "Neha\n"
     ]
    }
   ],
   "source": [
    "print(s1)"
   ]
  },
  {
   "cell_type": "code",
   "execution_count": 12,
   "id": "6a4e7481-8e20-417d-af1c-557813300e1a",
   "metadata": {},
   "outputs": [
    {
     "data": {
      "text/plain": [
       "str"
      ]
     },
     "execution_count": 12,
     "metadata": {},
     "output_type": "execute_result"
    }
   ],
   "source": [
    "type(s1)"
   ]
  },
  {
   "cell_type": "code",
   "execution_count": null,
   "id": "95e38b99-01f2-4cab-8dbe-5002536155ed",
   "metadata": {},
   "outputs": [],
   "source": []
  }
 ],
 "metadata": {
  "kernelspec": {
   "display_name": "Python 3 (ipykernel)",
   "language": "python",
   "name": "python3"
  },
  "language_info": {
   "codemirror_mode": {
    "name": "ipython",
    "version": 3
   },
   "file_extension": ".py",
   "mimetype": "text/x-python",
   "name": "python",
   "nbconvert_exporter": "python",
   "pygments_lexer": "ipython3",
   "version": "3.11.7"
  }
 },
 "nbformat": 4,
 "nbformat_minor": 5
}
