{
 "cells": [
  {
   "cell_type": "markdown",
   "id": "aa4c8512-14bc-4767-aebb-8383428a76ac",
   "metadata": {},
   "source": [
    "# BASIC MATH FUNCTION\n",
    "# Arithmatic operations of Numpy arrays\n",
    "# > substraction(-)\n",
    "# > multiplication(*)\n",
    "# > Division(/)\n",
    "# > matrix multiplication(@)\n",
    "# > Modulo(%)\n",
    "# > Transpose\n",
    "# > Exponentiation(**)\n",
    "# > Floor Division(//)"
   ]
  },
  {
   "cell_type": "markdown",
   "id": "0554390e-ca62-44f2-a141-09f3db0f6bc4",
   "metadata": {},
   "source": [
    "1. additin of numpy elements"
   ]
  },
  {
   "cell_type": "code",
   "execution_count": 1,
   "id": "833e0f61-f60b-4ec0-b52a-adf154e6d090",
   "metadata": {},
   "outputs": [
    {
     "data": {
      "text/plain": [
       "100"
      ]
     },
     "execution_count": 1,
     "metadata": {},
     "output_type": "execute_result"
    }
   ],
   "source": [
    "import numpy as np\n",
    "n1=np.array([10,20])\n",
    "n2=np.array([30,40])\n",
    "np.sum((n1,n2))"
   ]
  },
  {
   "cell_type": "code",
   "execution_count": 1,
   "id": "9cb318a1-1139-46a0-8894-da9f0922efdb",
   "metadata": {},
   "outputs": [
    {
     "name": "stdout",
     "output_type": "stream",
     "text": [
      "[40 60]\n"
     ]
    }
   ],
   "source": [
    "# Addition\n",
    "import numpy as np\n",
    "n1=np.array([10,20])\n",
    "n2=np.array([30,40])\n",
    "z=n1+n2\n",
    "print(z)"
   ]
  },
  {
   "cell_type": "code",
   "execution_count": 2,
   "id": "c2982e14-d9c1-4e9d-9393-11d4a296a6c6",
   "metadata": {},
   "outputs": [
    {
     "name": "stdout",
     "output_type": "stream",
     "text": [
      "[-20 -20]\n"
     ]
    }
   ],
   "source": [
    "# substraction\n",
    "import numpy as np\n",
    "n1=np.array([10,20])\n",
    "n2=np.array([30,40])\n",
    "z=n1-n2\n",
    "print(z)"
   ]
  },
  {
   "cell_type": "code",
   "execution_count": 3,
   "id": "b322c84f-df20-413b-b14d-897493f06cd7",
   "metadata": {},
   "outputs": [
    {
     "name": "stdout",
     "output_type": "stream",
     "text": [
      "1100\n"
     ]
    }
   ],
   "source": [
    "# Matrix multiplication\n",
    "import numpy as np\n",
    "n1=np.array([10,20])\n",
    "n2=np.array([30,40])\n",
    "z=n1@n2\n",
    "print(z)"
   ]
  },
  {
   "cell_type": "markdown",
   "id": "2ad48e64-ef38-4612-831c-0a6f4b966382",
   "metadata": {},
   "source": [
    "2. Basic multiplication "
   ]
  },
  {
   "cell_type": "code",
   "execution_count": 3,
   "id": "190c53b5-bbb6-4e01-8907-ff595386702f",
   "metadata": {},
   "outputs": [
    {
     "data": {
      "text/plain": [
       "array([20, 40])"
      ]
     },
     "execution_count": 3,
     "metadata": {},
     "output_type": "execute_result"
    }
   ],
   "source": [
    "import numpy as np\n",
    "n1=np.array([10,20])\n",
    "n1=n1*2\n",
    "n1"
   ]
  },
  {
   "cell_type": "markdown",
   "id": "e1e5ed99-dff3-4743-b3f8-8b083a0348d0",
   "metadata": {},
   "source": [
    "3.Basic Addition"
   ]
  },
  {
   "cell_type": "code",
   "execution_count": 4,
   "id": "cb5e7bc9-d6d3-4635-a58c-f2bf3750a1ea",
   "metadata": {},
   "outputs": [
    {
     "data": {
      "text/plain": [
       "array([11, 21])"
      ]
     },
     "execution_count": 4,
     "metadata": {},
     "output_type": "execute_result"
    }
   ],
   "source": [
    "import numpy as np\n",
    "n1=np.array([10,20])\n",
    "n1=n1+1\n",
    "n1"
   ]
  },
  {
   "cell_type": "markdown",
   "id": "f298502b-94f1-4755-ab95-0a28075cc6c5",
   "metadata": {},
   "source": [
    "4. basic substraction"
   ]
  },
  {
   "cell_type": "code",
   "execution_count": 5,
   "id": "c2b3cf32-ae05-4c73-96cb-9d483af67959",
   "metadata": {},
   "outputs": [
    {
     "data": {
      "text/plain": [
       "array([ 9, 19])"
      ]
     },
     "execution_count": 5,
     "metadata": {},
     "output_type": "execute_result"
    }
   ],
   "source": [
    "import numpy as np\n",
    "n1=np.array([10,20])\n",
    "n1=n1-1\n",
    "n1"
   ]
  },
  {
   "cell_type": "markdown",
   "id": "50f9be0b-d0b1-4768-b995-668066a66955",
   "metadata": {},
   "source": [
    "4. basic division"
   ]
  },
  {
   "cell_type": "code",
   "execution_count": 7,
   "id": "14bb73d5-166e-43c6-9790-a16f7d666fcc",
   "metadata": {},
   "outputs": [
    {
     "data": {
      "text/plain": [
       "array([ 5., 10.])"
      ]
     },
     "execution_count": 7,
     "metadata": {},
     "output_type": "execute_result"
    }
   ],
   "source": [
    "# division\n",
    "import numpy as np\n",
    "n1=np.array([10,20])\n",
    "n1=n1/2\n",
    "n1"
   ]
  },
  {
   "cell_type": "code",
   "execution_count": 6,
   "id": "7572fa9d-a085-4519-bfed-8e3496143da9",
   "metadata": {},
   "outputs": [
    {
     "name": "stdout",
     "output_type": "stream",
     "text": [
      "[[0.33333333 0.5       ]\n",
      " [0.75       0.77777778]]\n"
     ]
    }
   ],
   "source": [
    "import numpy as np\n",
    "n1=np.array([[10,20],[60,70]])\n",
    "n2=np.array([[30,40],[80,90]])\n",
    "z=n1/n2\n",
    "print(z)"
   ]
  },
  {
   "cell_type": "code",
   "execution_count": 7,
   "id": "58713f0b-5806-444d-bae1-e93944c713d0",
   "metadata": {},
   "outputs": [
    {
     "name": "stdout",
     "output_type": "stream",
     "text": [
      "[[0 0]\n",
      " [0 0]]\n"
     ]
    }
   ],
   "source": [
    "# floor division\n",
    "import numpy as np\n",
    "n1=np.array([[10,20],[60,70]])\n",
    "n2=np.array([[30,40],[80,90]])\n",
    "z=n1//n2\n",
    "print(z)"
   ]
  },
  {
   "cell_type": "code",
   "execution_count": 8,
   "id": "ca132527-d413-491b-ac26-6d654672a910",
   "metadata": {},
   "outputs": [
    {
     "name": "stdout",
     "output_type": "stream",
     "text": [
      "[[1073741824          0]\n",
      " [         0          0]]\n"
     ]
    }
   ],
   "source": [
    "# Exponentiation\n",
    "import numpy as np\n",
    "n1=np.array([[10,20],[60,70]])\n",
    "n2=np.array([[30,40],[80,90]])\n",
    "z=n1**n2\n",
    "print(z)"
   ]
  },
  {
   "cell_type": "code",
   "execution_count": 9,
   "id": "5b654b7f-c163-4c87-acbb-ea710be65334",
   "metadata": {},
   "outputs": [
    {
     "name": "stdout",
     "output_type": "stream",
     "text": [
      "[[10 20]\n",
      " [60 70]]\n"
     ]
    }
   ],
   "source": [
    "# Modulo\n",
    "import numpy as np\n",
    "n1=np.array([[10,20],[60,70]])\n",
    "n2=np.array([[30,40],[80,90]])\n",
    "z=n1%n2\n",
    "print(z)"
   ]
  },
  {
   "cell_type": "markdown",
   "id": "53e1f4ab-7ee0-4d5b-bb26-6a2706a5aa2a",
   "metadata": {},
   "source": [
    "NUMPY MATH FUNCTION"
   ]
  },
  {
   "cell_type": "code",
   "execution_count": 11,
   "id": "890bd5b4-6557-4105-a90b-391db24cd3ba",
   "metadata": {},
   "outputs": [
    {
     "name": "stdout",
     "output_type": "stream",
     "text": [
      "<built-in method transpose of numpy.ndarray object at 0x0000021B92883D50>\n"
     ]
    }
   ],
   "source": [
    "# Transpose\n",
    "import numpy as np\n",
    "n1=np.array([[10,20],[60,70]])\n",
    "print(n1.transpose)"
   ]
  },
  {
   "cell_type": "code",
   "execution_count": 14,
   "id": "9d86f797-3e20-4f31-beb7-f1d8f93d95ec",
   "metadata": {},
   "outputs": [
    {
     "data": {
      "text/plain": [
       "15.0"
      ]
     },
     "execution_count": 14,
     "metadata": {},
     "output_type": "execute_result"
    }
   ],
   "source": [
    "# 1. mean\n",
    "import numpy as np\n",
    "n1=np.array([10,20])\n",
    "np.mean(n1)"
   ]
  },
  {
   "cell_type": "code",
   "execution_count": 13,
   "id": "ef14b94b-2968-4760-a7ca-2edcc50dd104",
   "metadata": {},
   "outputs": [
    {
     "data": {
      "text/plain": [
       "15.0"
      ]
     },
     "execution_count": 13,
     "metadata": {},
     "output_type": "execute_result"
    }
   ],
   "source": [
    "n1=np.array([10,20])\n",
    "np.median(n1)"
   ]
  },
  {
   "cell_type": "markdown",
   "id": "e08dfe0a-fbf3-4a7f-ac98-59da3f68789d",
   "metadata": {},
   "source": [
    "# # Sorting arrays in Numpy\n",
    "# >np.sort()--(It will returns a sorting copy of an array)\n",
    "# >np.arg()-- (return the Indices that would sort an array)\n",
    "# >ndarray.sort()--(use array name and sort it in place)"
   ]
  },
  {
   "cell_type": "code",
   "execution_count": 27,
   "id": "14086ed8-90df-4bc5-844d-23f9e311d2fb",
   "metadata": {},
   "outputs": [
    {
     "name": "stdout",
     "output_type": "stream",
     "text": [
      "[1 3 3 4 5 7 8 9]\n"
     ]
    }
   ],
   "source": [
    "# sorting in Assending order (By-default)\n",
    "x=np.array([1,4,5,7,3,8,3,9])\n",
    "y=np.sort(x)\n",
    "print(y)"
   ]
  },
  {
   "cell_type": "code",
   "execution_count": 29,
   "id": "7288c78f-e17c-4e65-baf1-2ab00dcaae30",
   "metadata": {},
   "outputs": [
    {
     "name": "stdout",
     "output_type": "stream",
     "text": [
      "[9 8 7 5 4 3 3 1]\n"
     ]
    }
   ],
   "source": [
    "# To sorting in Desending order\n",
    "x=np.array([1,4,5,7,3,8,3,9])\n",
    "y=np.sort(x)[::-1]\n",
    "print(y)"
   ]
  },
  {
   "cell_type": "code",
   "execution_count": 28,
   "id": "1a732338-8df2-4519-b184-83561f61e81a",
   "metadata": {},
   "outputs": [
    {
     "name": "stdout",
     "output_type": "stream",
     "text": [
      "[0 4 6 1 2 3 5 7]\n"
     ]
    }
   ],
   "source": [
    "x=np.array([1,4,5,7,3,8,3,9])\n",
    "y=np.argsort(x)\n",
    "print(y)"
   ]
  },
  {
   "cell_type": "code",
   "execution_count": null,
   "id": "7560a9e6-bbcc-48f7-be98-a27da9da3bba",
   "metadata": {},
   "outputs": [],
   "source": []
  },
  {
   "cell_type": "markdown",
   "id": "c8f56650-53f5-4ba7-ab50-26f69bcbe904",
   "metadata": {},
   "source": [
    "# Sorting 2-D arrays in Numpy"
   ]
  },
  {
   "cell_type": "code",
   "execution_count": 25,
   "id": "e9046d57-d0dd-49d8-b37f-429868a9bae1",
   "metadata": {},
   "outputs": [
    {
     "name": "stdout",
     "output_type": "stream",
     "text": [
      "[[12 13 18]\n",
      " [14 17 15]\n",
      " [19 25 21]]\n",
      "[[12 13 18]\n",
      " [14 15 17]\n",
      " [19 21 25]]\n"
     ]
    }
   ],
   "source": [
    "# sorting column-wise\n",
    "x=np.array([[12,13,18],[14,17,15],[19,25,21]])\n",
    "print(x)\n",
    "x.sort()\n",
    "print(x)"
   ]
  },
  {
   "cell_type": "code",
   "execution_count": 21,
   "id": "1a1032df-df95-4e3e-9bde-590cb013f003",
   "metadata": {},
   "outputs": [
    {
     "name": "stdout",
     "output_type": "stream",
     "text": [
      "[[12 13 18]\n",
      " [14 17 15]\n",
      " [19 25 21]]\n",
      "[[12 13 18]\n",
      " [14 15 17]\n",
      " [19 21 25]]\n"
     ]
    }
   ],
   "source": [
    "# sorting row-wise(bydefoult)\n",
    "x=np.array([[12,13,18],[14,17,15],[19,25,21]])\n",
    "print(x)\n",
    "z=np.sort(x)\n",
    "print(z)"
   ]
  },
  {
   "cell_type": "code",
   "execution_count": 22,
   "id": "f1571493-b9a1-4609-ad2e-52f628c52d27",
   "metadata": {},
   "outputs": [
    {
     "name": "stdout",
     "output_type": "stream",
     "text": [
      "[[12 13 18]\n",
      " [14 17 15]\n",
      " [19 25 21]]\n",
      "[[12 13 15]\n",
      " [14 17 18]\n",
      " [19 25 21]]\n"
     ]
    }
   ],
   "source": [
    "# sorting column-wise\n",
    "x=np.array([[12,13,18],[14,17,15],[19,25,21]])\n",
    "print(x)\n",
    "z=np.sort(x,axis=0)\n",
    "print(z)"
   ]
  },
  {
   "cell_type": "code",
   "execution_count": 23,
   "id": "a914ca29-f1ec-46d9-9c20-81224f1d5e45",
   "metadata": {},
   "outputs": [
    {
     "name": "stdout",
     "output_type": "stream",
     "text": [
      "[[12 13 18]\n",
      " [14 17 15]\n",
      " [19 25 21]]\n",
      "[[0 0 1]\n",
      " [1 1 0]\n",
      " [2 2 2]]\n"
     ]
    }
   ],
   "source": [
    "# sorting column-wise\n",
    "x=np.array([[12,13,18],[14,17,15],[19,25,21]])\n",
    "print(x)\n",
    "z=np.argsort(x,axis=0)\n",
    "print(z)"
   ]
  },
  {
   "cell_type": "code",
   "execution_count": 24,
   "id": "0de26b39-5878-46a0-a9f9-c766d8bcf889",
   "metadata": {},
   "outputs": [
    {
     "name": "stdout",
     "output_type": "stream",
     "text": [
      "[[12 13 18]\n",
      " [14 17 15]\n",
      " [19 25 21]]\n",
      "[[0 1 2]\n",
      " [0 2 1]\n",
      " [0 2 1]]\n"
     ]
    }
   ],
   "source": [
    "# sorting row-wise\n",
    "x=np.array([[12,13,18],[14,17,15],[19,25,21]])\n",
    "print(x)\n",
    "z=np.argsort(x,axis=1)\n",
    "print(z)"
   ]
  },
  {
   "cell_type": "markdown",
   "id": "986d9332-152c-45a1-bf72-a648617d7670",
   "metadata": {},
   "source": []
  }
 ],
 "metadata": {
  "kernelspec": {
   "display_name": "Python 3 (ipykernel)",
   "language": "python",
   "name": "python3"
  },
  "language_info": {
   "codemirror_mode": {
    "name": "ipython",
    "version": 3
   },
   "file_extension": ".py",
   "mimetype": "text/x-python",
   "name": "python",
   "nbconvert_exporter": "python",
   "pygments_lexer": "ipython3",
   "version": "3.11.7"
  }
 },
 "nbformat": 4,
 "nbformat_minor": 5
}
