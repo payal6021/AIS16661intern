{
 "cells": [
  {
   "cell_type": "markdown",
   "id": "e098a18e-8e0e-4508-85d6-a3229971e048",
   "metadata": {},
   "source": [
    " #          While loop......."
   ]
  },
  {
   "cell_type": "markdown",
   "id": "9ea1d153-efa8-44b3-920d-b75f6578d862",
   "metadata": {},
   "source": [
    "> did't stop until the condition is not satisfied its run continuesly"
   ]
  },
  {
   "cell_type": "code",
   "execution_count": 1,
   "id": "b394f58d-ace1-4507-bbc2-3d7cd2ca94f0",
   "metadata": {},
   "outputs": [
    {
     "name": "stdin",
     "output_type": "stream",
     "text": [
      "Enter name: rani\n",
      "Enter name: payal\n",
      "Enter name: priya\n",
      "Enter name: radhu\n",
      "Enter name: shi\n",
      "Enter name: sweta\n",
      "Enter name: Swati\n"
     ]
    },
    {
     "name": "stdout",
     "output_type": "stream",
     "text": [
      "Thanks for confirmation\n"
     ]
    }
   ],
   "source": [
    "name=\"\"\n",
    "while name !=\"Swati\":\n",
    "    name=input(\"Enter name:\")\n",
    "print(\"Thanks for confirmation\")    "
   ]
  },
  {
   "cell_type": "code",
   "execution_count": null,
   "id": "bec00b3a-ca2b-4ec4-95cf-476fc45b53ab",
   "metadata": {},
   "outputs": [],
   "source": [
    "age=13\n",
    "while age >19:\n",
    "    print(\"Infinite loop\")"
   ]
  },
  {
   "cell_type": "markdown",
   "id": "232e3ef4-d34b-4f5d-87e3-788032a77fc3",
   "metadata": {},
   "source": [
    "> if  we take age >19 then its make loops continuesly\n",
    "> to stop this we use break or change the value of input"
   ]
  },
  {
   "cell_type": "code",
   "execution_count": 15,
   "id": "c8bc371d-407e-40c7-b479-b5acf94dc6e1",
   "metadata": {},
   "outputs": [
    {
     "name": "stdout",
     "output_type": "stream",
     "text": [
      "1 x 1 = 1\n",
      "1 x 2 = 2\n",
      "1 x 3 = 3\n",
      "1 x 4 = 4\n",
      "1 x 5 = 5\n",
      "1 x 6 = 6\n",
      "1 x 7 = 7\n",
      "1 x 8 = 8\n",
      "1 x 9 = 9\n",
      "1 x 10 = 10\n",
      "\n",
      "2 x 1 = 2\n",
      "2 x 2 = 4\n",
      "2 x 3 = 6\n",
      "2 x 4 = 8\n",
      "2 x 5 = 10\n",
      "2 x 6 = 12\n",
      "2 x 7 = 14\n",
      "2 x 8 = 16\n",
      "2 x 9 = 18\n",
      "2 x 10 = 20\n",
      "\n",
      "3 x 1 = 3\n",
      "3 x 2 = 6\n",
      "3 x 3 = 9\n",
      "3 x 4 = 12\n",
      "3 x 5 = 15\n",
      "3 x 6 = 18\n",
      "3 x 7 = 21\n",
      "3 x 8 = 24\n",
      "3 x 9 = 27\n",
      "3 x 10 = 30\n",
      "\n",
      "4 x 1 = 4\n",
      "4 x 2 = 8\n",
      "4 x 3 = 12\n",
      "4 x 4 = 16\n",
      "4 x 5 = 20\n",
      "4 x 6 = 24\n",
      "4 x 7 = 28\n",
      "4 x 8 = 32\n",
      "4 x 9 = 36\n",
      "4 x 10 = 40\n",
      "\n",
      "5 x 1 = 5\n",
      "5 x 2 = 10\n",
      "5 x 3 = 15\n",
      "5 x 4 = 20\n",
      "5 x 5 = 25\n",
      "5 x 6 = 30\n",
      "5 x 7 = 35\n",
      "5 x 8 = 40\n",
      "5 x 9 = 45\n",
      "5 x 10 = 50\n",
      "\n"
     ]
    }
   ],
   "source": [
    "n = 1\n",
    "while n <= 5:\n",
    "    i = 1\n",
    "    while i <= 10:\n",
    "        print(f\"{n} x {i} = {n * i}\")\n",
    "        i += 1\n",
    "    n += 1\n",
    "    print()"
   ]
  },
  {
   "cell_type": "code",
   "execution_count": 2,
   "id": "31dd1c5e-dfac-4440-9ea3-c9e662419d0c",
   "metadata": {},
   "outputs": [
    {
     "name": "stdout",
     "output_type": "stream",
     "text": [
      "Occurrences of 'o': 2\n"
     ]
    }
   ],
   "source": [
    "string = \"hello world\"\n",
    "char = 'o'\n",
    "count = 0\n",
    "i = 0\n",
    "while i < len(string):\n",
    "    if string[i] == char:\n",
    "        count += 1\n",
    "    i += 1\n",
    "print(f\"Occurrences of '{char}': {count}\")"
   ]
  },
  {
   "cell_type": "code",
   "execution_count": 3,
   "id": "a7146f78-5e1f-4c3c-b07e-c9d70aae7630",
   "metadata": {},
   "outputs": [
    {
     "name": "stdout",
     "output_type": "stream",
     "text": [
      "Sum of digits is 10\n"
     ]
    }
   ],
   "source": [
    "number = 1234\n",
    "sum_of_digits = 0\n",
    "while number > 0:\n",
    "    digit = number % 10\n",
    "    sum_of_digits += digit\n",
    "    number //= 10\n",
    "print(f\"Sum of digits is {sum_of_digits}\")"
   ]
  },
  {
   "cell_type": "code",
   "execution_count": 4,
   "id": "45c2e838-9a60-4f36-8c44-5f939c666d81",
   "metadata": {},
   "outputs": [
    {
     "name": "stdout",
     "output_type": "stream",
     "text": [
      "Sum of digits is 10\n"
     ]
    }
   ],
   "source": [
    "number = 1234\n",
    "sum_of_digits = 0\n",
    "while number > 0:\n",
    "    digit = number % 10\n",
    "    sum_of_digits += digit\n",
    "    number //= 10\n",
    "print(f\"Sum of digits is {sum_of_digits}\")"
   ]
  },
  {
   "cell_type": "code",
   "execution_count": 5,
   "id": "82f5cc9c-e16d-41c1-8ebd-e41d326d5ae0",
   "metadata": {},
   "outputs": [
    {
     "name": "stdout",
     "output_type": "stream",
     "text": [
      "3 x 1 = 3\n",
      "3 x 2 = 6\n",
      "3 x 3 = 9\n",
      "3 x 4 = 12\n",
      "3 x 5 = 15\n",
      "3 x 6 = 18\n",
      "3 x 7 = 21\n",
      "3 x 8 = 24\n",
      "3 x 9 = 27\n",
      "3 x 10 = 30\n"
     ]
    }
   ],
   "source": [
    "num = 3\n",
    "i = 1\n",
    "while i <= 10:\n",
    "    print(f\"{num} x {i} = {num * i}\")\n",
    "    i += 1"
   ]
  },
  {
   "cell_type": "code",
   "execution_count": 8,
   "id": "aac9c257-7043-4ebc-8d81-b59b5799c7db",
   "metadata": {},
   "outputs": [
    {
     "name": "stdout",
     "output_type": "stream",
     "text": [
      "Sum of even numbers is 110\n"
     ]
    }
   ],
   "source": [
    "total = 0\n",
    "number = 2\n",
    "while number <= 20:\n",
    "    total += number\n",
    "    number += 2\n",
    "print(f\"Sum of even numbers is {total}\")"
   ]
  },
  {
   "cell_type": "code",
   "execution_count": 9,
   "id": "93aa5f1e-0df7-4e28-bf94-4ba32d9f13e4",
   "metadata": {},
   "outputs": [
    {
     "name": "stdout",
     "output_type": "stream",
     "text": [
      "1\n",
      "1\n",
      "2\n",
      "3\n",
      "5\n",
      "8\n",
      "13\n",
      "21\n",
      "34\n",
      "55\n",
      "89\n"
     ]
    }
   ],
   "source": [
    "a, b = 0, 1\n",
    "while b < 100:\n",
    "    print(b)\n",
    "    a, b = b, a + b"
   ]
  },
  {
   "cell_type": "code",
   "execution_count": 10,
   "id": "64b8f3e9-52b7-4900-b1b4-17b4a5b05eb8",
   "metadata": {},
   "outputs": [
    {
     "name": "stdout",
     "output_type": "stream",
     "text": [
      "5\n",
      "4\n",
      "3\n",
      "2\n",
      "1\n"
     ]
    }
   ],
   "source": [
    "n = 5\n",
    "while n > 0:\n",
    "    print(n)\n",
    "    n -= 1"
   ]
  },
  {
   "cell_type": "code",
   "execution_count": 11,
   "id": "7a9319b1-d6a8-4a44-836d-1aebfe67701e",
   "metadata": {},
   "outputs": [
    {
     "name": "stdout",
     "output_type": "stream",
     "text": [
      "40 is prime: False\n"
     ]
    }
   ],
   "source": [
    "num = 40\n",
    "is_prime = True\n",
    "for i in range(2, num):\n",
    "    if num % i == 0:\n",
    "        is_prime = False\n",
    "        break\n",
    "print(f\"{num} is prime: {is_prime}\")"
   ]
  },
  {
   "cell_type": "code",
   "execution_count": null,
   "id": "8b4041b2-2ad0-4658-bf92-d35de1ea5289",
   "metadata": {},
   "outputs": [],
   "source": []
  }
 ],
 "metadata": {
  "kernelspec": {
   "display_name": "Python 3 (ipykernel)",
   "language": "python",
   "name": "python3"
  },
  "language_info": {
   "codemirror_mode": {
    "name": "ipython",
    "version": 3
   },
   "file_extension": ".py",
   "mimetype": "text/x-python",
   "name": "python",
   "nbconvert_exporter": "python",
   "pygments_lexer": "ipython3",
   "version": "3.11.7"
  }
 },
 "nbformat": 4,
 "nbformat_minor": 5
}
