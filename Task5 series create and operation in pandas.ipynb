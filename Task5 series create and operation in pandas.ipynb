{
 "cells": [
  {
   "cell_type": "markdown",
   "id": "3ac077c4-3b51-4064-ad6e-1462f8f4c589",
   "metadata": {},
   "source": [
    "#              Series - create and operation\n",
    "# we can create series various method"
   ]
  },
  {
   "cell_type": "code",
   "execution_count": 3,
   "id": "b35ba0f3-4302-41f7-a04e-5098fd105171",
   "metadata": {},
   "outputs": [
    {
     "data": {
      "text/plain": [
       "0       cat\n",
       "1       dog\n",
       "2    rabbit\n",
       "dtype: object"
      ]
     },
     "execution_count": 3,
     "metadata": {},
     "output_type": "execute_result"
    }
   ],
   "source": [
    "# series from list\n",
    "import pandas as pd\n",
    "s = pd.Series(['cat', 'dog', 'rabbit'])\n",
    "s"
   ]
  },
  {
   "cell_type": "code",
   "execution_count": 4,
   "id": "7622ab76-cc17-437a-9bb3-132dc6802ff7",
   "metadata": {},
   "outputs": [
    {
     "name": "stdout",
     "output_type": "stream",
     "text": [
      "a    1\n",
      "b    2\n",
      "c    3\n",
      "dtype: int64\n"
     ]
    }
   ],
   "source": [
    "#  series from dictionary\n",
    "data = {'a': 1, 'b': 2, 'c': 3}\n",
    "series = pd.Series(data)\n",
    "print(series)"
   ]
  },
  {
   "cell_type": "code",
   "execution_count": 5,
   "id": "b84e9279-cbcc-478b-ad3c-145ec829b796",
   "metadata": {},
   "outputs": [
    {
     "name": "stdout",
     "output_type": "stream",
     "text": [
      "a    5\n",
      "b    5\n",
      "c    5\n",
      "dtype: int64\n"
     ]
    }
   ],
   "source": [
    "# from scaler value\n",
    "series = pd.Series(5, index=['a', 'b', 'c'])\n",
    "print(series)"
   ]
  },
  {
   "cell_type": "markdown",
   "id": "25d3cd74-1cc5-4835-87f9-dc0ed6bb697b",
   "metadata": {},
   "source": [
    "# accesing data in series"
   ]
  },
  {
   "cell_type": "code",
   "execution_count": 6,
   "id": "444700d0-cd51-47ce-a321-d31478297b5a",
   "metadata": {},
   "outputs": [
    {
     "name": "stdout",
     "output_type": "stream",
     "text": [
      "5\n"
     ]
    }
   ],
   "source": [
    "# by lebal\n",
    "print(series['a'])"
   ]
  },
  {
   "cell_type": "code",
   "execution_count": 8,
   "id": "9aecf196-6820-4c6f-b5ac-47f262f69cb1",
   "metadata": {},
   "outputs": [
    {
     "name": "stdout",
     "output_type": "stream",
     "text": [
      "5\n"
     ]
    },
    {
     "name": "stderr",
     "output_type": "stream",
     "text": [
      "C:\\Users\\Payal\\AppData\\Local\\Temp\\ipykernel_20056\\2827071235.py:2: FutureWarning: Series.__getitem__ treating keys as positions is deprecated. In a future version, integer keys will always be treated as labels (consistent with DataFrame behavior). To access a value by position, use `ser.iloc[pos]`\n",
      "  print(series[0])\n"
     ]
    }
   ],
   "source": [
    "# by position\n",
    "print(series[0])"
   ]
  },
  {
   "cell_type": "code",
   "execution_count": 9,
   "id": "64bab61f-3653-41d6-a982-c2eabc9eaa01",
   "metadata": {},
   "outputs": [
    {
     "name": "stdout",
     "output_type": "stream",
     "text": [
      "0    11\n",
      "1    12\n",
      "2    13\n",
      "3    14\n",
      "4    15\n",
      "dtype: int64\n"
     ]
    }
   ],
   "source": [
    "series = pd.Series([1, 2, 3, 4, 5])\n",
    "print(series + 10)"
   ]
  },
  {
   "cell_type": "code",
   "execution_count": 10,
   "id": "487ef75c-2391-4f5c-873a-0bf9928af177",
   "metadata": {},
   "outputs": [
    {
     "name": "stdout",
     "output_type": "stream",
     "text": [
      "0    10\n",
      "1    20\n",
      "2    30\n",
      "3    40\n",
      "4    50\n",
      "dtype: int64\n"
     ]
    }
   ],
   "source": [
    "series = pd.Series([1, 2, 3, 4, 5])\n",
    "print(series * 10)"
   ]
  },
  {
   "cell_type": "code",
   "execution_count": 11,
   "id": "2a4f628b-2477-46e1-b5a5-07baf9346869",
   "metadata": {},
   "outputs": [
    {
     "name": "stdout",
     "output_type": "stream",
     "text": [
      "0    0\n",
      "1    1\n",
      "2    2\n",
      "3    3\n",
      "4    4\n",
      "dtype: int64\n"
     ]
    }
   ],
   "source": [
    "series = pd.Series([1, 2, 3, 4, 5])\n",
    "print(series - 1)"
   ]
  },
  {
   "cell_type": "code",
   "execution_count": 12,
   "id": "90746a23-6ec1-45ff-a17f-a0c75fed46d1",
   "metadata": {},
   "outputs": [
    {
     "name": "stdout",
     "output_type": "stream",
     "text": [
      "0    1\n",
      "1    2\n",
      "2    3\n",
      "3    4\n",
      "4    5\n",
      "dtype: int64\n"
     ]
    }
   ],
   "source": [
    "series = pd.Series([1, 2, 3, 4, 5])\n",
    "print(series % 10)"
   ]
  },
  {
   "cell_type": "code",
   "execution_count": null,
   "id": "61a6e4f2-57a6-4efb-8472-b062a4252610",
   "metadata": {},
   "outputs": [],
   "source": []
  }
 ],
 "metadata": {
  "kernelspec": {
   "display_name": "Python 3 (ipykernel)",
   "language": "python",
   "name": "python3"
  },
  "language_info": {
   "codemirror_mode": {
    "name": "ipython",
    "version": 3
   },
   "file_extension": ".py",
   "mimetype": "text/x-python",
   "name": "python",
   "nbconvert_exporter": "python",
   "pygments_lexer": "ipython3",
   "version": "3.11.7"
  }
 },
 "nbformat": 4,
 "nbformat_minor": 5
}
