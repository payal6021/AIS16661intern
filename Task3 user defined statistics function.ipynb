{
 "cells": [
  {
   "cell_type": "code",
   "execution_count": 46,
   "id": "4caef0ea-5aa4-46e4-b7fb-2e2df078d707",
   "metadata": {},
   "outputs": [
    {
     "name": "stdout",
     "output_type": "stream",
     "text": [
      "kurtosis value: -0.8735086065736195\n"
     ]
    }
   ],
   "source": [
    "from scipy.stats import kurtosis\n",
    "def calculate_kurtosis(data):\n",
    "    return kurtosis(data)\n",
    "data=[12,45,67,76,89,45] \n",
    "kurtosis_value=calculate_kurtosis(data)\n",
    "print(\"kurtosis value:\",kurtosis_value)"
   ]
  },
  {
   "cell_type": "code",
   "execution_count": 18,
   "id": "43acf41e-0504-44a1-8852-76fd8776539c",
   "metadata": {},
   "outputs": [
    {
     "name": "stdout",
     "output_type": "stream",
     "text": [
      "10\n"
     ]
    }
   ],
   "source": [
    "import statistics as st\n",
    "print(st.mode([10,45,67,98,12,56,79,13]))"
   ]
  },
  {
   "cell_type": "code",
   "execution_count": 19,
   "id": "cf34d4e8-6f67-4e8c-8afc-392f6fc76a9a",
   "metadata": {},
   "outputs": [
    {
     "name": "stdout",
     "output_type": "stream",
     "text": [
      "33.504797097899704\n"
     ]
    }
   ],
   "source": [
    "import statistics as st\n",
    "print(st.stdev([10,45,67,98,12,56,79,13]))"
   ]
  },
  {
   "cell_type": "code",
   "execution_count": 21,
   "id": "020d1f8f-fe71-4f98-90b3-6620c326f522",
   "metadata": {},
   "outputs": [
    {
     "name": "stdout",
     "output_type": "stream",
     "text": [
      "31.34086788842964\n"
     ]
    }
   ],
   "source": [
    "import statistics as st\n",
    "print(st.pstdev([10,45,67,98,12,56,79,13]))"
   ]
  },
  {
   "cell_type": "code",
   "execution_count": 41,
   "id": "69e1ea7f-1036-4587-af52-ee22ca1545a5",
   "metadata": {},
   "outputs": [
    {
     "name": "stdout",
     "output_type": "stream",
     "text": [
      "skewness: -0.40766186355764095\n"
     ]
    }
   ],
   "source": [
    "from scipy.stats import skew\n",
    "def calculate_skewness(data):\n",
    "    return skew(data)\n",
    "data=[12,45,67,76,89,45]    \n",
    "skewness_value=calculate_skewness(data)\n",
    "print(\"skewness:\",skewness_value)\n"
   ]
  },
  {
   "cell_type": "code",
   "execution_count": 28,
   "id": "0aabe7d3-63b1-4d4a-bf2f-4d81bee35e93",
   "metadata": {},
   "outputs": [
    {
     "name": "stdout",
     "output_type": "stream",
     "text": [
      "standard deviation value: 27.5221123220342\n"
     ]
    }
   ],
   "source": [
    "import statistics\n",
    "def calculate_std_deviation(data):\n",
    "    return statistics.stdev(data)\n",
    "data=[12,45,67,76,89,45] \n",
    "std_value=calculate_std_deviation(data)\n",
    "print(\"standard deviation value:\",std_value)"
   ]
  },
  {
   "cell_type": "code",
   "execution_count": 22,
   "id": "6b77ab14-876f-4471-b5b3-402d663abb58",
   "metadata": {},
   "outputs": [
    {
     "name": "stdout",
     "output_type": "stream",
     "text": [
      "mean: 55.666666666666664\n"
     ]
    }
   ],
   "source": [
    "import statistics\n",
    "def calculate_mean(data):\n",
    "    return statistics.mean(data)\n",
    "data=[12,45,67,76,89,45] \n",
    "mean_value=calculate_mean(data)\n",
    "print(\"mean:\",mean_value) "
   ]
  },
  {
   "cell_type": "code",
   "execution_count": 29,
   "id": "2629ba5e-2df5-46dd-b65d-c01bd0a61a71",
   "metadata": {},
   "outputs": [
    {
     "name": "stdout",
     "output_type": "stream",
     "text": [
      "variance: 757.4666666666667\n"
     ]
    }
   ],
   "source": [
    "import statistics\n",
    "def calculate_variance(data):\n",
    "    return statistics.variance(data)\n",
    "data=[12,45,67,76,89,45] \n",
    "variance_value=calculate_variance(data)\n",
    "print(\"variance:\",variance_value) "
   ]
  },
  {
   "cell_type": "code",
   "execution_count": 20,
   "id": "2827b3cf-c19d-47d6-8145-d228fd6bf8d7",
   "metadata": {},
   "outputs": [
    {
     "name": "stdout",
     "output_type": "stream",
     "text": [
      "median: 56.0\n"
     ]
    }
   ],
   "source": [
    "import statistics\n",
    "def calculate_median(data):\n",
    "    return statistics.median(data)\n",
    "data=[12,45,67,76,89,45] \n",
    "median_value=calculate_median(data)\n",
    "print(\"median:\",median_value) "
   ]
  },
  {
   "cell_type": "code",
   "execution_count": null,
   "id": "1fc5c4f5-9084-453b-8eab-2553c05a6242",
   "metadata": {},
   "outputs": [],
   "source": [
    "import statistics\n",
    "def calculate_mode(data):\n",
    "    return statistics.mode(data)\n",
    "data=[12,45,67,76,89,45] \n",
    "mode_value=calculate_mode(data)\n",
    "print(\"mode:\",mode_value)"
   ]
  }
 ],
 "metadata": {
  "kernelspec": {
   "display_name": "Python 3 (ipykernel)",
   "language": "python",
   "name": "python3"
  },
  "language_info": {
   "codemirror_mode": {
    "name": "ipython",
    "version": 3
   },
   "file_extension": ".py",
   "mimetype": "text/x-python",
   "name": "python",
   "nbconvert_exporter": "python",
   "pygments_lexer": "ipython3",
   "version": "3.11.7"
  }
 },
 "nbformat": 4,
 "nbformat_minor": 5
}
