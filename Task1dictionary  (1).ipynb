{
 "cells": [
  {
   "cell_type": "markdown",
   "id": "a640abb8-58ec-46a6-94db-1217f5802af8",
   "metadata": {},
   "source": [
    "# ..........DICTIONARY DATA STRUCTURE.......\n"
   ]
  },
  {
   "cell_type": "markdown",
   "id": "14aedaa8-faad-4dc7-b862-c28537886855",
   "metadata": {},
   "source": [
    "# duplicate keys not allows but values can be duplicated\n",
    "# Hetrogeneous objects are allow for both keys and values\n",
    "# insertion order is not preserved\n",
    "# Dictionaries are mutable and dynamic\n",
    "# indexing and slicing concept are not applicable"
   ]
  },
  {
   "cell_type": "markdown",
   "id": "46a50834-b7be-4f38-9cc5-0fd5110f4648",
   "metadata": {},
   "source": [
    "# creation of dictionary\n",
    "d={}    or    d=dict()\n",
    "d={key:value,key:value,key:value}"
   ]
  },
  {
   "cell_type": "code",
   "execution_count": 4,
   "id": "6c688a8c-0f2a-4edc-893d-5bbcac0a91a3",
   "metadata": {},
   "outputs": [],
   "source": [
    "d={100:'madhuri',200:'shailesh',300:'mayuri',400:'rani'}"
   ]
  },
  {
   "cell_type": "code",
   "execution_count": 5,
   "id": "1fab7cbc-c7c8-410c-8d88-105e58f3c75c",
   "metadata": {},
   "outputs": [
    {
     "name": "stdout",
     "output_type": "stream",
     "text": [
      "{100: 'madhuri', 200: 'shailesh', 300: 'mayuri', 400: 'rani'}\n"
     ]
    }
   ],
   "source": [
    "print(d)"
   ]
  },
  {
   "cell_type": "markdown",
   "id": "7a652ab0-e065-440a-896e-0eaa6b171660",
   "metadata": {},
   "source": [
    "# Access data fron dictionary"
   ]
  },
  {
   "cell_type": "code",
   "execution_count": 8,
   "id": "62d1295c-67ff-46f1-b4a0-d517517781f2",
   "metadata": {},
   "outputs": [
    {
     "name": "stdout",
     "output_type": "stream",
     "text": [
      "shailesh\n"
     ]
    }
   ],
   "source": [
    "print(d[200])"
   ]
  },
  {
   "cell_type": "markdown",
   "id": "435babb2-1ea8-4622-9579-c5dc5646826e",
   "metadata": {},
   "source": [
    "# if the specified key is not avalable then key error exists"
   ]
  },
  {
   "cell_type": "code",
   "execution_count": 9,
   "id": "2f777076-52eb-427e-8c77-d6f628ea81dc",
   "metadata": {},
   "outputs": [
    {
     "ename": "KeyError",
     "evalue": "600",
     "output_type": "error",
     "traceback": [
      "\u001b[1;31m---------------------------------------------------------------------------\u001b[0m",
      "\u001b[1;31mKeyError\u001b[0m                                  Traceback (most recent call last)",
      "Cell \u001b[1;32mIn[9], line 1\u001b[0m\n\u001b[1;32m----> 1\u001b[0m \u001b[38;5;28mprint\u001b[39m(d[\u001b[38;5;241m600\u001b[39m])\n",
      "\u001b[1;31mKeyError\u001b[0m: 600"
     ]
    }
   ],
   "source": [
    "print(d[600])"
   ]
  },
  {
   "cell_type": "markdown",
   "id": "5ee6f394-6b7f-4065-9333-8d8cced1d147",
   "metadata": {},
   "source": [
    "# to check length"
   ]
  },
  {
   "cell_type": "code",
   "execution_count": 10,
   "id": "5e183616-d1c9-4a6c-ad5a-f741dd002d79",
   "metadata": {},
   "outputs": [
    {
     "data": {
      "text/plain": [
       "4"
      ]
     },
     "execution_count": 10,
     "metadata": {},
     "output_type": "execute_result"
    }
   ],
   "source": [
    "len(d)"
   ]
  },
  {
   "cell_type": "markdown",
   "id": "df6230f7-0846-400b-a285-03d6cb13da12",
   "metadata": {},
   "source": [
    "#                                   methods of dictionary......."
   ]
  },
  {
   "cell_type": "markdown",
   "id": "02a88661-5c49-4621-8091-1c5184de32dc",
   "metadata": {},
   "source": [
    "# 1.     get() method\n",
    "to get the value associated with the key"
   ]
  },
  {
   "cell_type": "code",
   "execution_count": 12,
   "id": "c52ebac5-4089-4ad7-b81e-f8b796214ff2",
   "metadata": {},
   "outputs": [
    {
     "data": {
      "text/plain": [
       "'shailesh'"
      ]
     },
     "execution_count": 12,
     "metadata": {},
     "output_type": "execute_result"
    }
   ],
   "source": [
    "d.get(200)"
   ]
  },
  {
   "cell_type": "markdown",
   "id": "46ea322d-2997-4c22-8acc-f19f1f154c76",
   "metadata": {},
   "source": [
    "#  2.     pop() method \n",
    "it removes the value specified with key"
   ]
  },
  {
   "cell_type": "code",
   "execution_count": 14,
   "id": "deff6920-5592-4e31-bc07-502363c79b16",
   "metadata": {},
   "outputs": [
    {
     "data": {
      "text/plain": [
       "'shailesh'"
      ]
     },
     "execution_count": 14,
     "metadata": {},
     "output_type": "execute_result"
    }
   ],
   "source": [
    "d.pop(200)"
   ]
  },
  {
   "cell_type": "code",
   "execution_count": 15,
   "id": "dbc74bb4-2976-49a4-8962-116358b37f7a",
   "metadata": {},
   "outputs": [
    {
     "name": "stdout",
     "output_type": "stream",
     "text": [
      "{100: 'madhuri', 300: 'mayuri', 400: 'rani'}\n"
     ]
    }
   ],
   "source": [
    "print(d)"
   ]
  },
  {
   "cell_type": "markdown",
   "id": "068ba7a6-32eb-4d8a-996f-e866081b0a10",
   "metadata": {},
   "source": [
    "#  3.  clear()  method\n",
    "it removes all element from the dictionary "
   ]
  },
  {
   "cell_type": "code",
   "execution_count": 16,
   "id": "a38c11d3-52bb-4891-ba61-cb477f4754b3",
   "metadata": {},
   "outputs": [],
   "source": [
    "d.clear()"
   ]
  },
  {
   "cell_type": "code",
   "execution_count": 17,
   "id": "71700c99-f7bb-4d86-8ae1-0e69e4591efa",
   "metadata": {},
   "outputs": [
    {
     "name": "stdout",
     "output_type": "stream",
     "text": [
      "{}\n"
     ]
    }
   ],
   "source": [
    "print(d)"
   ]
  },
  {
   "cell_type": "code",
   "execution_count": 18,
   "id": "b9baa6cc-3704-4f95-93b6-70c8f36c394e",
   "metadata": {},
   "outputs": [],
   "source": [
    "d={100:'madhuri',200:'shailesh',300:'mayuri',400:'rani'}"
   ]
  },
  {
   "cell_type": "markdown",
   "id": "1c0f9dde-3640-42d4-a038-e646e8d0eb09",
   "metadata": {},
   "source": [
    "#  4.    keys()  mwthod   or    values() method\n",
    "it returns all keys/values associated with the dictionary"
   ]
  },
  {
   "cell_type": "code",
   "execution_count": 19,
   "id": "7d2f1d34-85e7-496d-a3be-469cdba40ce8",
   "metadata": {},
   "outputs": [
    {
     "name": "stdout",
     "output_type": "stream",
     "text": [
      "dict_keys([100, 200, 300, 400])\n"
     ]
    }
   ],
   "source": [
    "print(d.keys())"
   ]
  },
  {
   "cell_type": "code",
   "execution_count": 20,
   "id": "5439f5fd-73f5-4771-bb5a-a25493244725",
   "metadata": {},
   "outputs": [
    {
     "name": "stdout",
     "output_type": "stream",
     "text": [
      "dict_values(['madhuri', 'shailesh', 'mayuri', 'rani'])\n"
     ]
    }
   ],
   "source": [
    "print(d.values())"
   ]
  },
  {
   "cell_type": "markdown",
   "id": "8fe210ec-8c29-482c-9f9d-d64cb69ebe1e",
   "metadata": {},
   "source": [
    "#  5. items()\n",
    "it returns list of tuples representing key-value pair"
   ]
  },
  {
   "cell_type": "code",
   "execution_count": 21,
   "id": "906e251c-79f2-44eb-9514-988582e1bcb5",
   "metadata": {},
   "outputs": [
    {
     "name": "stdout",
     "output_type": "stream",
     "text": [
      "100 -- madhuri\n",
      "200 -- shailesh\n",
      "300 -- mayuri\n",
      "400 -- rani\n"
     ]
    }
   ],
   "source": [
    "for k,v in d.items():\n",
    "    print(k,\"--\",v)"
   ]
  },
  {
   "cell_type": "markdown",
   "id": "25d8fb67-e980-4b04-8a1b-b492a2d93944",
   "metadata": {},
   "source": [
    "# 6.  copy()\n",
    "to create exactly duplicate dictionary(cloned copy)"
   ]
  },
  {
   "cell_type": "code",
   "execution_count": 23,
   "id": "bea40463-45f1-4d8c-b893-3c5400460240",
   "metadata": {},
   "outputs": [],
   "source": [
    "d1=d.copy()"
   ]
  },
  {
   "cell_type": "code",
   "execution_count": 24,
   "id": "6f0f798d-7539-469f-b070-db5893655b1e",
   "metadata": {},
   "outputs": [
    {
     "name": "stdout",
     "output_type": "stream",
     "text": [
      "{100: 'madhuri', 200: 'shailesh', 300: 'mayuri', 400: 'rani'}\n"
     ]
    }
   ],
   "source": [
    "print(d1)"
   ]
  },
  {
   "cell_type": "markdown",
   "id": "4e3a9dd0-58d7-4a86-8b89-b688ce187575",
   "metadata": {},
   "source": [
    "# 7.    set.default()\n",
    "if the key is already available then this function returns the corresponding value\n",
    "if the key is not already available then the specified key value will bw added as new itom to the dictionary"
   ]
  },
  {
   "cell_type": "code",
   "execution_count": 25,
   "id": "73c6c071-4a5e-469e-8b35-0fc482b56727",
   "metadata": {},
   "outputs": [
    {
     "name": "stdout",
     "output_type": "stream",
     "text": [
      "{100: 'madhuri', 200: 'shailesh', 300: 'mayuri', 400: 'rani'}\n"
     ]
    }
   ],
   "source": [
    "print(d)"
   ]
  },
  {
   "cell_type": "code",
   "execution_count": 36,
   "id": "9ef87020-f766-426f-911d-4b7a80a47d71",
   "metadata": {},
   "outputs": [
    {
     "name": "stdout",
     "output_type": "stream",
     "text": [
      "pavan\n"
     ]
    }
   ],
   "source": [
    "print(d.setdefault(500,'pavan'))"
   ]
  },
  {
   "cell_type": "code",
   "execution_count": 37,
   "id": "cbf73577-cd4e-4964-8a57-785fd460a601",
   "metadata": {},
   "outputs": [
    {
     "name": "stdout",
     "output_type": "stream",
     "text": [
      "{100: 'madhuri', 200: 'shailesh', 300: 'mayuri', 400: 'rani', 500: 'pavan'}\n"
     ]
    }
   ],
   "source": [
    "print(d)"
   ]
  },
  {
   "cell_type": "markdown",
   "id": "c0836771-1156-4e5c-b14d-e382a1334bd8",
   "metadata": {},
   "source": [
    "#  8.update() method\n",
    "all items present in the dictionary x will bwe added to the dictionary d"
   ]
  },
  {
   "cell_type": "code",
   "execution_count": 38,
   "id": "8b341ab0-801f-4613-9ce6-f32d8e53cee1",
   "metadata": {},
   "outputs": [],
   "source": [
    "d.update({\"color\":\"red\"})"
   ]
  },
  {
   "cell_type": "code",
   "execution_count": 39,
   "id": "7f5e257c-51f5-4328-9da5-77b02fe5a0bc",
   "metadata": {},
   "outputs": [
    {
     "name": "stdout",
     "output_type": "stream",
     "text": [
      "{100: 'madhuri', 200: 'shailesh', 300: 'mayuri', 400: 'rani', 500: 'pavan', 'color': 'red'}\n"
     ]
    }
   ],
   "source": [
    "print(d)"
   ]
  },
  {
   "cell_type": "code",
   "execution_count": null,
   "id": "d859feb1-867d-4b57-bc8a-d7ad66ee0e68",
   "metadata": {},
   "outputs": [],
   "source": []
  }
 ],
 "metadata": {
  "kernelspec": {
   "display_name": "Python 3 (ipykernel)",
   "language": "python",
   "name": "python3"
  },
  "language_info": {
   "codemirror_mode": {
    "name": "ipython",
    "version": 3
   },
   "file_extension": ".py",
   "mimetype": "text/x-python",
   "name": "python",
   "nbconvert_exporter": "python",
   "pygments_lexer": "ipython3",
   "version": "3.11.7"
  }
 },
 "nbformat": 4,
 "nbformat_minor": 5
}
