{
 "cells": [
  {
   "cell_type": "markdown",
   "id": "9870d065-502b-413f-8f2c-55c23d30f527",
   "metadata": {},
   "source": [
    "#     .........For  loop ....."
   ]
  },
  {
   "cell_type": "code",
   "execution_count": 1,
   "id": "cbbd9f88-feb1-4652-9f9f-d704f0f0183e",
   "metadata": {},
   "outputs": [
    {
     "name": "stdout",
     "output_type": "stream",
     "text": [
      "0\n",
      "1\n",
      "2\n",
      "3\n",
      "4\n"
     ]
    }
   ],
   "source": [
    "for num in range(10):\n",
    "    if num == 5:\n",
    "        break\n",
    "    print(num)"
   ]
  },
  {
   "cell_type": "markdown",
   "id": "d4e897ee-2567-474e-a73b-d5d4ee6170d1",
   "metadata": {},
   "source": [
    "# nested for loop"
   ]
  },
  {
   "cell_type": "code",
   "execution_count": 1,
   "id": "c9b268b8-f8b3-4375-a69b-8eec2f2a3d62",
   "metadata": {},
   "outputs": [
    {
     "name": "stdout",
     "output_type": "stream",
     "text": [
      "i= 0  J 0\n",
      "i= 0  J 1\n",
      "i= 0  J 2\n",
      "i= 0  J 3\n",
      "i= 1  J 0\n",
      "i= 1  J 1\n",
      "i= 1  J 2\n",
      "i= 1  J 3\n",
      "i= 2  J 0\n",
      "i= 2  J 1\n",
      "i= 2  J 2\n",
      "i= 2  J 3\n",
      "i= 3  J 0\n",
      "i= 3  J 1\n",
      "i= 3  J 2\n",
      "i= 3  J 3\n"
     ]
    }
   ],
   "source": [
    "for i in range (4):\n",
    "    for j in range (4):\n",
    "        print(\"i=\",i,\" J\",j)"
   ]
  },
  {
   "cell_type": "code",
   "execution_count": 4,
   "id": "2673a074-a562-4e57-81b1-1d52d508499a",
   "metadata": {},
   "outputs": [
    {
     "name": "stdout",
     "output_type": "stream",
     "text": [
      "10\n",
      "9\n",
      "8\n",
      "7\n",
      "6\n",
      "5\n"
     ]
    }
   ],
   "source": [
    "for x in range (10,4,-1):\n",
    "    print(x)\n"
   ]
  },
  {
   "cell_type": "code",
   "execution_count": 11,
   "id": "676ed998-ec4e-461f-a0f3-7ea5a74b544c",
   "metadata": {},
   "outputs": [
    {
     "name": "stdout",
     "output_type": "stream",
     "text": [
      "1\n",
      "3\n",
      "5\n",
      "7\n",
      "9\n",
      "11\n"
     ]
    }
   ],
   "source": [
    "for i in range(13):\n",
    "    if i%2==0:\n",
    "        continue\n",
    "    print(i)"
   ]
  },
  {
   "cell_type": "code",
   "execution_count": 16,
   "id": "0dfc7e90-e382-4eca-af39-be3279e863a6",
   "metadata": {},
   "outputs": [
    {
     "name": "stdout",
     "output_type": "stream",
     "text": [
      "Hello words\n",
      "Hello words\n",
      "Hello words\n"
     ]
    }
   ],
   "source": [
    "for i in range (0,3):\n",
    "    print(\"Hello words\")"
   ]
  },
  {
   "cell_type": "code",
   "execution_count": 27,
   "id": "ef3fd194-c647-4829-bf41-6b2b806af124",
   "metadata": {},
   "outputs": [
    {
     "name": "stdout",
     "output_type": "stream",
     "text": [
      "Hello words\n",
      "Hello words\n",
      "Hello words\n"
     ]
    }
   ],
   "source": [
    "for i in range (0,3):\n",
    "    print(\"Hello words\")"
   ]
  },
  {
   "cell_type": "code",
   "execution_count": 8,
   "id": "fde9af00-b70b-4017-a66f-7e0995f5ca98",
   "metadata": {},
   "outputs": [
    {
     "name": "stdout",
     "output_type": "stream",
     "text": [
      "Number of words is 9\n"
     ]
    }
   ],
   "source": [
    "sentence = \"The quick brown fox jumps over the lazy dog\"\n",
    "word_count = 0\n",
    "for word in sentence.split():\n",
    "    word_count += 1\n",
    "print(f\"Number of words is {word_count}\")\n"
   ]
  },
  {
   "cell_type": "code",
   "execution_count": 4,
   "id": "e41330cf-413a-458d-92dd-dba06adf3405",
   "metadata": {},
   "outputs": [
    {
     "name": "stdout",
     "output_type": "stream",
     "text": [
      "Occurrences of 'o': 2\n"
     ]
    }
   ],
   "source": [
    "string = \"hello world\"\n",
    "char = 'o'\n",
    "count = 0\n",
    "for c in string:\n",
    "    if c == char:\n",
    "        count += 1\n",
    "print(f\"Occurrences of '{char}': {count}\")"
   ]
  },
  {
   "cell_type": "code",
   "execution_count": 3,
   "id": "c20e4229-9207-4a96-baa5-33540c034191",
   "metadata": {},
   "outputs": [
    {
     "name": "stdout",
     "output_type": "stream",
     "text": [
      "1 x 1 = 1\n",
      "1 x 2 = 2\n",
      "1 x 3 = 3\n",
      "1 x 4 = 4\n",
      "1 x 5 = 5\n",
      "1 x 6 = 6\n",
      "1 x 7 = 7\n",
      "1 x 8 = 8\n",
      "1 x 9 = 9\n",
      "1 x 10 = 10\n",
      "\n",
      "2 x 1 = 2\n",
      "2 x 2 = 4\n",
      "2 x 3 = 6\n",
      "2 x 4 = 8\n",
      "2 x 5 = 10\n",
      "2 x 6 = 12\n",
      "2 x 7 = 14\n",
      "2 x 8 = 16\n",
      "2 x 9 = 18\n",
      "2 x 10 = 20\n",
      "\n",
      "3 x 1 = 3\n",
      "3 x 2 = 6\n",
      "3 x 3 = 9\n",
      "3 x 4 = 12\n",
      "3 x 5 = 15\n",
      "3 x 6 = 18\n",
      "3 x 7 = 21\n",
      "3 x 8 = 24\n",
      "3 x 9 = 27\n",
      "3 x 10 = 30\n",
      "\n",
      "4 x 1 = 4\n",
      "4 x 2 = 8\n",
      "4 x 3 = 12\n",
      "4 x 4 = 16\n",
      "4 x 5 = 20\n",
      "4 x 6 = 24\n",
      "4 x 7 = 28\n",
      "4 x 8 = 32\n",
      "4 x 9 = 36\n",
      "4 x 10 = 40\n",
      "\n",
      "5 x 1 = 5\n",
      "5 x 2 = 10\n",
      "5 x 3 = 15\n",
      "5 x 4 = 20\n",
      "5 x 5 = 25\n",
      "5 x 6 = 30\n",
      "5 x 7 = 35\n",
      "5 x 8 = 40\n",
      "5 x 9 = 45\n",
      "5 x 10 = 50\n",
      "\n"
     ]
    }
   ],
   "source": [
    "for n in range(1, 6):\n",
    "    for i in range(1, 11):\n",
    "        print(f\"{n} x {i} = {n * i}\")\n",
    "    print()"
   ]
  },
  {
   "cell_type": "code",
   "execution_count": 5,
   "id": "ea033d8f-2243-4234-a18b-af430b733369",
   "metadata": {},
   "outputs": [
    {
     "name": "stdout",
     "output_type": "stream",
     "text": [
      "GCD is 12\n"
     ]
    }
   ],
   "source": [
    "a, b = 60, 48\n",
    "for i in range(min(a, b), 0, -1):\n",
    "    if a % i == 0 and b % i == 0:\n",
    "        gcd = i\n",
    "        break\n",
    "print(f\"GCD is {gcd}\")"
   ]
  },
  {
   "cell_type": "code",
   "execution_count": 6,
   "id": "7c47ab1e-6102-4253-89b3-f27f4faf4fc8",
   "metadata": {},
   "outputs": [
    {
     "name": "stdout",
     "output_type": "stream",
     "text": [
      "Access denied!\n",
      "Access denied!\n",
      "Access granted!\n"
     ]
    }
   ],
   "source": [
    "passwords = [\"password123\", \"letmein\", \"secret\"]\n",
    "for password in passwords:\n",
    "    if password == \"secret\":\n",
    "        print(\"Access granted!\")\n",
    "    else:\n",
    "        print(\"Access denied!\")"
   ]
  },
  {
   "cell_type": "code",
   "execution_count": null,
   "id": "5f634179-2811-41fd-b875-4f9c890d7c3c",
   "metadata": {},
   "outputs": [],
   "source": []
  }
 ],
 "metadata": {
  "kernelspec": {
   "display_name": "Python 3 (ipykernel)",
   "language": "python",
   "name": "python3"
  },
  "language_info": {
   "codemirror_mode": {
    "name": "ipython",
    "version": 3
   },
   "file_extension": ".py",
   "mimetype": "text/x-python",
   "name": "python",
   "nbconvert_exporter": "python",
   "pygments_lexer": "ipython3",
   "version": "3.11.7"
  }
 },
 "nbformat": 4,
 "nbformat_minor": 5
}
