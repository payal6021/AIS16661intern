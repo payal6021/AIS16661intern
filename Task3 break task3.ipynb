{
 "cells": [
  {
   "cell_type": "markdown",
   "id": "c0113449-3004-47a0-a332-1f30d51b8807",
   "metadata": {},
   "source": [
    "#          ....Control statement  :"
   ]
  },
  {
   "cell_type": "markdown",
   "id": "72a442cb-a4ff-43dd-8fda-499ec69bbe76",
   "metadata": {},
   "source": [
    " Break statement\n",
    " used to break/stop the current iteration"
   ]
  },
  {
   "cell_type": "code",
   "execution_count": 5,
   "id": "dfb5230d-85e4-432b-97e8-4eb862306cf3",
   "metadata": {},
   "outputs": [
    {
     "name": "stdout",
     "output_type": "stream",
     "text": [
      "GCD is 12\n"
     ]
    }
   ],
   "source": [
    "a, b = 60, 48\n",
    "for i in range(min(a, b), 0, -1):\n",
    "    if a % i == 0 and b % i == 0:\n",
    "        gcd = i\n",
    "        break\n",
    "print(f\"GCD is {gcd}\")"
   ]
  },
  {
   "cell_type": "code",
   "execution_count": 2,
   "id": "885bd0b5-8556-4a4a-9d17-ee84081a1e67",
   "metadata": {},
   "outputs": [
    {
     "name": "stdout",
     "output_type": "stream",
     "text": [
      "0\n",
      "1\n",
      "2\n",
      "3\n",
      "4\n"
     ]
    }
   ],
   "source": [
    "for num in range(10):\n",
    "    if num == 5:\n",
    "        break\n",
    "    print(num)"
   ]
  },
  {
   "cell_type": "code",
   "execution_count": 3,
   "id": "d3373fb5-7b2a-4561-91dc-9b005edd7a8e",
   "metadata": {},
   "outputs": [
    {
     "name": "stdout",
     "output_type": "stream",
     "text": [
      "40 is prime: False\n"
     ]
    }
   ],
   "source": [
    "num = 40\n",
    "is_prime = True\n",
    "for i in range(2, num):\n",
    "    if num % i == 0:\n",
    "        is_prime = False\n",
    "        break\n",
    "print(f\"{num} is prime: {is_prime}\")"
   ]
  },
  {
   "cell_type": "code",
   "execution_count": null,
   "id": "446d9aa1-2939-4f18-875b-994000de4074",
   "metadata": {},
   "outputs": [],
   "source": []
  }
 ],
 "metadata": {
  "kernelspec": {
   "display_name": "Python 3 (ipykernel)",
   "language": "python",
   "name": "python3"
  },
  "language_info": {
   "codemirror_mode": {
    "name": "ipython",
    "version": 3
   },
   "file_extension": ".py",
   "mimetype": "text/x-python",
   "name": "python",
   "nbconvert_exporter": "python",
   "pygments_lexer": "ipython3",
   "version": "3.11.7"
  }
 },
 "nbformat": 4,
 "nbformat_minor": 5
}
