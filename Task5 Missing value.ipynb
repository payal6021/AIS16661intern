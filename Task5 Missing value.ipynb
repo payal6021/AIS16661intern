{
 "cells": [
  {
   "cell_type": "code",
   "execution_count": null,
   "id": "5171868c-3cda-46e5-943c-aac1d28ed539",
   "metadata": {},
   "outputs": [],
   "source": []
  },
  {
   "cell_type": "markdown",
   "id": "fbac33a1-c87b-498e-a7ca-1078f643a78e",
   "metadata": {},
   "source": [
    "# 1.Using isna() or isnull():\n",
    "These methods return a DataFrame of the same shape, but with Boolean values indicating whether each value is missing (True) or not (False)."
   ]
  },
  {
   "cell_type": "code",
   "execution_count": 1,
   "id": "113c18c0-c5ab-4394-b946-bc28e2b72fcd",
   "metadata": {},
   "outputs": [
    {
     "data": {
      "text/html": [
       "<div>\n",
       "<style scoped>\n",
       "    .dataframe tbody tr th:only-of-type {\n",
       "        vertical-align: middle;\n",
       "    }\n",
       "\n",
       "    .dataframe tbody tr th {\n",
       "        vertical-align: top;\n",
       "    }\n",
       "\n",
       "    .dataframe thead th {\n",
       "        text-align: right;\n",
       "    }\n",
       "</style>\n",
       "<table border=\"1\" class=\"dataframe\">\n",
       "  <thead>\n",
       "    <tr style=\"text-align: right;\">\n",
       "      <th></th>\n",
       "      <th>st_id</th>\n",
       "      <th>name</th>\n",
       "      <th>age</th>\n",
       "      <th>marks</th>\n",
       "      <th>Gender</th>\n",
       "    </tr>\n",
       "  </thead>\n",
       "  <tbody>\n",
       "    <tr>\n",
       "      <th>0</th>\n",
       "      <td>1</td>\n",
       "      <td>rani</td>\n",
       "      <td>32</td>\n",
       "      <td>90</td>\n",
       "      <td>female</td>\n",
       "    </tr>\n",
       "    <tr>\n",
       "      <th>1</th>\n",
       "      <td>2</td>\n",
       "      <td>raja</td>\n",
       "      <td>43</td>\n",
       "      <td>98</td>\n",
       "      <td>male</td>\n",
       "    </tr>\n",
       "    <tr>\n",
       "      <th>2</th>\n",
       "      <td>1</td>\n",
       "      <td>shital</td>\n",
       "      <td>23</td>\n",
       "      <td>89</td>\n",
       "      <td>NaN</td>\n",
       "    </tr>\n",
       "    <tr>\n",
       "      <th>3</th>\n",
       "      <td>3</td>\n",
       "      <td>shalini</td>\n",
       "      <td>24</td>\n",
       "      <td>90</td>\n",
       "      <td>NaN</td>\n",
       "    </tr>\n",
       "    <tr>\n",
       "      <th>4</th>\n",
       "      <td>4</td>\n",
       "      <td>ram</td>\n",
       "      <td>43</td>\n",
       "      <td>87</td>\n",
       "      <td>male</td>\n",
       "    </tr>\n",
       "    <tr>\n",
       "      <th>5</th>\n",
       "      <td>5</td>\n",
       "      <td>shiv</td>\n",
       "      <td>34</td>\n",
       "      <td>76</td>\n",
       "      <td>NaN</td>\n",
       "    </tr>\n",
       "    <tr>\n",
       "      <th>6</th>\n",
       "      <td>6</td>\n",
       "      <td>priya</td>\n",
       "      <td>54</td>\n",
       "      <td>79</td>\n",
       "      <td>female</td>\n",
       "    </tr>\n",
       "    <tr>\n",
       "      <th>7</th>\n",
       "      <td>7</td>\n",
       "      <td>pritam</td>\n",
       "      <td>45</td>\n",
       "      <td>70</td>\n",
       "      <td>male</td>\n",
       "    </tr>\n",
       "    <tr>\n",
       "      <th>8</th>\n",
       "      <td>8</td>\n",
       "      <td>payal</td>\n",
       "      <td>48</td>\n",
       "      <td>78</td>\n",
       "      <td>female</td>\n",
       "    </tr>\n",
       "    <tr>\n",
       "      <th>9</th>\n",
       "      <td>9</td>\n",
       "      <td>siddhhi</td>\n",
       "      <td>39</td>\n",
       "      <td>77</td>\n",
       "      <td>female</td>\n",
       "    </tr>\n",
       "    <tr>\n",
       "      <th>10</th>\n",
       "      <td>10</td>\n",
       "      <td>nikhil</td>\n",
       "      <td>30</td>\n",
       "      <td>88</td>\n",
       "      <td>male</td>\n",
       "    </tr>\n",
       "  </tbody>\n",
       "</table>\n",
       "</div>"
      ],
      "text/plain": [
       "    st_id     name  age  marks  Gender\n",
       "0       1     rani   32     90  female\n",
       "1       2     raja   43     98    male\n",
       "2       1   shital   23     89     NaN\n",
       "3       3  shalini   24     90     NaN\n",
       "4       4      ram   43     87    male\n",
       "5       5     shiv   34     76     NaN\n",
       "6       6    priya   54     79  female\n",
       "7       7   pritam   45     70    male\n",
       "8       8    payal   48     78  female\n",
       "9       9  siddhhi   39     77  female\n",
       "10     10   nikhil   30     88    male"
      ]
     },
     "execution_count": 1,
     "metadata": {},
     "output_type": "execute_result"
    }
   ],
   "source": [
    "import pandas as pd\n",
    "df=pd.read_csv(\"st.csv\")\n",
    "df"
   ]
  },
  {
   "cell_type": "code",
   "execution_count": 3,
   "id": "5e5a7b79-fb2e-4e79-99c9-1fc2f711364c",
   "metadata": {},
   "outputs": [
    {
     "name": "stdout",
     "output_type": "stream",
     "text": [
      "    st_id   name    age  marks  Gender\n",
      "0   False  False  False  False   False\n",
      "1   False  False  False  False   False\n",
      "2   False  False  False  False    True\n",
      "3   False  False  False  False    True\n",
      "4   False  False  False  False   False\n",
      "5   False  False  False  False    True\n",
      "6   False  False  False  False   False\n",
      "7   False  False  False  False   False\n",
      "8   False  False  False  False   False\n",
      "9   False  False  False  False   False\n",
      "10  False  False  False  False   False\n"
     ]
    }
   ],
   "source": [
    "# Check for missing values\n",
    "missing_values = df.isna()\n",
    "print(missing_values)"
   ]
  },
  {
   "cell_type": "code",
   "execution_count": 4,
   "id": "599114a1-ee5a-40d2-967a-bc4244f0b726",
   "metadata": {},
   "outputs": [
    {
     "name": "stdout",
     "output_type": "stream",
     "text": [
      "    st_id   name    age  marks  Gender\n",
      "0   False  False  False  False   False\n",
      "1   False  False  False  False   False\n",
      "2   False  False  False  False    True\n",
      "3   False  False  False  False    True\n",
      "4   False  False  False  False   False\n",
      "5   False  False  False  False    True\n",
      "6   False  False  False  False   False\n",
      "7   False  False  False  False   False\n",
      "8   False  False  False  False   False\n",
      "9   False  False  False  False   False\n",
      "10  False  False  False  False   False\n"
     ]
    }
   ],
   "source": [
    "missing_values = df.isnull()\n",
    "print(missing_values)"
   ]
  },
  {
   "cell_type": "code",
   "execution_count": null,
   "id": "a1e20e5e-31fd-4503-a5d5-43669e3fb0ae",
   "metadata": {},
   "outputs": [],
   "source": [
    "Using notna() or notnull():\n",
    "These methods return the opposite of isna()/isnull(), showing True for non-missing values."
   ]
  },
  {
   "cell_type": "code",
   "execution_count": 5,
   "id": "144b87b2-15fd-49e6-ace5-f22d43b79e00",
   "metadata": {},
   "outputs": [
    {
     "name": "stdout",
     "output_type": "stream",
     "text": [
      "    st_id  name   age  marks  Gender\n",
      "0    True  True  True   True    True\n",
      "1    True  True  True   True    True\n",
      "2    True  True  True   True   False\n",
      "3    True  True  True   True   False\n",
      "4    True  True  True   True    True\n",
      "5    True  True  True   True   False\n",
      "6    True  True  True   True    True\n",
      "7    True  True  True   True    True\n",
      "8    True  True  True   True    True\n",
      "9    True  True  True   True    True\n",
      "10   True  True  True   True    True\n"
     ]
    }
   ],
   "source": [
    "not_miss = df.notna()\n",
    "print(not_miss)"
   ]
  },
  {
   "cell_type": "markdown",
   "id": "e7cd1423-4617-47da-b0da-395a49b1f417",
   "metadata": {},
   "source": [
    "Summarizing missing values using sum():\n",
    "To get a quick summary of the number of missing values in each column, you can sum the Boolean DataFrame returned by isna()."
   ]
  },
  {
   "cell_type": "code",
   "execution_count": 6,
   "id": "5d19b3c7-5839-4597-af19-0bcabda2f11b",
   "metadata": {},
   "outputs": [
    {
     "name": "stdout",
     "output_type": "stream",
     "text": [
      "st_id     0\n",
      "name      0\n",
      "age       0\n",
      "marks     0\n",
      "Gender    3\n",
      "dtype: int64\n"
     ]
    }
   ],
   "source": [
    "missing_summary = df.isna().sum()\n",
    "print(missing_summary)"
   ]
  },
  {
   "cell_type": "markdown",
   "id": "16572d21-7fe0-45f2-9acd-8871dd4d79c3",
   "metadata": {},
   "source": [
    "4.Using info():\n",
    "The info() method provides a concise summary of the DataFrame, including the number of non-null values in each column"
   ]
  },
  {
   "cell_type": "code",
   "execution_count": 7,
   "id": "78eee777-bd68-4aaf-9461-e44e736230f0",
   "metadata": {},
   "outputs": [
    {
     "name": "stdout",
     "output_type": "stream",
     "text": [
      "<class 'pandas.core.frame.DataFrame'>\n",
      "RangeIndex: 11 entries, 0 to 10\n",
      "Data columns (total 5 columns):\n",
      " #   Column  Non-Null Count  Dtype \n",
      "---  ------  --------------  ----- \n",
      " 0   st_id   11 non-null     int64 \n",
      " 1   name    11 non-null     object\n",
      " 2   age     11 non-null     int64 \n",
      " 3   marks   11 non-null     int64 \n",
      " 4   Gender  8 non-null      object\n",
      "dtypes: int64(3), object(2)\n",
      "memory usage: 572.0+ bytes\n"
     ]
    }
   ],
   "source": [
    "df.info()"
   ]
  },
  {
   "cell_type": "markdown",
   "id": "5819ca0d-e68a-4e29-b14d-f37eb7eded9b",
   "metadata": {},
   "source": [
    "5.Checking for any missing values in the entire DataFrame:\n",
    "To check if there are any missing values in the entire DataFrame, you can use isna().values.any()."
   ]
  },
  {
   "cell_type": "code",
   "execution_count": 9,
   "id": "02ed1598-4d9e-43ab-84bf-76583362f59e",
   "metadata": {},
   "outputs": [
    {
     "name": "stdout",
     "output_type": "stream",
     "text": [
      "True\n"
     ]
    }
   ],
   "source": [
    "any_missing = df.isna().values.any()\n",
    "print(any_missing)"
   ]
  },
  {
   "cell_type": "markdown",
   "id": "31f1ae4c-e7c5-43f3-8bdb-6b7ecf0c953c",
   "metadata": {},
   "source": [
    "Finding rows with missing values:\n",
    "You can filter the DataFrame to get rows with missing values using isna().any(axis=1).\n",
    "\n",
    "python"
   ]
  },
  {
   "cell_type": "code",
   "execution_count": 11,
   "id": "6d9beee0-07b0-45c9-9890-9906155051a4",
   "metadata": {},
   "outputs": [
    {
     "name": "stdout",
     "output_type": "stream",
     "text": [
      "   st_id     name  age  marks Gender\n",
      "2      1   shital   23     89    NaN\n",
      "3      3  shalini   24     90    NaN\n",
      "5      5     shiv   34     76    NaN\n"
     ]
    }
   ],
   "source": [
    "rows_with_missing = df[df.isna().any(axis=1)]\n",
    "print(rows_with_missing)"
   ]
  },
  {
   "cell_type": "code",
   "execution_count": null,
   "id": "5c0c4929-7afe-4db5-acfa-a701d3df304a",
   "metadata": {},
   "outputs": [],
   "source": []
  }
 ],
 "metadata": {
  "kernelspec": {
   "display_name": "Python 3 (ipykernel)",
   "language": "python",
   "name": "python3"
  },
  "language_info": {
   "codemirror_mode": {
    "name": "ipython",
    "version": 3
   },
   "file_extension": ".py",
   "mimetype": "text/x-python",
   "name": "python",
   "nbconvert_exporter": "python",
   "pygments_lexer": "ipython3",
   "version": "3.11.7"
  }
 },
 "nbformat": 4,
 "nbformat_minor": 5
}
